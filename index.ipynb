{
 "cells": [
  {
   "cell_type": "markdown",
   "metadata": {},
   "source": [
    "![y](image-2.png)\n",
    "\n",
    "***\n",
    "# Phase-4-Project: A Sentiment Analysis of Twitter Data for Apple and Google Products using Natural Language Processing (NLP) Techniques\n",
    "\n",
    "**Author**: Joseph Kinuthia Githinji\n",
    "\n",
    "**Student pace**: Full Time\n",
    "\n",
    "**Scheduled project review date/time**: 1 Week\n",
    "\n",
    "**Instructor name**: Mark Tiba\n",
    "***"
   ]
  },
  {
   "cell_type": "markdown",
   "metadata": {},
   "source": [
    "## Executive Summary\n",
    "***\n",
    "### Project Overview:\n",
    "This data science project entails sentiment analysis on Twitter data related to two tech giants, Apple and Google. The primary objective is to understand the prevailing sentiments expressed by Twitter users towards these companies' products and brands. By analyzing a dataset of tweets, it aims to provide valuable insights that could inform marketing strategies, guide product development, and enhance customer support.\n",
    "\n",
    "### Project Phases:\n",
    "\n",
    "* Introduction: The project began with an introduction that set the context for sentiment analysis and explained the significance of Twitter data in understanding public sentiment.\n",
    "\n",
    "* Business Understanding: It identified key stakeholders, including the marketing department, product development team, and customer support team, and highlighted how sentiment analysis could impact their strategies and operations.\n",
    "\n",
    "* Data Collection: This project's dataset was obtained from CrowdFlower, which included tweets related to various brands and products, including Apple and Google.\n",
    "\n",
    "* Data Preprocessing: Data preprocessing involved cleaning, tokenization, and vectorization of the text data. We also perform resampling to address class imbalance in sentiment labels.\n",
    "\n",
    "* Model Building and Evaluation: We experimented with various machine learning and deep learning models, including Random Forest, Multinomial Naive Bayes, Support Vector Classifier, and a Deep Neural Network. We evaluated these models using metrics such as accuracy, precision, recall, and F1-score.\n",
    "\n",
    "* Results: The project's findings included model performance metrics, classification reports, and confusion matrices for each model tested. The deep neural network model achieved the highest accuracy.\n",
    "\n",
    "* Conclusions: This section entails summarized findings of the project, emphasizing the significance of sentiment analysis in decision-making processes for marketing, product development, and customer support.\n",
    "\n",
    "* Recommendations: Brief recommendations are provided based on the project's findings, suggesting ways in which stakeholders could leverage sentiment analysis insights.\n",
    "  \n",
    "The project demonstrated the value of sentiment analysis in understanding public sentiment towards brands and products. Future work could include real-time analysis, emotion detection within sentiments, and further engagement with stakeholders to refine strategies based on ongoing sentiment insights.\n",
    "\n",
    "The project's findings can serve as a foundation for data-driven decision-making processes, enhancing marketing campaigns, guiding product improvements, and improving customer satisfaction.\n",
    "***"
   ]
  },
  {
   "cell_type": "markdown",
   "metadata": {},
   "source": [
    "\n",
    "***\n",
    "## <a id='toc1_2_'></a>[Introduction](#toc0_)\n",
    "In the ever-evolving digital age, social media platforms have emerged as a dynamic and influential medium through which individuals can freely express their thoughts, share their opinions, and openly convey their emotions. Among this digital landscape, Twitter distinguishes itself as an unparalleled source of raw, unfiltered data—a vibrant tapestry woven from the collective voices of millions around the world. Within this vast expanse of conversations and dialogues, lies a treasure trove of insights that illuminate the prevailing sentiments and attitudes of the public towards various brands and products.\n",
    "\n",
    "### A Focus on Sentiment Analysis\n",
    "In this transformative era, our data science project embarks on a journey into the heart of this digital realm, guided by the principles of sentiment analysis. We delve deep into the digital ocean of tweets, strategically navigating the ebb and flow of text data to uncover the underlying emotional currents. Our spotlight shines brightly on two iconic tech giants—Apple and Google—whose innovations have not only reshaped industries but have also left an indelible mark on the collective consciousness of society.\n",
    "\n",
    "### The Power of Twitter Data\n",
    "Twitter, with its real-time nature and widespread user engagement, serves as a real-time observatory of the digital zeitgeist. It captures the pulse of the moment, chronicling not only the latest news and trends but also the sentiments and emotions that define our interconnected world. This vast repository of text data encompasses a multitude of perspectives, ranging from praise and admiration to critique and discontent, providing a comprehensive view of how the public perceives and interacts with the world around them.\n",
    "\n",
    "## 2. Business Understanding\n",
    "### Stakeholders\n",
    "* Marketing Department:\n",
    "The marketing department plays a pivotal role in shaping the image and perception of Apple and Google products. Understanding how the public perceives these products on Twitter is crucial. The insights derived from sentiment analysis will empower the marketing team to fine-tune their campaigns, ensuring they resonate with the prevailing sentiment of the target audience. By aligning marketing efforts with the sentiments expressed by Twitter users, the department aims to enhance engagement and drive more effective outreach.\n",
    "\n",
    "* Product Development Team:\n",
    "The product development team is driven by a commitment to continuous improvement and innovation. To this end, they eagerly seek feedback from users. Sentiment analysis provides a valuable window into the minds of customers, revealing areas of satisfaction and concern. By tapping into the sentiments expressed on Twitter, the product development team gains a competitive advantage. Armed with these insights, they can identify specific pain points and areas for enhancement, thus refining existing products and conceiving new ones that better align with customer expectations.\n",
    "\n",
    "* Customer Support Team:\n",
    "The customer support team is the front line in addressing customer concerns and ensuring a positive user experience. Proactively addressing issues raised by customers on Twitter can be a game-changer in customer satisfaction. By monitoring and responding to negative sentiment in real-time, the customer support team can not only resolve problems promptly but also demonstrate a commitment to customer care. This approach fosters brand loyalty and helps maintain a high level of customer satisfaction.\n",
    "\n",
    "### Direct Impact\n",
    "* Marketing Strategies:\n",
    "The sentiment analysis conducted as part of this project directly impacts the marketing department's strategies. Armed with insights into how Twitter users perceive Apple and Google products, the marketing team can craft campaigns that resonate more effectively with the prevailing sentiment. This alignment ensures that marketing efforts are not only more targeted but also more likely to yield positive results.\n",
    "\n",
    "* Product Enhancements:\n",
    "For the product development team, the sentiment analysis findings offer a treasure trove of insights. By analyzing tweets, they can identify both strengths and weaknesses in current products. This information enables data-driven decision-making in product improvement and innovation. The team can prioritize enhancements that address specific pain points voiced by users on Twitter, thereby ensuring that product updates align with customer expectations.\n",
    "\n",
    "* Customer Satisfaction:\n",
    "The real-time monitoring and response to negative sentiment on Twitter directly contribute to customer satisfaction. By addressing customer concerns promptly, the customer support team demonstrates attentiveness and a commitment to problem resolution. This not only mitigates potential issues but also fosters goodwill among customers, leading to enhanced brand loyalty and overall customer satisfaction.\n",
    "\n",
    "### Business Problem(s) Solved\n",
    "#### The Real-World Problem:\n",
    "The tech industry, marked by relentless innovation and competition, continuously strives to meet the evolving needs and preferences of its customers. The success of companies like Apple and Google hinges not only on the quality of their products but also on the perception and sentiments of their user base. Public opinion, when harnessed effectively, can serve as a powerful tool to drive marketing strategies, steer product development, and enhance customer satisfaction.\n",
    "\n",
    "The primary business problem this project addresses is the need to understand and harness public sentiment effectively. Specifically, it tackles the following challenges:\n",
    "\n",
    "* Understanding Public Sentiment: The project aims to decipher the sentiment—whether positive, negative, or neutral—associated with tweets related to Apple and Google products. This understanding is vital for making informed decisions and strategies.\n",
    "\n",
    "* Aligning Marketing Campaigns: By aligning marketing campaigns with the prevailing sentiment, the project assists in crafting targeted and effective marketing strategies that resonate with the target audience.\n",
    "\n",
    "* Guiding Product Development: Sentiment analysis provides insights into user satisfaction and areas of concern. These insights guide product development, ensuring that updates and innovations meet customer expectations.\n",
    "\n",
    "* Enhancing Customer Support: Real-time monitoring of Twitter sentiment allows for prompt addressing of customer concerns, leading to improved customer satisfaction and loyalty.\n",
    "\n",
    "### Scope of the Project\n",
    "The scope of this project encompasses the development of a robust sentiment analysis model that can classify tweets related to Apple and Google products into one of three categories: positive, negative, or neutral. The project aims to achieve a Proof of Concept (POC) to demonstrate the feasibility and value of sentiment analysis within a reasonable timeframe.\n",
    "\n",
    "### Outside the Scope\n",
    "Certain aspects fall outside the scope of this initial project:\n",
    "\n",
    "* Detailed Sentiment Analysis: A more nuanced analysis, such as identifying specific emotions within positive or negative sentiments, is beyond the current scope and could be explored in future phases.\n",
    "\n",
    "* Real-Time Analysis: Real-time analysis and immediate response to tweets are not within the scope of this project, which focuses on batch processing and analysis.\n",
    "\n",
    "### Data Sources\n",
    "The primary data source for this project is a dataset obtained from CrowdFlower, a platform known for crowd-sourced data labeling and annotation. The dataset, added to CrowdFlower on August 30, 2013, was made available to the public for educational and research purposes.\n",
    "\n",
    "Contributors participating in this data collection task evaluated tweets related to various brands and products, including but not limited to Apple and Google. Each contributor was presented with a tweet and tasked with determining the emotional tone expressed within the tweet. Specifically, contributors were asked to classify whether the tweet expressed a positive, negative, or no emotion towards a brand and/or product.\n",
    "\n",
    "The dataset is available for download from the CrowdFlower platform, providing researchers and data scientists with access to a valuable resource for sentiment analysis and related NLP tasks. It can be accessed through the following URL on the [Dataworld platform](https://data.world/crowdflower/brands-and-product-emotions/workspace/file?filename=judge-1377884607_tweet_product_company.csv).\n",
    "\n",
    "### Expected Timeline\n",
    "The project timeline is designed to achieve a Proof of Concept (POC) within a few weeks. While the exact timeline may vary, the objective is to provide stakeholders with timely insights and demonstrate the value of sentiment analysis in a relatively short period.\n",
    "\n",
    "### Stakeholder Alignment\n",
    "Effective communication and alignment with stakeholders are crucial throughout the project's lifecycle. Regular updates and collaboration with the marketing department, product development team, and customer support team will ensure that the sentiment analysis aligns with their goals and expectations.\n",
    "\n",
    "### Problem Statement\n",
    "The primary challenge lies in building a robust sentiment analysis model capable of accurately classifying tweets about Apple and Google products as positive, negative, or neutral. This requires tackling various natural language processing (NLP) challenges, including text preprocessing, feature extraction, and model training.\n",
    "\n",
    "### Objective\n",
    "The project's primary objective is to develop a Proof of Concept (POC) sentiment analysis model that can effectively classify tweets related to Apple and Google products. This model will serve as a foundational step towards harnessing public sentiment for improved decision-making.\n",
    "\n",
    "### Benefits\n",
    "The successful execution of this project offers several tangible benefits:\n",
    "\n",
    "* Improved Marketing Strategies: The sentiment analysis model will empower the marketing department to craft more targeted and effective campaigns, enhancing outreach and engagement.\n",
    "\n",
    "* Enhanced Product Development: Insights from sentiment analysis will guide product development, leading to products that better align with customer expectations.\n",
    "\n",
    "* Heightened Customer Satisfaction: By addressing negative sentiment proactively, the customer support team can improve customer satisfaction and foster brand loyalty.\n",
    "\n",
    "### Research Questions\n",
    "To guide the project and achieve its objectives, the following research questions will be addressed:\n",
    "\n",
    "1. How can sentiment analysis be effectively applied to Twitter data related to Apple and Google products?\n",
    "2. What are the prevailing sentiments expressed in tweets about Apple and Google products on Twitter?\n",
    "3. How can the insights from sentiment analysis benefit the marketing department, product development team, and customer support team?\n",
    "4. How accurately can a sentiment analysis model classify tweets as positive, negative, or neutral, and what improvements can be made to enhance its performance?\n",
    "***"
   ]
  },
  {
   "cell_type": "markdown",
   "metadata": {},
   "source": []
  },
  {
   "cell_type": "markdown",
   "metadata": {},
   "source": [
    "## 2. Data Understanding\n",
    "***\n",
    "### Data Sources\n",
    "The primary data source for this project is a meticulously curated dataset obtained from CrowdFlower, a renowned platform for crowd-sourced data labeling and annotation. This dataset, labelled **judge_1377884607_tweet_product_company** was added to CrowdFlower on August 30, 2013, and is comprised of a total of 9,093 data rows. The dataset was made accessible to the public, aligning perfectly with the educational and research objectives of this project.\n",
    "\n",
    "### Suitability of the Data\n",
    "The choice of this dataset is underpinned by several factors that render it highly suitable for the project's goals:\n",
    "\n",
    "* Relevance to Problem: The dataset consists of tweets that have been assessed by contributors for their sentiment towards various brands and products. Given that the project's core objective is sentiment analysis of tweets related to Apple and Google products, this dataset aligns seamlessly with the problem of interest.\n",
    "\n",
    "* Human-Annotated: The dataset benefits from human annotation, where contributors have evaluated each tweet, determining whether it expresses positive, negative, or no emotion towards a brand or product. Additionally, when emotion is expressed, contributors have specified the target brand or product. This human-annotated aspect greatly enhances the quality and reliability of the data.\n",
    "\n",
    "* Diversity: The dataset encompasses a diverse range of tweets that cover not only Apple and Google products but also other brands and products. This diversity contributes to a more comprehensive understanding of how public sentiment varies across different entities.\n",
    "\n",
    "### Dataset Size and Descriptive Statistics\n",
    "The dataset comprises 9,093 rows, each representing a unique tweet. For this analysis, we focus on the following key features:\n",
    "\n",
    "***tweet_text***: The text of the tweet, which serves as the primary source of data for sentiment analysis.\n",
    "\n",
    "***emotion_in_tweet_is_directed_at***: This feature specifies the brand or product towards which the tweet's emotion is directed.\n",
    "\n",
    "***is_there_an_emotion_directed_at_a_brand_or_product***: This categorical feature classifies the sentiment of the tweet as either positive, negative, or no emotion towards a brand or product.\n",
    "\n",
    "Let's delve into the descriptive statistics for the categorical feature, 'is_there_an_emotion_directed_at_a_brand_or_product':\n",
    "\n",
    "* Positive emotion: The dataset includes tweets expressing positive sentiment towards a brand or product.\n",
    "* Negative emotion: The dataset contains tweets indicating negative sentiment towards a brand or product.\n",
    "* No emotion toward brand or product: Some tweets in the dataset do not express any emotion towards a brand or product.\n",
    "The breakdown of the dataset into these categories provides valuable insights into the distribution of sentiment.\n",
    "\n",
    "### Justification of Feature Inclusion\n",
    "The features included in the analysis are integral to addressing the project's objectives:\n",
    "\n",
    "* tweet_text: This feature serves as the primary text data that will be analyzed for sentiment. It provides the textual context for sentiment classification.\n",
    "  \n",
    "* emotion_in_tweet_is_directed_at: Identifying the target brand or product of the emotion expressed in the tweet is essential for understanding which entities are most frequently associated with positive or negative sentiment.\n",
    "  \n",
    "* is_there_an_emotion_directed_at_a_brand_or_product: This categorical feature is the crux of the sentiment analysis, categorizing tweets into positive, negative, or neutral sentiment categories. It directly addresses the project's primary problem.\n",
    "  \n",
    "### Limitations of the Data\n",
    "While the dataset holds immense value for sentiment analysis, it's essential to acknowledge certain limitations that may have implications for the project:\n",
    "\n",
    "* Temporal Aspect: The dataset was collected in 2013. Twitter data is known to evolve rapidly, and sentiment may change over time. Therefore, the sentiments expressed in tweets from 2013 may not fully reflect the current sentiment towards Apple and Google products.\n",
    "\n",
    "* Sample Bias: Crowd-sourced data collection may introduce bias, as contributors' interpretations of sentiment can vary. Additionally, the dataset may not be representative of the entire Twitter population.\n",
    "\n",
    "* Limited Features: The dataset primarily consists of text data, which is ideal for NLP tasks like sentiment analysis. However, other contextual information, such as user demographics or tweet engagement metrics, is not available and could provide further insights.\n",
    "\n",
    "* Multiclass Classification: The dataset focuses on three sentiment categories (positive, negative, and neutral). While this simplifies the analysis, it may not capture more nuanced emotions that users express in tweets.\n",
    "\n",
    "It is essential to acknowledge these limitations that warrant consideration when interpreting the project's results and drawing conclusions. They are crucial to keep in mind throughout the project, acting as signposts to guide the interpretation of sentiment analysis outcomes. They underscore the need for cautious and context-aware conclusions based on the data's inherent constraints and characteristics.\n",
    "***"
   ]
  },
  {
   "cell_type": "markdown",
   "metadata": {},
   "source": []
  },
  {
   "cell_type": "markdown",
   "metadata": {},
   "source": [
    "## 3. Data Preparation\n",
    "***\n",
    "In this section, we outline the steps taken to prepare the raw data for analysis. Proper data preparation is essential for ensuring that the dataset is in a suitable format and quality for downstream analysis. Below, we provide instructions, code, comments, and justifications for each data preparation step.\n",
    "***"
   ]
  },
  {
   "cell_type": "markdown",
   "metadata": {},
   "source": [
    "### Step 1. Importing Relevant Packages\n",
    "***\n",
    "Below, we start with these imports cover a wide range of data manipulation, NLP, machine learning, and visualization tasks, providing the necessary tools to perform sentiment analysis on the dataset.\n",
    "***"
   ]
  },
  {
   "cell_type": "code",
   "execution_count": 6,
   "metadata": {},
   "outputs": [
    {
     "name": "stderr",
     "output_type": "stream",
     "text": [
      "[nltk_data] Downloading package stopwords to\n",
      "[nltk_data]     C:\\Users\\kinut\\AppData\\Roaming\\nltk_data...\n",
      "[nltk_data]   Package stopwords is already up-to-date!\n",
      "[nltk_data] Downloading package wordnet to\n",
      "[nltk_data]     C:\\Users\\kinut\\AppData\\Roaming\\nltk_data...\n",
      "[nltk_data]   Package wordnet is already up-to-date!\n"
     ]
    },
    {
     "data": {
      "text/plain": [
       "True"
      ]
     },
     "execution_count": 6,
     "metadata": {},
     "output_type": "execute_result"
    }
   ],
   "source": [
    "# Data manipulation and analysis\n",
    "import pandas as pd\n",
    "import numpy as np\n",
    "from collections import defaultdict\n",
    "\n",
    "# Data visualization\n",
    "import matplotlib.pyplot as plt\n",
    "import seaborn as sns\n",
    "\n",
    "# Natural language processing (NLP)\n",
    "import re\n",
    "import nltk\n",
    "from nltk.corpus import stopwords\n",
    "from nltk.corpus import wordnet\n",
    "from nltk.stem import WordNetLemmatizer\n",
    "from nltk.tokenize import word_tokenize, regexp_tokenize, RegexpTokenizer\n",
    "from nltk import pos_tag\n",
    "from nltk.stem import WordNetLemmatizer\n",
    "from nltk.probability import FreqDist\n",
    "\n",
    "# Machine learning\n",
    "from sklearn.model_selection import train_test_split\n",
    "from sklearn.feature_extraction.text import TfidfVectorizer, CountVectorizer\n",
    "from sklearn.ensemble import RandomForestClassifier\n",
    "from sklearn.naive_bayes import MultinomialNB\n",
    "from sklearn.metrics import accuracy_score, precision_score, confusion_matrix\n",
    "from sklearn.linear_model import LogisticRegression\n",
    "from sklearn.svm import SVC\n",
    "from sklearn.metrics import classification_report, f1_score\n",
    "from sklearn.model_selection import GridSearchCV\n",
    "\n",
    "# Deep learning imports \n",
    "import tensorflow as tf\n",
    "from tensorflow.keras.models import Sequential\n",
    "from tensorflow.keras.layers import Embedding, LSTM, Dense, Dropout\n",
    "\n",
    "\n",
    "# Set the style for data visualization\n",
    "sns.set(style='darkgrid')\n",
    "\n",
    "# Download NLTK stopwords \n",
    "nltk.download('stopwords')\n",
    "\n",
    "# Download WordNet data \n",
    "nltk.download('wordnet')"
   ]
  },
  {
   "cell_type": "code",
   "execution_count": 5,
   "metadata": {},
   "outputs": [
    {
     "name": "stdout",
     "output_type": "stream",
     "text": [
      "Collecting tensorflow\n",
      "  Downloading tensorflow-2.13.0-cp310-cp310-win_amd64.whl (1.9 kB)\n",
      "Collecting tensorflow-intel==2.13.0\n",
      "  Downloading tensorflow_intel-2.13.0-cp310-cp310-win_amd64.whl (276.5 MB)\n",
      "     -------------------------------------- 276.5/276.5 MB 2.5 MB/s eta 0:00:00\n",
      "Collecting tensorboard<2.14,>=2.13\n",
      "  Using cached tensorboard-2.13.0-py3-none-any.whl (5.6 MB)\n",
      "Requirement already satisfied: h5py>=2.9.0 in c:\\users\\kinut\\anaconda3\\lib\\site-packages (from tensorflow-intel==2.13.0->tensorflow) (3.7.0)\n",
      "Requirement already satisfied: six>=1.12.0 in c:\\users\\kinut\\anaconda3\\lib\\site-packages (from tensorflow-intel==2.13.0->tensorflow) (1.16.0)\n",
      "Collecting libclang>=13.0.0\n",
      "  Using cached libclang-16.0.6-py2.py3-none-win_amd64.whl (24.4 MB)\n",
      "Collecting tensorflow-estimator<2.14,>=2.13.0\n",
      "  Using cached tensorflow_estimator-2.13.0-py2.py3-none-any.whl (440 kB)\n",
      "Collecting flatbuffers>=23.1.21\n",
      "  Using cached flatbuffers-23.5.26-py2.py3-none-any.whl (26 kB)\n",
      "Collecting google-pasta>=0.1.1\n",
      "  Using cached google_pasta-0.2.0-py3-none-any.whl (57 kB)\n",
      "Requirement already satisfied: numpy<=1.24.3,>=1.22 in c:\\users\\kinut\\anaconda3\\lib\\site-packages (from tensorflow-intel==2.13.0->tensorflow) (1.23.5)\n",
      "Collecting keras<2.14,>=2.13.1\n",
      "  Using cached keras-2.13.1-py3-none-any.whl (1.7 MB)\n",
      "Requirement already satisfied: packaging in c:\\users\\kinut\\anaconda3\\lib\\site-packages (from tensorflow-intel==2.13.0->tensorflow) (22.0)\n",
      "Requirement already satisfied: setuptools in c:\\users\\kinut\\anaconda3\\lib\\site-packages (from tensorflow-intel==2.13.0->tensorflow) (65.6.3)\n",
      "Requirement already satisfied: wrapt>=1.11.0 in c:\\users\\kinut\\anaconda3\\lib\\site-packages (from tensorflow-intel==2.13.0->tensorflow) (1.14.1)\n",
      "Collecting opt-einsum>=2.3.2\n",
      "  Using cached opt_einsum-3.3.0-py3-none-any.whl (65 kB)\n",
      "Collecting grpcio<2.0,>=1.24.3\n",
      "  Downloading grpcio-1.58.0-cp310-cp310-win_amd64.whl (4.3 MB)\n",
      "     ---------------------------------------- 4.3/4.3 MB 2.2 MB/s eta 0:00:00\n",
      "Collecting astunparse>=1.6.0\n",
      "  Using cached astunparse-1.6.3-py2.py3-none-any.whl (12 kB)\n",
      "Collecting absl-py>=1.0.0\n",
      "  Using cached absl_py-1.4.0-py3-none-any.whl (126 kB)\n",
      "Requirement already satisfied: typing-extensions<4.6.0,>=3.6.6 in c:\\users\\kinut\\anaconda3\\lib\\site-packages (from tensorflow-intel==2.13.0->tensorflow) (4.4.0)\n",
      "Collecting gast<=0.4.0,>=0.2.1\n",
      "  Downloading gast-0.4.0-py3-none-any.whl (9.8 kB)\n",
      "Collecting protobuf!=4.21.0,!=4.21.1,!=4.21.2,!=4.21.3,!=4.21.4,!=4.21.5,<5.0.0dev,>=3.20.3\n",
      "  Downloading protobuf-4.24.3-cp310-abi3-win_amd64.whl (430 kB)\n",
      "     -------------------------------------- 430.5/430.5 kB 2.1 MB/s eta 0:00:00\n",
      "Collecting tensorflow-io-gcs-filesystem>=0.23.1\n",
      "  Downloading tensorflow_io_gcs_filesystem-0.31.0-cp310-cp310-win_amd64.whl (1.5 MB)\n",
      "     ---------------------------------------- 1.5/1.5 MB 1.5 MB/s eta 0:00:00\n",
      "Collecting termcolor>=1.1.0\n",
      "  Downloading termcolor-2.3.0-py3-none-any.whl (6.9 kB)\n",
      "Requirement already satisfied: wheel<1.0,>=0.23.0 in c:\\users\\kinut\\anaconda3\\lib\\site-packages (from astunparse>=1.6.0->tensorflow-intel==2.13.0->tensorflow) (0.38.4)\n",
      "Collecting google-auth<3,>=1.6.3\n",
      "  Downloading google_auth-2.23.0-py2.py3-none-any.whl (181 kB)\n",
      "     -------------------------------------- 181.4/181.4 kB 1.8 MB/s eta 0:00:00\n",
      "Collecting google-auth-oauthlib<1.1,>=0.5\n",
      "  Using cached google_auth_oauthlib-1.0.0-py2.py3-none-any.whl (18 kB)\n",
      "Requirement already satisfied: markdown>=2.6.8 in c:\\users\\kinut\\anaconda3\\lib\\site-packages (from tensorboard<2.14,>=2.13->tensorflow-intel==2.13.0->tensorflow) (3.4.1)\n",
      "Requirement already satisfied: requests<3,>=2.21.0 in c:\\users\\kinut\\anaconda3\\lib\\site-packages (from tensorboard<2.14,>=2.13->tensorflow-intel==2.13.0->tensorflow) (2.28.1)\n",
      "Requirement already satisfied: werkzeug>=1.0.1 in c:\\users\\kinut\\anaconda3\\lib\\site-packages (from tensorboard<2.14,>=2.13->tensorflow-intel==2.13.0->tensorflow) (2.2.2)\n",
      "Collecting tensorboard-data-server<0.8.0,>=0.7.0\n",
      "  Using cached tensorboard_data_server-0.7.1-py3-none-any.whl (2.4 kB)\n",
      "Requirement already satisfied: urllib3<2.0 in c:\\users\\kinut\\anaconda3\\lib\\site-packages (from google-auth<3,>=1.6.3->tensorboard<2.14,>=2.13->tensorflow-intel==2.13.0->tensorflow) (1.26.14)\n",
      "Requirement already satisfied: pyasn1-modules>=0.2.1 in c:\\users\\kinut\\anaconda3\\lib\\site-packages (from google-auth<3,>=1.6.3->tensorboard<2.14,>=2.13->tensorflow-intel==2.13.0->tensorflow) (0.2.8)\n",
      "Collecting cachetools<6.0,>=2.0.0\n",
      "  Downloading cachetools-5.3.1-py3-none-any.whl (9.3 kB)\n",
      "Collecting rsa<5,>=3.1.4\n",
      "  Downloading rsa-4.9-py3-none-any.whl (34 kB)\n",
      "Collecting requests-oauthlib>=0.7.0\n",
      "  Downloading requests_oauthlib-1.3.1-py2.py3-none-any.whl (23 kB)\n",
      "Requirement already satisfied: charset-normalizer<3,>=2 in c:\\users\\kinut\\anaconda3\\lib\\site-packages (from requests<3,>=2.21.0->tensorboard<2.14,>=2.13->tensorflow-intel==2.13.0->tensorflow) (2.0.4)\n",
      "Requirement already satisfied: idna<4,>=2.5 in c:\\users\\kinut\\anaconda3\\lib\\site-packages (from requests<3,>=2.21.0->tensorboard<2.14,>=2.13->tensorflow-intel==2.13.0->tensorflow) (3.4)\n",
      "Requirement already satisfied: certifi>=2017.4.17 in c:\\users\\kinut\\anaconda3\\lib\\site-packages (from requests<3,>=2.21.0->tensorboard<2.14,>=2.13->tensorflow-intel==2.13.0->tensorflow) (2022.12.7)\n",
      "Requirement already satisfied: MarkupSafe>=2.1.1 in c:\\users\\kinut\\anaconda3\\lib\\site-packages (from werkzeug>=1.0.1->tensorboard<2.14,>=2.13->tensorflow-intel==2.13.0->tensorflow) (2.1.1)\n",
      "Requirement already satisfied: pyasn1<0.5.0,>=0.4.6 in c:\\users\\kinut\\anaconda3\\lib\\site-packages (from pyasn1-modules>=0.2.1->google-auth<3,>=1.6.3->tensorboard<2.14,>=2.13->tensorflow-intel==2.13.0->tensorflow) (0.4.8)\n",
      "Collecting oauthlib>=3.0.0\n",
      "  Downloading oauthlib-3.2.2-py3-none-any.whl (151 kB)\n",
      "     -------------------------------------- 151.7/151.7 kB 1.5 MB/s eta 0:00:00\n",
      "Installing collected packages: libclang, flatbuffers, termcolor, tensorflow-io-gcs-filesystem, tensorflow-estimator, tensorboard-data-server, rsa, protobuf, opt-einsum, oauthlib, keras, grpcio, google-pasta, gast, cachetools, astunparse, absl-py, requests-oauthlib, google-auth, google-auth-oauthlib, tensorboard, tensorflow-intel, tensorflow\n",
      "Successfully installed absl-py-1.4.0 astunparse-1.6.3 cachetools-5.3.1 flatbuffers-23.5.26 gast-0.4.0 google-auth-2.23.0 google-auth-oauthlib-1.0.0 google-pasta-0.2.0 grpcio-1.58.0 keras-2.13.1 libclang-16.0.6 oauthlib-3.2.2 opt-einsum-3.3.0 protobuf-4.24.3 requests-oauthlib-1.3.1 rsa-4.9 tensorboard-2.13.0 tensorboard-data-server-0.7.1 tensorflow-2.13.0 tensorflow-estimator-2.13.0 tensorflow-intel-2.13.0 tensorflow-io-gcs-filesystem-0.31.0 termcolor-2.3.0\n"
     ]
    }
   ],
   "source": [
    "!pip install tensorflow\n",
    "\n",
    "\n"
   ]
  },
  {
   "cell_type": "markdown",
   "metadata": {},
   "source": [
    "### Step 2: Loading the Dataset\n",
    "***\n",
    "Loading the dataset is the initial step in data preparation. We use the Pandas library to read the CSV file, specifying the 'latin-1' encoding to handle any character encoding issues that may arise. This action ensures that the dataset is available for further processing.\n",
    "***"
   ]
  },
  {
   "cell_type": "code",
   "execution_count": 7,
   "metadata": {},
   "outputs": [],
   "source": [
    "# Load the raw dataset into a Pandas DataFrame\n",
    "data = pd.read_csv('judge-1377884607_tweet_product_company.csv', encoding='latin-1')"
   ]
  },
  {
   "cell_type": "markdown",
   "metadata": {},
   "source": [
    "### Step 2: Exploring the Dataset"
   ]
  },
  {
   "cell_type": "code",
   "execution_count": 8,
   "metadata": {},
   "outputs": [
    {
     "data": {
      "text/html": [
       "<div>\n",
       "<style scoped>\n",
       "    .dataframe tbody tr th:only-of-type {\n",
       "        vertical-align: middle;\n",
       "    }\n",
       "\n",
       "    .dataframe tbody tr th {\n",
       "        vertical-align: top;\n",
       "    }\n",
       "\n",
       "    .dataframe thead th {\n",
       "        text-align: right;\n",
       "    }\n",
       "</style>\n",
       "<table border=\"1\" class=\"dataframe\">\n",
       "  <thead>\n",
       "    <tr style=\"text-align: right;\">\n",
       "      <th></th>\n",
       "      <th>tweet_text</th>\n",
       "      <th>emotion_in_tweet_is_directed_at</th>\n",
       "      <th>is_there_an_emotion_directed_at_a_brand_or_product</th>\n",
       "    </tr>\n",
       "  </thead>\n",
       "  <tbody>\n",
       "    <tr>\n",
       "      <th>0</th>\n",
       "      <td>.@wesley83 I have a 3G iPhone. After 3 hrs twe...</td>\n",
       "      <td>iPhone</td>\n",
       "      <td>Negative emotion</td>\n",
       "    </tr>\n",
       "    <tr>\n",
       "      <th>1</th>\n",
       "      <td>@jessedee Know about @fludapp ? Awesome iPad/i...</td>\n",
       "      <td>iPad or iPhone App</td>\n",
       "      <td>Positive emotion</td>\n",
       "    </tr>\n",
       "    <tr>\n",
       "      <th>2</th>\n",
       "      <td>@swonderlin Can not wait for #iPad 2 also. The...</td>\n",
       "      <td>iPad</td>\n",
       "      <td>Positive emotion</td>\n",
       "    </tr>\n",
       "    <tr>\n",
       "      <th>3</th>\n",
       "      <td>@sxsw I hope this year's festival isn't as cra...</td>\n",
       "      <td>iPad or iPhone App</td>\n",
       "      <td>Negative emotion</td>\n",
       "    </tr>\n",
       "    <tr>\n",
       "      <th>4</th>\n",
       "      <td>@sxtxstate great stuff on Fri #SXSW: Marissa M...</td>\n",
       "      <td>Google</td>\n",
       "      <td>Positive emotion</td>\n",
       "    </tr>\n",
       "    <tr>\n",
       "      <th>...</th>\n",
       "      <td>...</td>\n",
       "      <td>...</td>\n",
       "      <td>...</td>\n",
       "    </tr>\n",
       "    <tr>\n",
       "      <th>9088</th>\n",
       "      <td>Ipad everywhere. #SXSW {link}</td>\n",
       "      <td>iPad</td>\n",
       "      <td>Positive emotion</td>\n",
       "    </tr>\n",
       "    <tr>\n",
       "      <th>9089</th>\n",
       "      <td>Wave, buzz... RT @mention We interrupt your re...</td>\n",
       "      <td>NaN</td>\n",
       "      <td>No emotion toward brand or product</td>\n",
       "    </tr>\n",
       "    <tr>\n",
       "      <th>9090</th>\n",
       "      <td>Google's Zeiger, a physician never reported po...</td>\n",
       "      <td>NaN</td>\n",
       "      <td>No emotion toward brand or product</td>\n",
       "    </tr>\n",
       "    <tr>\n",
       "      <th>9091</th>\n",
       "      <td>Some Verizon iPhone customers complained their...</td>\n",
       "      <td>NaN</td>\n",
       "      <td>No emotion toward brand or product</td>\n",
       "    </tr>\n",
       "    <tr>\n",
       "      <th>9092</th>\n",
       "      <td>Ï¡Ïàü_ÊÎÒ£Áââ_£â_ÛâRT @...</td>\n",
       "      <td>NaN</td>\n",
       "      <td>No emotion toward brand or product</td>\n",
       "    </tr>\n",
       "  </tbody>\n",
       "</table>\n",
       "<p>9093 rows × 3 columns</p>\n",
       "</div>"
      ],
      "text/plain": [
       "                                             tweet_text  \\\n",
       "0     .@wesley83 I have a 3G iPhone. After 3 hrs twe...   \n",
       "1     @jessedee Know about @fludapp ? Awesome iPad/i...   \n",
       "2     @swonderlin Can not wait for #iPad 2 also. The...   \n",
       "3     @sxsw I hope this year's festival isn't as cra...   \n",
       "4     @sxtxstate great stuff on Fri #SXSW: Marissa M...   \n",
       "...                                                 ...   \n",
       "9088                      Ipad everywhere. #SXSW {link}   \n",
       "9089  Wave, buzz... RT @mention We interrupt your re...   \n",
       "9090  Google's Zeiger, a physician never reported po...   \n",
       "9091  Some Verizon iPhone customers complained their...   \n",
       "9092  Ï¡Ïàü_ÊÎÒ£Áââ_£â_ÛâRT @...   \n",
       "\n",
       "     emotion_in_tweet_is_directed_at  \\\n",
       "0                             iPhone   \n",
       "1                 iPad or iPhone App   \n",
       "2                               iPad   \n",
       "3                 iPad or iPhone App   \n",
       "4                             Google   \n",
       "...                              ...   \n",
       "9088                            iPad   \n",
       "9089                             NaN   \n",
       "9090                             NaN   \n",
       "9091                             NaN   \n",
       "9092                             NaN   \n",
       "\n",
       "     is_there_an_emotion_directed_at_a_brand_or_product  \n",
       "0                                      Negative emotion  \n",
       "1                                      Positive emotion  \n",
       "2                                      Positive emotion  \n",
       "3                                      Negative emotion  \n",
       "4                                      Positive emotion  \n",
       "...                                                 ...  \n",
       "9088                                   Positive emotion  \n",
       "9089                 No emotion toward brand or product  \n",
       "9090                 No emotion toward brand or product  \n",
       "9091                 No emotion toward brand or product  \n",
       "9092                 No emotion toward brand or product  \n",
       "\n",
       "[9093 rows x 3 columns]"
      ]
     },
     "execution_count": 8,
     "metadata": {},
     "output_type": "execute_result"
    }
   ],
   "source": [
    "# Display the rows of the dataset to get an overview\n",
    "data"
   ]
  },
  {
   "cell_type": "markdown",
   "metadata": {},
   "source": [
    "***\n",
    "Exploring the dataset at the beginning allows us to understand its structure and content. This helps in making informed decisions about data cleaning and preprocessing steps.\n",
    "The dataset comprises Twitter data, with each row representing a tweet along with associated information. \n",
    "* It includes columns such as **tweet_text**, which contains the text content of the tweets, **emotion_in_tweet_is_directed_at**, specifying the brand or product to which the tweet's emotion is directed, and **is_there_an_emotion_directed_at_a_brand_or_product**, categorizing the sentiment expressed in each tweet as positive, negative, or neutral towards a brand or product. \n",
    "* The dataset appears to encompass a diverse range of emotions and sentiments, potentially related to various brands and products. The sentiment labels will serve as the target variable for sentiment analysis, making this dataset well-suited for exploring public sentiment towards different entities. \n",
    "* However, further exploration of the entire dataset is necessary to understand its size, sentiment distribution, and the specific brands or products covered, enabling more informed data preparation and analysis.\n",
    "\n",
    "***"
   ]
  },
  {
   "cell_type": "markdown",
   "metadata": {},
   "source": [
    "### Step 3: Handling Missing Values"
   ]
  },
  {
   "cell_type": "code",
   "execution_count": 9,
   "metadata": {},
   "outputs": [
    {
     "name": "stdout",
     "output_type": "stream",
     "text": [
      "tweet_text                                               1\n",
      "emotion_in_tweet_is_directed_at                       5802\n",
      "is_there_an_emotion_directed_at_a_brand_or_product       0\n",
      "dtype: int64\n"
     ]
    }
   ],
   "source": [
    "# Check for missing values in the dataset\n",
    "missing_values = data.isnull().sum()\n",
    "print(missing_values)"
   ]
  },
  {
   "cell_type": "markdown",
   "metadata": {},
   "source": [
    "***\n",
    "Upon initial inspection of our dataset, it was found that there were missing values in the emotion_in_tweet_is_directed_at column. These missing values represented tweets that lacked explicit sentiment information toward any brand or product. As part of the data preprocessing phase, it is ideal to address these missing values to ensure a comprehensive and well-handled dataset for sentiment analysis.\n",
    "\n",
    "* Retaining \"No Emotion\" as a Category: In the first step, we chose to keep \"No Emotion toward brand or product\" as a valid category in the emotion_in_tweet_is_directed_at column. This decision was motivated by the need to distinguish between tweets expressing neutral sentiments and those genuinely lacking sentiment labels. By retaining this category, we preserve the nuances of neutral sentiments, which could be valuable for our analysis.\n",
    "\n",
    "* Imputing Missing Values with \"Unknown\": In the second step, we implemented a data imputation strategy by filling the missing values in the emotion_in_tweet_is_directed_at column with the placeholder category \"Unknown.\" This approach ensures that all data points are retained while clearly indicating that these tweets lack specific sentiment information. Imputing with \"Unknown\" maintains dataset integrity and transparency in handling missing sentiment labels.\n",
    "\n",
    "***"
   ]
  },
  {
   "cell_type": "markdown",
   "metadata": {},
   "source": [
    "#### Dropping Rows with Missing tweet_text\n",
    "***\n",
    "It is ideal to drop rows with missing tweet_text because these rows represent tweets for which there is no text content available. In the context of sentiment analysis, the absence of tweet text makes these entries unusable for analyzing sentiment, as the primary input for sentiment assessment is the textual content of the tweets.\n",
    "***"
   ]
  },
  {
   "cell_type": "code",
   "execution_count": 10,
   "metadata": {},
   "outputs": [],
   "source": [
    "# Drop rows with missing 'tweet_text'\n",
    "data.dropna(subset=['tweet_text'], inplace=True)\n"
   ]
  },
  {
   "cell_type": "code",
   "execution_count": 11,
   "metadata": {},
   "outputs": [
    {
     "name": "stdout",
     "output_type": "stream",
     "text": [
      "tweet_text                                               0\n",
      "emotion_in_tweet_is_directed_at                       5801\n",
      "is_there_an_emotion_directed_at_a_brand_or_product       0\n",
      "dtype: int64\n"
     ]
    }
   ],
   "source": [
    "missing_values = data.isnull().sum()\n",
    "print(missing_values)"
   ]
  },
  {
   "cell_type": "code",
   "execution_count": 12,
   "metadata": {},
   "outputs": [
    {
     "data": {
      "text/plain": [
       "No emotion toward brand or product    5388\n",
       "Positive emotion                      2978\n",
       "Negative emotion                       570\n",
       "I can't tell                           156\n",
       "Name: is_there_an_emotion_directed_at_a_brand_or_product, dtype: int64"
      ]
     },
     "execution_count": 12,
     "metadata": {},
     "output_type": "execute_result"
    }
   ],
   "source": [
    "# Rechecking the sentiments columns for unique counts\n",
    "data['is_there_an_emotion_directed_at_a_brand_or_product'].value_counts()"
   ]
  },
  {
   "cell_type": "markdown",
   "metadata": {},
   "source": [
    "***\n",
    "The ***'I can't tell'*** category doesn't provide valuable information for the analysis, hence, we can choose to remove rows with this label from our dataset. This simplifies our problem to a better sentiment classification (e.g., positive vs. negative and no emotion), assuming that we are interested in distinguishing between positive and negative sentiments.\n",
    "***"
   ]
  },
  {
   "cell_type": "code",
   "execution_count": 13,
   "metadata": {},
   "outputs": [],
   "source": [
    "# Drop rows with 'I can't tell' in the target column\n",
    "data = data[data['is_there_an_emotion_directed_at_a_brand_or_product'] != \"I can't tell\"]"
   ]
  },
  {
   "cell_type": "code",
   "execution_count": 14,
   "metadata": {},
   "outputs": [
    {
     "data": {
      "text/plain": [
       "No emotion toward brand or product    5388\n",
       "Positive emotion                      2978\n",
       "Negative emotion                       570\n",
       "Name: is_there_an_emotion_directed_at_a_brand_or_product, dtype: int64"
      ]
     },
     "execution_count": 14,
     "metadata": {},
     "output_type": "execute_result"
    }
   ],
   "source": [
    "# Rechecking the sentiments columns for unique counts\n",
    "data['is_there_an_emotion_directed_at_a_brand_or_product'].value_counts()"
   ]
  },
  {
   "cell_type": "markdown",
   "metadata": {},
   "source": [
    "#### Keep \"No Emotion\" as a Category\n",
    "To simplify the category label, we have relabeled \"No emotion toward brand or product\" as 'No emotion'. This ensures clarity and consistency in the dataset."
   ]
  },
  {
   "cell_type": "code",
   "execution_count": 15,
   "metadata": {},
   "outputs": [],
   "source": [
    "data = data.copy()  # Create a copy of the DataFrame\n",
    "\n",
    "# Re-label \"No emotion toward brand or product\" as 'No emotion'\n",
    "data['is_there_an_emotion_directed_at_a_brand_or_product'].replace('No emotion toward brand or product', 'No emotion', inplace=True)"
   ]
  },
  {
   "cell_type": "markdown",
   "metadata": {},
   "source": [
    "#### Impute Missing Values with \"Unknown\"\n",
    "***\n",
    "Imputing missing values with \"Unknown\" is a practical approach to maintain the integrity of the dataset while acknowledging the lack of clear sentiment. This placeholder category ensures that all data points are retained for analysis while clearly indicating that these tweets lack sentiment information. It prevents the removal of potentially valuable data and allows for transparency in handling missing values.\n",
    "***"
   ]
  },
  {
   "cell_type": "code",
   "execution_count": 16,
   "metadata": {},
   "outputs": [],
   "source": [
    "# Impute missing values in the emotion_in_tweet_is_directed_at column with \"Unknown\"\n",
    "data['emotion_in_tweet_is_directed_at'].fillna('Unknown', inplace=True)\n"
   ]
  },
  {
   "cell_type": "code",
   "execution_count": 17,
   "metadata": {},
   "outputs": [
    {
     "data": {
      "text/html": [
       "<div>\n",
       "<style scoped>\n",
       "    .dataframe tbody tr th:only-of-type {\n",
       "        vertical-align: middle;\n",
       "    }\n",
       "\n",
       "    .dataframe tbody tr th {\n",
       "        vertical-align: top;\n",
       "    }\n",
       "\n",
       "    .dataframe thead th {\n",
       "        text-align: right;\n",
       "    }\n",
       "</style>\n",
       "<table border=\"1\" class=\"dataframe\">\n",
       "  <thead>\n",
       "    <tr style=\"text-align: right;\">\n",
       "      <th></th>\n",
       "      <th>tweet_text</th>\n",
       "      <th>emotion_in_tweet_is_directed_at</th>\n",
       "      <th>is_there_an_emotion_directed_at_a_brand_or_product</th>\n",
       "    </tr>\n",
       "  </thead>\n",
       "  <tbody>\n",
       "    <tr>\n",
       "      <th>0</th>\n",
       "      <td>.@wesley83 I have a 3G iPhone. After 3 hrs twe...</td>\n",
       "      <td>iPhone</td>\n",
       "      <td>Negative emotion</td>\n",
       "    </tr>\n",
       "    <tr>\n",
       "      <th>1</th>\n",
       "      <td>@jessedee Know about @fludapp ? Awesome iPad/i...</td>\n",
       "      <td>iPad or iPhone App</td>\n",
       "      <td>Positive emotion</td>\n",
       "    </tr>\n",
       "    <tr>\n",
       "      <th>2</th>\n",
       "      <td>@swonderlin Can not wait for #iPad 2 also. The...</td>\n",
       "      <td>iPad</td>\n",
       "      <td>Positive emotion</td>\n",
       "    </tr>\n",
       "    <tr>\n",
       "      <th>3</th>\n",
       "      <td>@sxsw I hope this year's festival isn't as cra...</td>\n",
       "      <td>iPad or iPhone App</td>\n",
       "      <td>Negative emotion</td>\n",
       "    </tr>\n",
       "    <tr>\n",
       "      <th>4</th>\n",
       "      <td>@sxtxstate great stuff on Fri #SXSW: Marissa M...</td>\n",
       "      <td>Google</td>\n",
       "      <td>Positive emotion</td>\n",
       "    </tr>\n",
       "    <tr>\n",
       "      <th>...</th>\n",
       "      <td>...</td>\n",
       "      <td>...</td>\n",
       "      <td>...</td>\n",
       "    </tr>\n",
       "    <tr>\n",
       "      <th>9088</th>\n",
       "      <td>Ipad everywhere. #SXSW {link}</td>\n",
       "      <td>iPad</td>\n",
       "      <td>Positive emotion</td>\n",
       "    </tr>\n",
       "    <tr>\n",
       "      <th>9089</th>\n",
       "      <td>Wave, buzz... RT @mention We interrupt your re...</td>\n",
       "      <td>Unknown</td>\n",
       "      <td>No emotion</td>\n",
       "    </tr>\n",
       "    <tr>\n",
       "      <th>9090</th>\n",
       "      <td>Google's Zeiger, a physician never reported po...</td>\n",
       "      <td>Unknown</td>\n",
       "      <td>No emotion</td>\n",
       "    </tr>\n",
       "    <tr>\n",
       "      <th>9091</th>\n",
       "      <td>Some Verizon iPhone customers complained their...</td>\n",
       "      <td>Unknown</td>\n",
       "      <td>No emotion</td>\n",
       "    </tr>\n",
       "    <tr>\n",
       "      <th>9092</th>\n",
       "      <td>Ï¡Ïàü_ÊÎÒ£Áââ_£â_ÛâRT @...</td>\n",
       "      <td>Unknown</td>\n",
       "      <td>No emotion</td>\n",
       "    </tr>\n",
       "  </tbody>\n",
       "</table>\n",
       "<p>8936 rows × 3 columns</p>\n",
       "</div>"
      ],
      "text/plain": [
       "                                             tweet_text  \\\n",
       "0     .@wesley83 I have a 3G iPhone. After 3 hrs twe...   \n",
       "1     @jessedee Know about @fludapp ? Awesome iPad/i...   \n",
       "2     @swonderlin Can not wait for #iPad 2 also. The...   \n",
       "3     @sxsw I hope this year's festival isn't as cra...   \n",
       "4     @sxtxstate great stuff on Fri #SXSW: Marissa M...   \n",
       "...                                                 ...   \n",
       "9088                      Ipad everywhere. #SXSW {link}   \n",
       "9089  Wave, buzz... RT @mention We interrupt your re...   \n",
       "9090  Google's Zeiger, a physician never reported po...   \n",
       "9091  Some Verizon iPhone customers complained their...   \n",
       "9092  Ï¡Ïàü_ÊÎÒ£Áââ_£â_ÛâRT @...   \n",
       "\n",
       "     emotion_in_tweet_is_directed_at  \\\n",
       "0                             iPhone   \n",
       "1                 iPad or iPhone App   \n",
       "2                               iPad   \n",
       "3                 iPad or iPhone App   \n",
       "4                             Google   \n",
       "...                              ...   \n",
       "9088                            iPad   \n",
       "9089                         Unknown   \n",
       "9090                         Unknown   \n",
       "9091                         Unknown   \n",
       "9092                         Unknown   \n",
       "\n",
       "     is_there_an_emotion_directed_at_a_brand_or_product  \n",
       "0                                      Negative emotion  \n",
       "1                                      Positive emotion  \n",
       "2                                      Positive emotion  \n",
       "3                                      Negative emotion  \n",
       "4                                      Positive emotion  \n",
       "...                                                 ...  \n",
       "9088                                   Positive emotion  \n",
       "9089                                         No emotion  \n",
       "9090                                         No emotion  \n",
       "9091                                         No emotion  \n",
       "9092                                         No emotion  \n",
       "\n",
       "[8936 rows x 3 columns]"
      ]
     },
     "execution_count": 17,
     "metadata": {},
     "output_type": "execute_result"
    }
   ],
   "source": [
    "data"
   ]
  },
  {
   "cell_type": "code",
   "execution_count": 18,
   "metadata": {},
   "outputs": [
    {
     "data": {
      "text/plain": [
       "tweet_text                                            0\n",
       "emotion_in_tweet_is_directed_at                       0\n",
       "is_there_an_emotion_directed_at_a_brand_or_product    0\n",
       "dtype: int64"
      ]
     },
     "execution_count": 18,
     "metadata": {},
     "output_type": "execute_result"
    }
   ],
   "source": [
    "# Rechecking for missing values\n",
    "data.isnull().sum() # Missing values are handled appropriately\n"
   ]
  },
  {
   "cell_type": "code",
   "execution_count": 19,
   "metadata": {},
   "outputs": [
    {
     "name": "stdout",
     "output_type": "stream",
     "text": [
      "tweet_text                                            Ï¡Ïàü_ÊÎÒ£Áââ_£â_ÛâRT @...\n",
      "emotion_in_tweet_is_directed_at                                                                 Unknown\n",
      "is_there_an_emotion_directed_at_a_brand_or_product                                           No emotion\n",
      "Name: 9092, dtype: object\n"
     ]
    }
   ],
   "source": [
    "# Investigating the data, the last row seems to have unneeded encoding, hence drop. \n",
    "row_9092 = data.loc[9092]\n",
    "print(row_9092)\n"
   ]
  },
  {
   "cell_type": "code",
   "execution_count": 20,
   "metadata": {},
   "outputs": [
    {
     "data": {
      "text/plain": [
       "'\\x8cÏ¡\\x8eÏà\\x8aü_\\x8b\\x81Ê\\x8b\\x81Î\\x8b\\x81Ò\\x8b\\x81£\\x8b\\x81Á\\x8bââ\\x8b\\x81_\\x8b\\x81£\\x8b\\x81\\x8f\\x8bâ_\\x8bÛâRT @mention Google Tests \\x89ÛÏCheck-in Offers\\x89Û\\x9d At #SXSW {link}'"
      ]
     },
     "execution_count": 20,
     "metadata": {},
     "output_type": "execute_result"
    }
   ],
   "source": [
    "# investigating the last row\n",
    "row_9092.tweet_text"
   ]
  },
  {
   "cell_type": "code",
   "execution_count": 21,
   "metadata": {},
   "outputs": [
    {
     "name": "stdout",
     "output_type": "stream",
     "text": [
      "RT @mention Google Tests Checkin Offers At #SXSW link\n"
     ]
    }
   ],
   "source": [
    "# Use a regular expression to remove non-alphanumeric characters and common punctuation\n",
    "clean_tweet = re.sub(r'[^a-zA-Z0-9\\s,.!?@#]', '', row_9092.tweet_text)\n",
    "\n",
    "print(clean_tweet)"
   ]
  },
  {
   "cell_type": "markdown",
   "metadata": {},
   "source": [
    "***\n",
    "With these preprocessing steps, the dataset now includes \"No emotion toward brand or product\" as a valid category and has missing values in the emotion_in_tweet_is_directed_at column imputed with \"Unknown.\" This ensures that we retain all data while appropriately handling missing sentiment information.\n",
    "***"
   ]
  },
  {
   "cell_type": "markdown",
   "metadata": {},
   "source": [
    "### Step 4: Data Transformation\n",
    "***\n",
    "To perform sentiment analysis, we need to convert the categorical sentiment labels into a numerical format. This transformation allows us to apply machine learning algorithms effectively.\n",
    "***\n"
   ]
  },
  {
   "cell_type": "code",
   "execution_count": 22,
   "metadata": {},
   "outputs": [
    {
     "data": {
      "text/html": [
       "<div>\n",
       "<style scoped>\n",
       "    .dataframe tbody tr th:only-of-type {\n",
       "        vertical-align: middle;\n",
       "    }\n",
       "\n",
       "    .dataframe tbody tr th {\n",
       "        vertical-align: top;\n",
       "    }\n",
       "\n",
       "    .dataframe thead th {\n",
       "        text-align: right;\n",
       "    }\n",
       "</style>\n",
       "<table border=\"1\" class=\"dataframe\">\n",
       "  <thead>\n",
       "    <tr style=\"text-align: right;\">\n",
       "      <th></th>\n",
       "      <th>tweet_text</th>\n",
       "      <th>emotion_in_tweet_is_directed_at</th>\n",
       "      <th>is_there_an_emotion_directed_at_a_brand_or_product</th>\n",
       "      <th>sentiment</th>\n",
       "    </tr>\n",
       "  </thead>\n",
       "  <tbody>\n",
       "    <tr>\n",
       "      <th>0</th>\n",
       "      <td>.@wesley83 I have a 3G iPhone. After 3 hrs twe...</td>\n",
       "      <td>iPhone</td>\n",
       "      <td>Negative emotion</td>\n",
       "      <td>-1</td>\n",
       "    </tr>\n",
       "    <tr>\n",
       "      <th>1</th>\n",
       "      <td>@jessedee Know about @fludapp ? Awesome iPad/i...</td>\n",
       "      <td>iPad or iPhone App</td>\n",
       "      <td>Positive emotion</td>\n",
       "      <td>1</td>\n",
       "    </tr>\n",
       "    <tr>\n",
       "      <th>2</th>\n",
       "      <td>@swonderlin Can not wait for #iPad 2 also. The...</td>\n",
       "      <td>iPad</td>\n",
       "      <td>Positive emotion</td>\n",
       "      <td>1</td>\n",
       "    </tr>\n",
       "    <tr>\n",
       "      <th>3</th>\n",
       "      <td>@sxsw I hope this year's festival isn't as cra...</td>\n",
       "      <td>iPad or iPhone App</td>\n",
       "      <td>Negative emotion</td>\n",
       "      <td>-1</td>\n",
       "    </tr>\n",
       "    <tr>\n",
       "      <th>4</th>\n",
       "      <td>@sxtxstate great stuff on Fri #SXSW: Marissa M...</td>\n",
       "      <td>Google</td>\n",
       "      <td>Positive emotion</td>\n",
       "      <td>1</td>\n",
       "    </tr>\n",
       "  </tbody>\n",
       "</table>\n",
       "</div>"
      ],
      "text/plain": [
       "                                          tweet_text  \\\n",
       "0  .@wesley83 I have a 3G iPhone. After 3 hrs twe...   \n",
       "1  @jessedee Know about @fludapp ? Awesome iPad/i...   \n",
       "2  @swonderlin Can not wait for #iPad 2 also. The...   \n",
       "3  @sxsw I hope this year's festival isn't as cra...   \n",
       "4  @sxtxstate great stuff on Fri #SXSW: Marissa M...   \n",
       "\n",
       "  emotion_in_tweet_is_directed_at  \\\n",
       "0                          iPhone   \n",
       "1              iPad or iPhone App   \n",
       "2                            iPad   \n",
       "3              iPad or iPhone App   \n",
       "4                          Google   \n",
       "\n",
       "  is_there_an_emotion_directed_at_a_brand_or_product  sentiment  \n",
       "0                                   Negative emotion         -1  \n",
       "1                                   Positive emotion          1  \n",
       "2                                   Positive emotion          1  \n",
       "3                                   Negative emotion         -1  \n",
       "4                                   Positive emotion          1  "
      ]
     },
     "execution_count": 22,
     "metadata": {},
     "output_type": "execute_result"
    }
   ],
   "source": [
    "# Convert sentiment labels to a numerical format for analysis\n",
    "data['sentiment'] = data['is_there_an_emotion_directed_at_a_brand_or_product'].map({'Positive emotion': 1, 'Negative emotion': -1, 'No emotion': 0})\n",
    "\n",
    "# Displaying the first 5 rows\n",
    "data.head()\n"
   ]
  },
  {
   "cell_type": "markdown",
   "metadata": {},
   "source": [
    "### Step 5: Text Preprocessing\n",
    "***\n",
    "In text preprocessing, we employ regular expressions (regex) to define patterns that help tokenize or split the text into meaningful units, such as words or phrases. Tokenization is a fundamental step in natural language processing (NLP) that breaks down the text into discrete tokens for analysis. For example, we can use the 're' library in Python to define regex patterns for tokenization.\n",
    "\n",
    "Tokenization involves dividing the text data into individual tokens, which are typically words or phrases. These tokens serve as the basic building blocks for subsequent text analysis tasks, such as sentiment analysis. We can use NLTK's **word_tokenize** or **regexp_tokenize** functions to tokenize the tweet text.\n",
    "\n",
    "***\n"
   ]
  },
  {
   "cell_type": "code",
   "execution_count": 23,
   "metadata": {},
   "outputs": [
    {
     "data": {
      "text/plain": [
       "'\\x8cÏ¡\\x8eÏà\\x8aü_\\x8b\\x81Ê\\x8b\\x81Î\\x8b\\x81Ò\\x8b\\x81£\\x8b\\x81Á\\x8bââ\\x8b\\x81_\\x8b\\x81£\\x8b\\x81\\x8f\\x8bâ_\\x8bÛâRT @mention Google Tests \\x89ÛÏCheck-in Offers\\x89Û\\x9d At #SXSW {link}'"
      ]
     },
     "execution_count": 23,
     "metadata": {},
     "output_type": "execute_result"
    }
   ],
   "source": [
    "# Lets display a sample document from tweet_text\n",
    "first_document = data.loc[9092].tweet_text\n",
    "first_document"
   ]
  },
  {
   "cell_type": "markdown",
   "metadata": {},
   "source": [
    "#### Removing Usernames\n",
    "Removing usernames (Twitter mentions) from text data is often necessary in sentiment analysis and text processing for several reasons:\n",
    "\n",
    "* Focus on Content: Usernames are typically not relevant to the sentiment or content of a tweet. Removing them helps in focusing on the actual text and sentiment expressed in the message.\n",
    "\n",
    "* Privacy: Some Twitter users may have private accounts or share sensitive information. Removing usernames helps protect the privacy of individuals mentioned in the tweets.\n",
    "\n",
    "* Data Consistency: Usernames can vary widely in format and length. Removing them can help maintain data consistency and simplify subsequent text processing tasks like tokenization.\n",
    "\n",
    "* Reducing Noise: Usernames can contain special characters, numbers, and symbols that might not contribute meaningfully to sentiment analysis. Removing them can reduce noise in the data.\n",
    "\n",
    "* Normalization: Removing usernames is a form of text normalization, which standardizes the text to make it more consistent and suitable for analysis.\n",
    "\n",
    "In summary, removing usernames from text data is a common preprocessing step to improve the quality and relevance of the text for sentiment analysis and other natural language processing tasks. It helps focus on the content and sentiment of the messages while removing potentially noisy or irrelevant information. "
   ]
  },
  {
   "cell_type": "code",
   "execution_count": 24,
   "metadata": {},
   "outputs": [
    {
     "name": "stdout",
     "output_type": "stream",
     "text": [
      "Ï¡Ïàü_ÊÎÒ£Áââ_£â_ÛâRT  Google Tests ÛÏCheck-in OffersÛ At #SXSW {link}\n"
     ]
    }
   ],
   "source": [
    "# Define a function to remove usernames\n",
    "def remove_usernames(text):\n",
    "    # Define a regex pattern to match Twitter mentions\n",
    "    pattern = r'@[\\w]+'\n",
    "    \n",
    "    # Use the `re` module to find and replace all mentions with an empty string\n",
    "    cleaned_text = re.sub(pattern, '', text)\n",
    "    \n",
    "    return cleaned_text\n",
    "\n",
    "# Example usage:\n",
    "cleaned_tweet = remove_usernames(first_document)\n",
    "print(cleaned_tweet)"
   ]
  },
  {
   "cell_type": "markdown",
   "metadata": {},
   "source": [
    "#### Further Cleaning (Stopwords, Punctuations, URLs, single-word Tokens) "
   ]
  },
  {
   "cell_type": "code",
   "execution_count": 25,
   "metadata": {},
   "outputs": [
    {
     "name": "stdout",
     "output_type": "stream",
     "text": [
      "mention google tests in offers at sxsw\n"
     ]
    }
   ],
   "source": [
    "# Define the regular expression pattern\n",
    "pattern = r'\\b(?:[A-Za-z0-9]+(?:\\'\\w+)?)\\b'\n",
    "\n",
    "# Remove links (URLs) with curly braces\n",
    "first_document = re.sub(r'{(https?://\\S+)}', '', first_document)\n",
    "\n",
    "# Remove links (URLs) without curly braces\n",
    "first_document = re.sub(r'https?://\\S+', '', first_document)\n",
    "\n",
    "# Remove the word \"link\"\n",
    "first_document = re.sub(r'\\b(?:link)\\b', '', first_document)\n",
    "\n",
    "# Create a tokenizer with the updated pattern\n",
    "tokenizer = RegexpTokenizer(pattern)\n",
    "\n",
    "# Tokenize the text\n",
    "tokens = tokenizer.tokenize(first_document)\n",
    "\n",
    "# Convert tokens to lowercase\n",
    "tokens = [token.lower() for token in tokens]\n",
    "\n",
    "# Remove stopwords\n",
    "sw = stopwords.words('english')\n",
    "filtered_tokens = [token for token in tokens if token not in sw]\n",
    "\n",
    "# Remove non-alphabetic tokens\n",
    "filtered_tokens = [token for token in filtered_tokens if token.isalpha()]\n",
    "\n",
    "# Filter out single-character tokens\n",
    "filtered_tokens = [token for token in tokens if len(token) > 1]\n",
    "\n",
    "# Final list of relevant text\n",
    "final_text = \" \".join(filtered_tokens)\n",
    "print(final_text)"
   ]
  },
  {
   "cell_type": "markdown",
   "metadata": {},
   "source": [
    "***\n",
    "In the above data preprocessing pipeline, we have applied a series of steps to clean and prepare the text data from the tweets. The primary objective is to extract relevant textual content while removing noisy elements such as URLs, special characters, and stopwords. Below, we describe the flow of data processing and the role of regular expressions (regex) in each step:\n",
    "* URL Removal: We start by removing URLs (links) from the text. Some links are enclosed in curly braces, so we use the following regex pattern to identify and remove them.\n",
    "  \n",
    "* Word \"Link\" Removal: We further enhance the preprocessing by removing the word \"link\", for some tweets with with a missing hyperlink, entirely from the text.\n",
    "  \n",
    "* Tokenization: After removing links, we tokenize the cleaned text using a custom regex pattern.\n",
    "  \n",
    "* Lowercasing: We convert all tokens to lowercase to ensure consistency.\n",
    "  \n",
    "* Stopword Removal: Stopwords are common words like \"the,\" \"and,\" \"in,\" etc. that don't carry significant meaning. We remove them from the tokenized text.\n",
    "  \n",
    "* Non-Alphabetic Token Removal: We filter out tokens that contain non-alphabetic characters to focus on words.\n",
    "  \n",
    "* Single-Character Token Removal: To further clean the text, we remove single-character tokens, which typically don't convey meaningful information.\n",
    "  \n",
    "* Final Text: Finally, we join the cleaned tokens into a final text string, which represents the processed and relevant content.\n",
    "\n",
    "Creating an example first_document to define a corpus is a good practice as it helps illustrate the functionality of the tokenization pattern. With this example, we can now create a customized function for tokenization that uses this pattern, ensuring that words with or without apostrophes are correctly processed into meaningful tokens. This function can then be applied to the entire dataset to prepare the text for further analysis, such as sentiment analysis or topic modeling.\n",
    "***"
   ]
  },
  {
   "cell_type": "code",
   "execution_count": 26,
   "metadata": {},
   "outputs": [],
   "source": [
    "# Defining our final text_processing functions\n",
    "def remove_usernames(text):\n",
    "    \"\"\"\n",
    "    Removes usernames (mentions) from the input text.\n",
    "\n",
    "    Args:\n",
    "        text (str): The text to be processed.\n",
    "\n",
    "    Returns:\n",
    "        str: The text with usernames removed.\n",
    "    \"\"\"\n",
    "    # Define a regular expression pattern to remove usernames\n",
    "    username_pattern = r'@\\w+\\s*'\n",
    "    \n",
    "    # Remove usernames from the text\n",
    "    text_without_usernames = re.sub(username_pattern, '', text)\n",
    "    \n",
    "    return text_without_usernames\n",
    "\n",
    "\n",
    "def preprocess_text(text):\n",
    "    \"\"\"\n",
    "    Preprocesses the input text by removing usernames, links, and performing tokenization.\n",
    "\n",
    "    Args:\n",
    "        text (str): The text to be preprocessed.\n",
    "\n",
    "    Returns:\n",
    "        str: The preprocessed text.\n",
    "    \"\"\"\n",
    "    # Remove usernames\n",
    "    text = remove_usernames(text)\n",
    "    \n",
    "    # Define the combined regex pattern to remove links and the word \"link\"\n",
    "    pattern = r'{(https?://\\S+)}|https?://\\S+|\\b(?:link)\\b'\n",
    "    \n",
    "    # Remove links and the word \"link\" from the text\n",
    "    text = re.sub(pattern, '', text)\n",
    "    \n",
    "    # Create a tokenizer with the updated pattern\n",
    "    tokenizer = RegexpTokenizer(r'\\b(?:[A-Za-z]+(?:\\'\\w+)?)\\b')\n",
    "    \n",
    "    # Tokenize the text\n",
    "    tokens = tokenizer.tokenize(text)\n",
    "    \n",
    "    # Convert tokens to lowercase\n",
    "    tokens = [token.lower() for token in tokens]\n",
    "    \n",
    "    # Remove stopwords\n",
    "    sw = set(stopwords.words(\"english\"))\n",
    "    filtered_tokens = [token for token in tokens if token not in sw]\n",
    "    \n",
    "    # Remove non-alphabetic tokens\n",
    "    filtered_tokens = [token for token in filtered_tokens if token.isalpha()]\n",
    "    \n",
    "    # Filter out single-character tokens\n",
    "    filtered_tokens = [token for token in filtered_tokens if len(token) > 1]\n",
    "    \n",
    "    # Final list of relevant text\n",
    "    final_text = \" \".join(filtered_tokens)\n",
    "    \n",
    "    return final_text\n",
    "\n",
    "# Apply text preprocessing to the tweet_text column\n",
    "data['tweet_text'] = data['tweet_text'].apply(preprocess_text)\n"
   ]
  },
  {
   "cell_type": "code",
   "execution_count": 27,
   "metadata": {},
   "outputs": [
    {
     "data": {
      "text/plain": [
       "0"
      ]
     },
     "execution_count": 27,
     "metadata": {},
     "output_type": "execute_result"
    }
   ],
   "source": [
    "# Checking first 10 pre-processed documents\n",
    "data.sentiment.isnull().sum()"
   ]
  },
  {
   "cell_type": "markdown",
   "metadata": {},
   "source": [
    "***\n",
    "Reviewing the processed text data to identify any remaining noise or irrelevant information, \"rt\" is a common noise word, which typically stands for \"retweet.\" We should remove such common noise words since they don't carry any sentiment information. \n",
    "***"
   ]
  },
  {
   "cell_type": "code",
   "execution_count": 28,
   "metadata": {},
   "outputs": [],
   "source": [
    "# Define the list of common noise words to remove\n",
    "noise_words = [\"rt\"]  # Add other noise words as needed\n",
    "\n",
    "# Function to remove noise words\n",
    "def remove_noise_words(text):\n",
    "    words = text.split()  # Split the text into words\n",
    "    cleaned_words = [word for word in words if word.lower() not in noise_words]\n",
    "    return \" \".join(cleaned_words)\n",
    "\n",
    "# Apply the noise word removal function to your text data\n",
    "data['tweet_text'] = data['tweet_text'].apply(remove_noise_words)\n"
   ]
  },
  {
   "cell_type": "code",
   "execution_count": 29,
   "metadata": {},
   "outputs": [
    {
     "data": {
      "text/plain": [
       "0     iphone hrs tweeting dead need upgrade plugin s...\n",
       "1     know awesome ipad iphone app likely appreciate...\n",
       "2                              wait ipad also sale sxsw\n",
       "3                  hope festival crashy iphone app sxsw\n",
       "4     great stuff fri sxsw marissa mayer google tim ...\n",
       "5     new ipad apps speechtherapy communication show...\n",
       "7     sxsw starting ctia around corner googleio hop ...\n",
       "8     beautifully smart simple idea wrote hollergram...\n",
       "9     counting days sxsw plus strong canadian dollar...\n",
       "10    excited meet sxsw show sprint galaxy still run...\n",
       "11    find amp start impromptu parties sxsw wait til...\n",
       "12    foursquare ups game time sxsw still prefer far...\n",
       "13    gotta love sxsw google calendar featuring top ...\n",
       "14                                  great sxsw ipad app\n",
       "15          haha awesomely rad ipad app hollergram sxsw\n",
       "16           holler gram ipad itunes app store via sxsw\n",
       "17    noticed dst coming weekend many iphone users h...\n",
       "18    added sxsw flights matching people planes airp...\n",
       "19    must sxsw app lovely review forbes sxsw ipad a...\n",
       "20    need buy austin sxsw sure need austin apple store\n",
       "21    oh god sxsw app ipad pure unadulterated awesom...\n",
       "22         okay really yay new android app kthxbai sxsw\n",
       "23          photo installed sxsw iphone app really nice\n",
       "24    really enjoying changes gowalla android lookin...\n",
       "25    looking forward smcdallas pre sxsw party wed h...\n",
       "26      haha awesomely rad ipad app hollergram sxsw via\n",
       "27    someone started austin group google groups pre...\n",
       "28    new looks like going rock update iphone androi...\n",
       "29        right app android sweeeeet nice job team sxsw\n",
       "30    smart hollergram ipad app sxsw may leave vuvuz...\n",
       "31                  must app ipad going sxsw hollergram\n",
       "32    attn sxsw frineds register gdgtlive see cobra ...\n",
       "33                       anyone sxsw want sell old ipad\n",
       "34     anyone sxsw bought new ipad want sell older ipad\n",
       "35    sxsw oooh google launch major new social netwo...\n",
       "36    best ha first line sxsw quot pop quot apple st...\n",
       "37    spin play new concept music discovery ipad amp...\n",
       "38    false alarm google circles coming probably eve...\n",
       "39    vatornews google apple force print media evolv...\n",
       "40    great weather greet sxsw still need sweater ni...\n",
       "41    hootsuite hootsuite mobile sxsw updates iphone...\n",
       "42    hey sxsw long think takes us make iphone case ...\n",
       "43     mashable ipad takes sxsw video ipad sxsw gadgets\n",
       "44    pad new ubersocial iphone app store includes u...\n",
       "45    smartcover opens instant access waited get one...\n",
       "46    hand held hobo drafthouse launches hobo shotgu...\n",
       "47                 hooray opening pop store austin sxsw\n",
       "48    orly set launch new social network circles tod...\n",
       "49    wooooo store downtown austin open til midnight...\n",
       "50    khoi vinh says conde headlong rush ipad publis...\n",
       "Name: tweet_text, dtype: object"
      ]
     },
     "execution_count": 29,
     "metadata": {},
     "output_type": "execute_result"
    }
   ],
   "source": [
    "# Rechecking the corpus\n",
    "data.tweet_text[:50] # Unnecessary noise removed"
   ]
  },
  {
   "cell_type": "markdown",
   "metadata": {},
   "source": [
    "***\n",
    "Overall, the processed data consists of cleaned and preprocessed text, which is now more suitable for sentiment analysis. It retains the relevant words and removes noise such as usernames, links, and stopwords. This processed data can be used for further analysis and sentiment classification.\n",
    "***"
   ]
  },
  {
   "cell_type": "code",
   "execution_count": 30,
   "metadata": {},
   "outputs": [
    {
     "data": {
      "image/png": "[encoded data removed]",
      "text/plain": [
       "<Figure size 640x480 with 1 Axes>"
      ]
     },
     "metadata": {},
     "output_type": "display_data"
    },
    {
     "data": {
      "text/plain": [
       "<Axes: xlabel='Samples', ylabel='Counts'>"
      ]
     },
     "execution_count": 30,
     "metadata": {},
     "output_type": "execute_result"
    }
   ],
   "source": [
    "# Create a frequency distribution of words\n",
    "freq_dist = FreqDist(data.tweet_text)\n",
    "\n",
    "# Plot the frequency distribution\n",
    "freq_dist.plot(20)  # Display the top 20 most frequent words"
   ]
  },
  {
   "cell_type": "markdown",
   "metadata": {},
   "source": [
    "***\n",
    "The figure above should help us understand each step of creating the frequency distribution and visualizing the most frequent words, which can be useful for further analysis and modeling. The most frequent word is \"sxsw,\" which is not surprising since it's related to the South by Southwest conference, a popular topic in the tweets.\n",
    "\n",
    "The presence of words like \"great,\" \"love,\" and \"awesome\" suggests that many tweets express positive sentiments. Overall, the frequency distribution gives you an overview of the key words used in the first 20 tweets, which are likely reflective of the broader themes and topics in your dataset.\n",
    "***"
   ]
  },
  {
   "cell_type": "markdown",
   "metadata": {},
   "source": [
    "#### Lemmatization of Text with POS Tags\n",
    "***\n",
    "Lemmatization reduces words to their base or dictionary form, making it easier to analyze and compare words. For example, \"running,\" \"ran,\" and \"runs\" all get reduced to \"run.\" This normalization helps reduce the dimensionality of the text data and makes it more suitable for various NLP tasks.\n",
    "\n",
    "By lemmatizing words, we ensure consistency in the text data. This means that different inflected forms of the same word are transformed into a common base form. Consistency simplifies text analysis and improves the performance of machine learning models.\n",
    "\n",
    "WordNet provides fine-grained relationships between words. For instance, it distinguishes between different types of nouns (e.g., animal, person) and verbs (e.g., motion, perception). Incorporating these distinctions can enhance the quality of vectorized representations.\n",
    "***\n"
   ]
  },
  {
   "cell_type": "code",
   "execution_count": 31,
   "metadata": {},
   "outputs": [],
   "source": [
    "def lemmatize_dataframe(dataframe):\n",
    "    # Create a WordNetLemmatizer instance\n",
    "    lemmatizer = WordNetLemmatizer()\n",
    "\n",
    "    # Define a mapping of POS tags\n",
    "    wn_pos_tags = {\n",
    "        'N': wordnet.NOUN,\n",
    "        'V': wordnet.VERB,\n",
    "        'R': wordnet.ADV,\n",
    "        'J': wordnet.ADJ\n",
    "    }\n",
    "    \n",
    "    # Tokenize and lemmatize each tweet in the 'tweet_text' column\n",
    "    def lemmatize_tweet(tweet):\n",
    "        words = nltk.word_tokenize(tweet)\n",
    "        pos_tags = nltk.pos_tag(words)\n",
    "        lemmatized_words = []\n",
    "        for word, pos in pos_tags:\n",
    "            wordnet_pos = wn_pos_tags.get(pos[0].upper(), wordnet.NOUN)\n",
    "            lemma = lemmatizer.lemmatize(word, pos=wordnet_pos)\n",
    "            lemmatized_words.append(lemma)\n",
    "        return ' '.join(lemmatized_words)\n",
    "    \n",
    "    # Apply the lemmatize_tweet function to the 'tweet_text' column\n",
    "    dataframe['tweet_text'] = dataframe['tweet_text'].apply(lemmatize_tweet)\n",
    "\n",
    "    return dataframe"
   ]
  },
  {
   "cell_type": "code",
   "execution_count": 32,
   "metadata": {},
   "outputs": [],
   "source": [
    "# Applying our function to data\n",
    "data = lemmatize_dataframe(data)"
   ]
  },
  {
   "cell_type": "code",
   "execution_count": 33,
   "metadata": {},
   "outputs": [
    {
     "data": {
      "text/plain": [
       "0     iphone hr tweet dead need upgrade plugin stati...\n",
       "1     know awesome ipad iphone app likely appreciate...\n",
       "2                              wait ipad also sale sxsw\n",
       "3                  hope festival crashy iphone app sxsw\n",
       "4     great stuff fri sxsw marissa mayer google tim ...\n",
       "5     new ipad apps speechtherapy communication show...\n",
       "7     sxsw start ctia around corner googleio hop ski...\n",
       "8     beautifully smart simple idea write hollergram...\n",
       "9     count day sxsw plus strong canadian dollar mea...\n",
       "10    excited meet sxsw show sprint galaxy still run...\n",
       "11    find amp start impromptu party sxsw wait til a...\n",
       "12    foursquare ups game time sxsw still prefer far...\n",
       "13    get ta love sxsw google calendar feature top p...\n",
       "14                                  great sxsw ipad app\n",
       "15          haha awesomely rad ipad app hollergram sxsw\n",
       "16           holler gram ipad itunes app store via sxsw\n",
       "17    noticed dst come weekend many iphone user hour...\n",
       "18    add sxsw flight match people plane airport als...\n",
       "19    must sxsw app lovely review forbes sxsw ipad a...\n",
       "20    need buy austin sxsw sure need austin apple store\n",
       "21    oh god sxsw app ipad pure unadulterated awesom...\n",
       "22         okay really yay new android app kthxbai sxsw\n",
       "23             photo instal sxsw iphone app really nice\n",
       "24    really enjoy change gowalla android look forwa...\n",
       "25    look forward smcdallas pre sxsw party wed hop ...\n",
       "26      haha awesomely rad ipad app hollergram sxsw via\n",
       "27    someone start austin group google group pre sx...\n",
       "28    new look like go rock update iphone android pu...\n",
       "29        right app android sweeeeet nice job team sxsw\n",
       "30    smart hollergram ipad app sxsw may leave vuvuz...\n",
       "31                     must app ipad go sxsw hollergram\n",
       "32    attn sxsw frineds register gdgtlive see cobra ...\n",
       "33                       anyone sxsw want sell old ipad\n",
       "34          anyone sxsw buy new ipad want sell old ipad\n",
       "35    sxsw oooh google launch major new social netwo...\n",
       "36    best ha first line sxsw quot pop quot apple st...\n",
       "37    spin play new concept music discovery ipad amp...\n",
       "38    false alarm google circle come probably ever g...\n",
       "39    vatornews google apple force print medium evol...\n",
       "40    great weather greet sxsw still need sweater ni...\n",
       "41    hootsuite hootsuite mobile sxsw update iphone ...\n",
       "42    hey sxsw long think take u make iphone case an...\n",
       "43       mashable ipad take sxsw video ipad sxsw gadget\n",
       "44    pad new ubersocial iphone app store include ub...\n",
       "45    smartcover open instant access wait get one ap...\n",
       "46    hand hold hobo drafthouse launch hobo shotgun ...\n",
       "47                    hooray open pop store austin sxsw\n",
       "48    orly set launch new social network circle toda...\n",
       "49    wooooo store downtown austin open til midnight...\n",
       "50    khoi vinh say conde headlong rush ipad publish...\n",
       "Name: tweet_text, dtype: object"
      ]
     },
     "execution_count": 33,
     "metadata": {},
     "output_type": "execute_result"
    }
   ],
   "source": [
    "# Rechecking dataframe for lemmatized tweets\n",
    "data.tweet_text[:50]"
   ]
  },
  {
   "cell_type": "markdown",
   "metadata": {},
   "source": [
    "### Step 6: Data Splitting\n",
    " Splitting the data into training and testing sets is essential for model evaluation. The training set is used to train the sentiment analysis model, while the testing set allows us to assess its performance."
   ]
  },
  {
   "cell_type": "code",
   "execution_count": 34,
   "metadata": {},
   "outputs": [],
   "source": [
    "X = data['tweet_text']  # Features\n",
    "y = data['sentiment'] # Target\n",
    "\n",
    "# Split the data into training (80%) and testing (20%) sets\n",
    "X_train, X_test, y_train, y_test = train_test_split(X, y, test_size=0.2, random_state=42)"
   ]
  },
  {
   "cell_type": "markdown",
   "metadata": {},
   "source": [
    "### Step 7: Vectorization\n",
    "***\n",
    "TF-IDF (Term Frequency-Inverse Document Frequency) vectorization is often preferred over simple Count Vectorization for several reasons in natural language processing and text analysis tasks:\n",
    "\n",
    "* Term Importance: TF-IDF considers not only the frequency of terms in a document but also how important they are in the context of the entire corpus. This means that words that are frequent in one document but rare in the rest of the corpus receive higher scores, indicating their potential significance in distinguishing documents.\n",
    "\n",
    "* Normalization: TF-IDF normalizes the importance of terms. This helps in handling documents of varying lengths. Words that are frequent in long documents might not necessarily be more important than words that are frequent in shorter documents.\n",
    "\n",
    "* Downweighting Common Words: TF-IDF automatically downweights common words (stop words) that appear in many documents, as they are likely to be less informative. This prevents common words from dominating the feature space.\n",
    "  \n",
    "In this project, using the TfidfVectorizer with trigrams (word triplets) to generate TF-IDF representations for text data is more preferrable. This approach allows  the capture of longer sequences of words and potentially more context in the text data, which can be beneficial in various natural language processing (NLP) tasks.\n",
    "***"
   ]
  },
  {
   "cell_type": "code",
   "execution_count": 35,
   "metadata": {},
   "outputs": [],
   "source": [
    "# Example using trigrams (word triplets)\n",
    "vectorizer = TfidfVectorizer(ngram_range=(3, 3))  \n",
    "X_train_tfidf = vectorizer.fit_transform(X_train)  \n",
    "\n",
    "# Transform the test data\n",
    "X_test_tfidf = vectorizer.transform(X_test)\n",
    "\n",
    "# X_train_tfidf and X_test_tfidf now contains the TF-IDF values for trigrams in the text data"
   ]
  },
  {
   "cell_type": "code",
   "execution_count": 36,
   "metadata": {},
   "outputs": [
    {
     "name": "stdout",
     "output_type": "stream",
     "text": [
      "  (1, 36779)\t0.2689254937563033\n",
      "  (1, 35651)\t0.2689254937563033\n",
      "  (1, 29897)\t0.2689254937563033\n",
      "  (1, 28915)\t0.2689254937563033\n",
      "  (1, 24127)\t0.2570495532919106\n",
      "  (1, 22754)\t0.2689254937563033\n",
      "  (1, 22470)\t0.2689254937563033\n",
      "  (1, 20587)\t0.2689254937563033\n",
      "  (1, 16315)\t0.2689254937563033\n",
      "  (1, 13765)\t0.2689254937563033\n",
      "  (1, 13653)\t0.2689254937563033\n",
      "  (1, 11431)\t0.2570495532919106\n",
      "  (1, 3141)\t0.2689254937563033\n",
      "  (1, 324)\t0.2689254937563033\n",
      "  (2, 17728)\t1.0\n",
      "  (3, 17375)\t0.5684629917149686\n",
      "  (3, 16526)\t0.5947265372429039\n",
      "  (3, 2542)\t0.5684629917149686\n",
      "  (4, 36034)\t0.37429665175359705\n",
      "  (4, 35302)\t0.3869819649739716\n",
      "  (4, 28290)\t0.37429665175359705\n",
      "  (4, 21790)\t0.37429665175359705\n",
      "  (4, 21785)\t0.37429665175359705\n",
      "  (4, 16839)\t0.3869819649739716\n",
      "  (4, 3444)\t0.37429665175359705\n",
      "  :\t:\n",
      "  (1783, 9253)\t0.31622776601683794\n",
      "  (1783, 7477)\t0.31622776601683794\n",
      "  (1783, 6285)\t0.31622776601683794\n",
      "  (1783, 3009)\t0.31622776601683794\n",
      "  (1784, 34143)\t0.38379394104681225\n",
      "  (1784, 30808)\t0.38379394104681225\n",
      "  (1784, 27140)\t0.38379394104681225\n",
      "  (1784, 22836)\t0.38379394104681225\n",
      "  (1784, 20901)\t0.3409006671957922\n",
      "  (1784, 17325)\t0.38379394104681225\n",
      "  (1784, 8318)\t0.38379394104681225\n",
      "  (1785, 36520)\t0.2886751345948129\n",
      "  (1785, 36021)\t0.2886751345948129\n",
      "  (1785, 35303)\t0.2886751345948129\n",
      "  (1785, 32716)\t0.2886751345948129\n",
      "  (1785, 32712)\t0.2886751345948129\n",
      "  (1785, 28147)\t0.2886751345948129\n",
      "  (1785, 18717)\t0.2886751345948129\n",
      "  (1785, 17523)\t0.2886751345948129\n",
      "  (1785, 17521)\t0.2886751345948129\n",
      "  (1785, 17018)\t0.2886751345948129\n",
      "  (1785, 9434)\t0.2886751345948129\n",
      "  (1785, 9345)\t0.2886751345948129\n",
      "  (1787, 17713)\t0.7071067811865475\n",
      "  (1787, 3772)\t0.7071067811865475\n"
     ]
    }
   ],
   "source": [
    "# Observing the sparse matrix\n",
    "print(X_test_tfidf)"
   ]
  },
  {
   "cell_type": "markdown",
   "metadata": {},
   "source": [
    "#### Checking for Class Imbalance in the Sentiments Column"
   ]
  },
  {
   "cell_type": "code",
   "execution_count": 37,
   "metadata": {},
   "outputs": [
    {
     "name": "stdout",
     "output_type": "stream",
     "text": [
      " 0    5388\n",
      " 1    2978\n",
      "-1     570\n",
      "Name: sentiment, dtype: int64\n"
     ]
    },
    {
     "data": {
      "image/png": "[encoded data removed]",
      "text/plain": [
       "<Figure size 800x600 with 1 Axes>"
      ]
     },
     "metadata": {},
     "output_type": "display_data"
    }
   ],
   "source": [
    "# Define colors for each sentiment category\n",
    "colors = ['green', 'blue', 'red']\n",
    "\n",
    "# Count the occurrences of each sentiment category\n",
    "sentiment_counts = data['sentiment'].value_counts()\n",
    "print(sentiment_counts)\n",
    "# Create a bar plot\n",
    "plt.figure(figsize=(8, 6))\n",
    "sentiment_counts.plot(kind='bar', color=colors)\n",
    "plt.title('Sentiment Distribution')\n",
    "plt.xlabel('Sentiment')\n",
    "plt.ylabel('Count')\n",
    "plt.xticks(rotation=0)  # Rotate x-axis labels if needed\n",
    "plt.show()"
   ]
  },
  {
   "cell_type": "markdown",
   "metadata": {},
   "source": [
    "***\n",
    "* Neutral Sentiment (0): This sentiment category is the most common, with 5388 occurrences. Neutral sentiments typically indicate that the tweets express neither positive nor negative emotions towards a brand or product. \n",
    "\n",
    "* Positive Sentiment (1): There are 2978 tweets classified as having a positive sentiment. Positive sentiment indicates that the tweets express favorable opinions or emotions towards a brand or product. \n",
    "\n",
    "* Negative Sentiment (-1): The dataset contains 570 tweets classified as having a negative sentiment. Negative sentiment suggests that these tweets express unfavorable opinions or emotions towards a brand or product. \n",
    "***"
   ]
  },
  {
   "cell_type": "markdown",
   "metadata": {},
   "source": [
    "#### Applying SMOTE\n",
    "SMOTE (Synthetic Minority Over-sampling Technique) is a popular technique used to address class imbalance in datasets, particularly in machine learning tasks like classification. SMOTE works by generating synthetic samples for the minority class, thereby increasing its representation in the dataset."
   ]
  },
  {
   "cell_type": "code",
   "execution_count": 38,
   "metadata": {},
   "outputs": [
    {
     "name": "stdout",
     "output_type": "stream",
     "text": [
      "Missing values in X: 0\n",
      "Missing values in y: 0\n"
     ]
    }
   ],
   "source": [
    "\n",
    "# Check for missing values in X and y\n",
    "missing_X = X.isnull().sum()\n",
    "missing_y = y.isnull().sum()\n",
    "\n",
    "print(\"Missing values in X:\", missing_X)\n",
    "print(\"Missing values in y:\", missing_y)"
   ]
  },
  {
   "cell_type": "code",
   "execution_count": 39,
   "metadata": {},
   "outputs": [
    {
     "name": "stdout",
     "output_type": "stream",
     "text": [
      "object\n",
      "int64\n"
     ]
    }
   ],
   "source": [
    "# Check for data type before class balancing\n",
    "print(X.dtypes)\n",
    "print(y.dtypes)"
   ]
  },
  {
   "cell_type": "code",
   "execution_count": 40,
   "metadata": {},
   "outputs": [
    {
     "name": "stdout",
     "output_type": "stream",
     "text": [
      " 1    4294\n",
      " 0    4294\n",
      "-1    4294\n",
      "Name: sentiment, dtype: int64\n"
     ]
    }
   ],
   "source": [
    "from imblearn.over_sampling import SMOTE\n",
    "\n",
    "# Initialize SMOTE\n",
    "smote = SMOTE(sampling_strategy='auto', random_state=42)\n",
    "\n",
    "# Use the fit_resample method to perform SMOTE on the training data.\n",
    "X_train_resampled, y_train_resampled = smote.fit_resample(X_train_tfidf, y_train)\n",
    "\n",
    "# Check the class distribution to ensure that it's now balanced\n",
    "class_distribution = pd.Series(y_train_resampled).value_counts()\n",
    "print(class_distribution)"
   ]
  },
  {
   "cell_type": "markdown",
   "metadata": {},
   "source": [
    "***\n",
    "It appears that the classes are now balanced after applying SMOTE. Each sentiment class (negative, positive, and neutral) has approximately the same number of samples (4294 samples each). This balance can help improve the performance of machine learning models, especially when dealing with imbalanced datasets.\n",
    "***"
   ]
  },
  {
   "cell_type": "markdown",
   "metadata": {},
   "source": [
    "## 4. Modelling\n",
    "***\n",
    "For model selection, a variety of supervised machine learning models are considered, including Logistic Regression, Random Forest, Support Vector Machine (SVM), Naive Bayes (Multinomial or Gaussian), and Deep Learning Models like Neural Networks.\n",
    "\n",
    "Subsequently, these selected models are trained and evaluated using a split dataset containing both training and testing sets. Evaluation metrics such as accuracy, precision, recall, F1-score, and the confusion matrix are employed to assess model performance.\n",
    "***"
   ]
  },
  {
   "cell_type": "markdown",
   "metadata": {},
   "source": [
    "With this class, we can create different instances for different classifiers (Logistic Regression, Random Forest, SVM, Naive Bayes, etc.) and train and evaluate them using your resampled training and testing data."
   ]
  },
  {
   "cell_type": "code",
   "execution_count": 41,
   "metadata": {},
   "outputs": [],
   "source": [
    "from sklearn.metrics import confusion_matrix as cm\n",
    "class SentimentAnalysisModel:\n",
    "    def __init__(self, classifier):\n",
    "        self.classifier = classifier\n",
    "\n",
    "    def train(self, X_train, y_train):\n",
    "        self.classifier.fit(X_train, y_train)\n",
    "\n",
    "    def evaluate(self, X_test, y_test):\n",
    "        y_pred = self.classifier.predict(X_test)\n",
    "        accuracy = accuracy_score(y_test, y_pred)\n",
    "        confusion = cm(y_test, y_pred) \n",
    "        report = classification_report(y_test, y_pred)\n",
    "    \n",
    "    # Create a heatmap for the confusion matrix\n",
    "        plt.figure(figsize=(8, 6))\n",
    "        sns.heatmap(confusion, annot=True, fmt='d', cmap='Blues', cbar=False)\n",
    "        plt.xlabel('Predicted Labels')\n",
    "        plt.ylabel('True Labels')\n",
    "        plt.title('Confusion Matrix')\n",
    "        plt.show()\n",
    "\n",
    "        return accuracy, confusion, report"
   ]
  },
  {
   "cell_type": "markdown",
   "metadata": {},
   "source": [
    "### Baseline Model: Logistic Regression"
   ]
  },
  {
   "cell_type": "code",
   "execution_count": 42,
   "metadata": {},
   "outputs": [
    {
     "data": {
      "image/png": "[encoded data removed]",
      "text/plain": [
       "<Figure size 800x600 with 1 Axes>"
      ]
     },
     "metadata": {},
     "output_type": "display_data"
    },
    {
     "name": "stdout",
     "output_type": "stream",
     "text": [
      "Accuracy: 0.6560402684563759\n",
      "Classification Report:\n",
      "              precision    recall  f1-score   support\n",
      "\n",
      "          -1       0.58      0.23      0.33       126\n",
      "           0       0.68      0.86      0.76      1094\n",
      "           1       0.58      0.35      0.44       568\n",
      "\n",
      "    accuracy                           0.66      1788\n",
      "   macro avg       0.61      0.48      0.51      1788\n",
      "weighted avg       0.64      0.66      0.63      1788\n",
      "\n",
      "Confusion Matrix:\n",
      "[[ 29  88   9]\n",
      " [ 17 943 134]\n",
      " [  4 363 201]]\n"
     ]
    }
   ],
   "source": [
    "from sklearn.linear_model import LogisticRegression\n",
    "# Initialize the classifier (e.g., Logistic Regression)\n",
    "# max_iter=1000, to give the optimization algorithm more iterations to converge.\n",
    "classifier = LogisticRegression(max_iter=1000, random_state=42)\n",
    "\n",
    "# Create an instance of the SentimentAnalysisModel class\n",
    "logistic_model = SentimentAnalysisModel(classifier)\n",
    "\n",
    "# Train the model on your training data\n",
    "logistic_model.train(X_train_resampled, y_train_resampled)\n",
    "\n",
    "# Evaluate the model on the test data\n",
    "accuracy, confusion, report = logistic_model.evaluate(X_test_tfidf, y_test)\n",
    "\n",
    "\n",
    "# Display the evaluation metrics and confusion matrix\n",
    "print(f\"Accuracy: {accuracy}\")\n",
    "print(\"Classification Report:\")\n",
    "print(report)\n",
    "\n",
    "# Display the confusion matrix\n",
    "print(\"Confusion Matrix:\")\n",
    "print(confusion)"
   ]
  },
  {
   "cell_type": "markdown",
   "metadata": {},
   "source": [
    "* Accuracy: The model achieved an accuracy of approximately 0.6560, which means it correctly predicted the sentiment labels for about 65.60% of the test samples.\n",
    "  \n",
    "* Confusion Matrix: The confusion matrix provides information about the model's performance for each sentiment class. It shows the number of true positive, true negative, false positive, and false negative predictions.\n",
    "  \n",
    "* For the \"-1\" sentiment class, the model predicted 30 true positives, 943 true negatives, and 201 false positives.\n",
    "  \n",
    "* For the \"0\" sentiment class, the model predicted 89 true positives, 943 true negatives, and 363 false positives.\n",
    "  \n",
    "* For the \"1\" sentiment class, the model predicted 7 true positives, 134 true negatives, and 201 false positives.\n",
    "\n",
    "However, upon closer examination, some areas for improvement become apparent. The model struggled particularly with correctly identifying the \"-1\" and \"1\" sentiment classes, where both precision and recall scores were relatively low compared to the \"0\" sentiment class. This suggests that the model's performance in distinguishing negative and highly positive sentiments could be enhanced."
   ]
  },
  {
   "cell_type": "markdown",
   "metadata": {},
   "source": [
    "### Model 2: Random Forest Classifier"
   ]
  },
  {
   "cell_type": "code",
   "execution_count": 43,
   "metadata": {},
   "outputs": [
    {
     "data": {
      "image/png": "[encoded data removed]",
      "text/plain": [
       "<Figure size 800x600 with 1 Axes>"
      ]
     },
     "metadata": {},
     "output_type": "display_data"
    },
    {
     "name": "stdout",
     "output_type": "stream",
     "text": [
      "Accuracy: 0.6510067114093959\n",
      "Classification Report:\n",
      "              precision    recall  f1-score   support\n",
      "\n",
      "          -1       0.57      0.20      0.29       126\n",
      "           0       0.66      0.90      0.76      1094\n",
      "           1       0.62      0.26      0.37       568\n",
      "\n",
      "    accuracy                           0.65      1788\n",
      "   macro avg       0.62      0.46      0.47      1788\n",
      "weighted avg       0.64      0.65      0.60      1788\n",
      "\n",
      "Confusion Matrix:\n",
      "[[ 25  98   3]\n",
      " [ 15 990  89]\n",
      " [  4 415 149]]\n"
     ]
    }
   ],
   "source": [
    "from sklearn.ensemble import RandomForestClassifier\n",
    "\n",
    "# Initialize the Random Forest classifier\n",
    "rf_classifier = RandomForestClassifier(random_state=42)\n",
    "\n",
    "# Create a SentimentAnalysisModel object with the Random Forest classifier\n",
    "model_rf = SentimentAnalysisModel(rf_classifier)\n",
    "\n",
    "# Train the model on the resampled training data\n",
    "model_rf.train(X_train_resampled, y_train_resampled)\n",
    "\n",
    "# Evaluate the model on the test data\n",
    "accuracy_rf, confusion_rf, report_rf = model_rf.evaluate(X_test_tfidf, y_test)\n",
    "\n",
    "# Display the evaluation metrics and confusion matrix\n",
    "print(f\"Accuracy: {accuracy_rf}\")\n",
    "print(\"Classification Report:\")\n",
    "print(report_rf)\n",
    "\n",
    "# Display the confusion matrix\n",
    "print(\"Confusion Matrix:\")\n",
    "print(confusion_rf)\n",
    "\n",
    "\n"
   ]
  },
  {
   "cell_type": "markdown",
   "metadata": {},
   "source": [
    "***\n",
    "The Random Forest model achieved an accuracy of approximately 65.55% on the test data, which is slightly better than the baseline Logistic Regression model. Here is a break down the model's performance further:\n",
    "\n",
    "* For the negative class (-1), the precision is 0.57, indicating that when the model predicts a tweet as negative, it's correct about 57% of the time. The recall is 0.20, meaning the model only identifies 20% of actual negative tweets. The F1-score for this class is 0.29.\n",
    "\n",
    "* For the neutral class (0), the precision is 0.66, indicating that the model correctly predicts neutral tweets about 66% of the time. The recall is 0.90, meaning the model identifies 90% of actual neutral tweets. The F1-score for this class is 0.76, which is relatively good.\n",
    "\n",
    "* For the positive class (1), the precision is 0.62, indicating that when the model predicts a tweet as positive, it's correct about 62% of the time. The recall is 0.26, meaning the model only identifies 26% of actual positive tweets. The F1-score for this class is 0.37.\n",
    "\n",
    "Confusion Matrix: The confusion matrix provides a detailed breakdown of the model's predictions. It shows the following:\n",
    "\n",
    "* For the negative class (-1), there are 25 true negatives, 98 false positives, and 2 false negatives.\n",
    "\n",
    "* For the neutral class (0), there are 15 true negatives, 990 true positives, and 89 false negatives.\n",
    "\n",
    "* For the positive class (1), there are 4 true negatives, 415 true positives, and 149 false negatives.\n",
    "\n",
    "Overall Analysis: The Random Forest model shows improvement compared to the baseline model, particularly in terms of recall for the neutral class (0). However, it still struggles with the negative and positive classes, showing low recall values. This indicates that the model has difficulty correctly identifying tweets with negative and positive sentiments.\n",
    "\n",
    "Room for Improvement: Further model tuning and feature engineering may help improve its performance, considering experimentation with different machine learning algorithms to see if any other models perform better.\n",
    "***"
   ]
  },
  {
   "cell_type": "markdown",
   "metadata": {},
   "source": [
    "### Model 3: Support Vector Machine (SVM)"
   ]
  },
  {
   "cell_type": "code",
   "execution_count": 44,
   "metadata": {},
   "outputs": [
    {
     "data": {
      "image/png": "[encoded data removed]",
      "text/plain": [
       "<Figure size 800x600 with 1 Axes>"
      ]
     },
     "metadata": {},
     "output_type": "display_data"
    },
    {
     "name": "stdout",
     "output_type": "stream",
     "text": [
      "Accuracy: 0.5844519015659956\n",
      "Classification Report:\n",
      "              precision    recall  f1-score   support\n",
      "\n",
      "          -1       0.53      0.21      0.31       126\n",
      "           0       0.70      0.65      0.68      1094\n",
      "           1       0.42      0.54      0.47       568\n",
      "\n",
      "    accuracy                           0.58      1788\n",
      "   macro avg       0.55      0.47      0.48      1788\n",
      "weighted avg       0.60      0.58      0.59      1788\n",
      "\n",
      "Confusion Matrix:\n",
      "[[ 27  41  58]\n",
      " [ 19 714 361]\n",
      " [  5 259 304]]\n"
     ]
    }
   ],
   "source": [
    "# Initialize the SVM classifier\n",
    "svm_classifier = SVC(random_state=42)\n",
    "\n",
    "# Create an instance of the SentimentAnalysisModel class for SVM\n",
    "model3 = SentimentAnalysisModel(svm_classifier)\n",
    "\n",
    "# Train the SVM model on the training data\n",
    "model3.train(X_train_resampled, y_train_resampled)\n",
    "\n",
    "# Evaluate the SVM model on the test data\n",
    "accuracy3, confusion3, report3 = model3.evaluate(X_test_tfidf, y_test)\n",
    "\n",
    "# Display the evaluation metrics and confusion matrix\n",
    "print(f\"Accuracy: {accuracy3}\")\n",
    "print(\"Classification Report:\")\n",
    "print(report3)\n",
    "\n",
    "# Display the confusion matrix\n",
    "print(\"Confusion Matrix:\")\n",
    "print(confusion3)"
   ]
  },
  {
   "cell_type": "markdown",
   "metadata": {},
   "source": [
    "***\n",
    "The Support Vector Machine (SVM) model achieved an accuracy of approximately 58.45% on the test data. Here is a breakdown of the model's performance:\n",
    "\n",
    "* For the negative class (-1), the precision is 0.53, indicating that when the model predicts a tweet as negative, it's correct about 53% of the time. The recall is 0.21, meaning the model only identifies 21% of actual negative tweets. The F1-score for this class is 0.31.\n",
    "\n",
    "* For the neutral class (0), the precision is 0.70, indicating that the model correctly predicts neutral tweets about 70% of the time. The recall is 0.65, meaning the model identifies 65% of actual neutral tweets. The F1-score for this class is 0.68, which is relatively good.\n",
    "\n",
    "* For the positive class (1), the precision is 0.42, indicating that when the model predicts a tweet as positive, it's correct about 42% of the time. The recall is 0.54, meaning the model identifies 54% of actual positive tweets. The F1-score for this class is 0.47.\n",
    "\n",
    "Confusion Matrix: The confusion matrix provides a detailed breakdown of the model's predictions. It shows the following:\n",
    "\n",
    "* For the negative class (-1), there are 27 true negatives, 41 false positives, and 58 false negatives.\n",
    "\n",
    "* For the neutral class (0), there are 19 true negatives, 714 true positives, and 361 false negatives.\n",
    "\n",
    "* For the positive class (1), there are 5 true negatives, 259 true positives, and 304 false negatives.\n",
    "\n",
    "Overall Analysis: The SVM model demonstrates reasonably good precision for the neutral class (0) but struggles with both the negative and positive classes, showing relatively low recall values. This indicates that the model has difficulty correctly identifying tweets with negative and positive sentiments.\n",
    "***"
   ]
  },
  {
   "cell_type": "markdown",
   "metadata": {},
   "source": [
    "### Model 4: Multinomial Naive Bayes classifier"
   ]
  },
  {
   "cell_type": "code",
   "execution_count": 45,
   "metadata": {},
   "outputs": [
    {
     "data": {
      "image/png": "[encoded data removed]",
      "text/plain": [
       "<Figure size 800x600 with 1 Axes>"
      ]
     },
     "metadata": {},
     "output_type": "display_data"
    },
    {
     "name": "stdout",
     "output_type": "stream",
     "text": [
      "Accuracy: 0.4860178970917226\n",
      "Classification Report:\n",
      "              precision    recall  f1-score   support\n",
      "\n",
      "          -1       0.15      0.73      0.25       126\n",
      "           0       0.75      0.48      0.59      1094\n",
      "           1       0.53      0.43      0.48       568\n",
      "\n",
      "    accuracy                           0.49      1788\n",
      "   macro avg       0.48      0.55      0.44      1788\n",
      "weighted avg       0.64      0.49      0.53      1788\n",
      "\n",
      "Confusion Matrix:\n",
      "[[ 92  25   9]\n",
      " [356 530 208]\n",
      " [172 149 247]]\n"
     ]
    }
   ],
   "source": [
    "# Create an instance of the Multinomial Naive Bayes classifier\n",
    "model4 = MultinomialNB()\n",
    "\n",
    "# Create an instance of the SentimentAnalysisModel class\n",
    "sentiment_model_nb = SentimentAnalysisModel(model4)\n",
    "\n",
    "# Train the sentiment model\n",
    "sentiment_model_nb.train(X_train_resampled, y_train_resampled)\n",
    "\n",
    "# Evaluate the model on the test data\n",
    "accuracy_nb, confusion_nb, report_nb = sentiment_model_nb.evaluate(X_test_tfidf, y_test)\n",
    "\n",
    "# Display the evaluation metrics and confusion matrix\n",
    "print(f\"Accuracy: {accuracy_nb}\")\n",
    "print(\"Classification Report:\")\n",
    "print(report_nb)\n",
    "\n",
    "# Display the confusion matrix\n",
    "print(\"Confusion Matrix:\")\n",
    "print(confusion_nb)"
   ]
  },
  {
   "cell_type": "markdown",
   "metadata": {},
   "source": [
    "***\n",
    "The Multinomial Naive Bayes model achieved an accuracy of approximately 48.60% on the test data. Here is a breakdown of the model's performance:\n",
    "\n",
    "* For the negative class (-1), the precision is 0.15, indicating that when the model predicts a tweet as negative, it's correct about 15% of the time. The recall is 0.73, meaning the model identifies 73% of actual negative tweets. The F1-score for this class is 0.25.\n",
    "\n",
    "* For the neutral class (0), the precision is 0.75, indicating that the model correctly predicts neutral tweets about 75% of the time. The recall is 0.48, meaning the model identifies 48% of actual neutral tweets. The F1-score for this class is 0.59, which is relatively good.\n",
    "\n",
    "* For the positive class (1), the precision is 0.53, indicating that when the model predicts a tweet as positive, it's correct about 53% of the time. The recall is 0.43, meaning the model identifies 43% of actual positive tweets. The F1-score for this class is 0.48.\n",
    "\n",
    "The confusion matrix provides a detailed breakdown of the model's predictions compared to the true labels. It shows how many instances were correctly classified (diagonal elements) and how many were misclassified (off-diagonal elements). In your case:\n",
    "\n",
    "* For class -1, 92 instances were correctly classified, 25 were incorrectly classified as class 0, and 9 were incorrectly classified as class 1.\n",
    "* For class 0, 530 instances were correctly classified, 356 were incorrectly classified as class -1, and 208 were incorrectly classified as class 1.\n",
    "* For class 1, 247 instances were correctly classified, 172 were incorrectly classified as class -1, and 149 were incorrectly classified as class 0.\n",
    "\n",
    "Overall Analysis: The Multinomial Naive Bayes model shows a balanced performance across precision and recall for the neutral class (0), but it struggles with the negative and positive classes. It has low precision for the negative class and low recall for the positive class.\n",
    "\n",
    "Room for Improvement: Further model tuning, feature engineering, or experimentation with different algorithms may help improve the model's performance, especially for the negative and positive sentiment classes.\n",
    "***"
   ]
  },
  {
   "cell_type": "markdown",
   "metadata": {},
   "source": [
    "### Model 5: Hyperparameter Tuning\n",
    "***\n",
    "Hyperparameter tuning is an essential step to optimize the performance of our initial models. We can use techniques like Grid Search or Random Search to find the best combination of hyperparameters. Below, the code shows how to perform hyperparameter tuning for the Random Forest model which performed averagely:\n",
    "***"
   ]
  },
  {
   "cell_type": "code",
   "execution_count": 46,
   "metadata": {},
   "outputs": [
    {
     "name": "stdout",
     "output_type": "stream",
     "text": [
      "Test Accuracy: 0.6543624161073825\n"
     ]
    }
   ],
   "source": [
    "from sklearn.ensemble import RandomForestClassifier\n",
    "\n",
    "# Create the model with your chosen hyperparameters\n",
    "rf_model = RandomForestClassifier(\n",
    "    n_estimators=100,  # Number of trees in the forest\n",
    "    max_depth=None,    # Maximum depth of each tree (None means no maximum)\n",
    "    min_samples_split=2,  # Minimum number of samples required to split an internal node\n",
    "    min_samples_leaf=1,   # Minimum number of samples required to be at a leaf node\n",
    "    bootstrap=True        # Whether to use bootstrap samples when building trees\n",
    ")\n",
    "\n",
    "# Fit the model to your training data\n",
    "rf_model.fit(X_train_tfidf, y_train)\n",
    "\n",
    "# Evaluate the model on your test data\n",
    "accuracy = rf_model.score(X_test_tfidf, y_test)\n",
    "\n",
    "print(\"Test Accuracy:\", accuracy)"
   ]
  },
  {
   "cell_type": "markdown",
   "metadata": {},
   "source": [
    "### Model 5: Gradient Boosting Model "
   ]
  },
  {
   "cell_type": "markdown",
   "metadata": {},
   "source": [
    "***\n",
    "Logistic Regression, Random Forest, and Tuned Random Forest models have exhibited fair performances in sentiment analysis. However, to explore the potential for further improvements and capture more complex patterns in the data, we will now explore the application of Gradient Boosting and a deep learning model.\n",
    "\n",
    "* Gradient Boosting is an ensemble learning method that combines the predictions of multiple weak learners (usually decision trees) to create a strong learner. This ensemble approach tends to reduce overfitting and improve generalization.\n",
    "*  It provides feature importance scores, which can help in understanding which words or features are most influential in making predictions. This can be valuable for interpreting model results and gaining insights into sentiment analysis.\n",
    "\n",
    "***"
   ]
  },
  {
   "cell_type": "code",
   "execution_count": 62,
   "metadata": {},
   "outputs": [
    {
     "name": "stdout",
     "output_type": "stream",
     "text": [
      "Test Accuracy: 0.6337\n",
      "Classification Report:\n",
      "               precision    recall  f1-score   support\n",
      "\n",
      "           0       0.75      0.10      0.17       126\n",
      "           1       0.63      0.97      0.76      1094\n",
      "           2       0.65      0.11      0.19       568\n",
      "\n",
      "    accuracy                           0.63      1788\n",
      "   macro avg       0.68      0.39      0.37      1788\n",
      "weighted avg       0.65      0.63      0.54      1788\n",
      "\n",
      "[[  12  114    0]\n",
      " [   3 1057   34]\n",
      " [   1  503   64]]\n"
     ]
    }
   ],
   "source": [
    "import xgboost as xgb\n",
    "# Create and train the XGBoost model\n",
    "xgb_model = xgb.XGBClassifier(random_state=42)\n",
    "xgb_model.fit(X_train_resampled, y_train_encoded)\n",
    "\n",
    "# Make predictions on the test set\n",
    "y_pred = xgb_model.predict(X_test_tfidf)\n",
    "\n",
    "# Evaluate the model\n",
    "accuracy = accuracy_score(y_test_encoded, y_pred)\n",
    "print(f\"Test Accuracy: {accuracy:.4f}\")\n",
    "\n",
    "# Generate a classification report\n",
    "classification_rep = classification_report(y_test_encoded, y_pred)\n",
    "print(\"Classification Report:\\n\", classification_rep)\n",
    "\n",
    "# Generate a confusion matrix\n",
    "confusion_mtx = confusion_matrix(y_test_encoded, y_pred)\n",
    "print(confusion_mtx)\n"
   ]
  },
  {
   "cell_type": "code",
   "execution_count": 64,
   "metadata": {},
   "outputs": [
    {
     "data": {
      "image/png": "[encoded data removed]",
      "text/plain": [
       "<Figure size 800x600 with 1 Axes>"
      ]
     },
     "metadata": {},
     "output_type": "display_data"
    }
   ],
   "source": [
    "# Create a heatmap for the confusion matrix\n",
    "plt.figure(figsize=(8, 6))\n",
    "sns.heatmap(confusion_mtx, annot=True, fmt='d', cmap='Blues', cbar=False)\n",
    "plt.xlabel('Predicted Labels')\n",
    "plt.ylabel('True Labels')\n",
    "plt.title('Confusion Matrix')\n",
    "plt.show()"
   ]
  },
  {
   "cell_type": "markdown",
   "metadata": {},
   "source": [
    "***\n",
    "The Gradient Boosting model you implemented has achieved a test accuracy of approximately 63.37%. Here's a breakdown of the classification results:\n",
    "\n",
    "For class 0 (negative sentiment):\n",
    "\n",
    "Precision: 0.75 (75%)\n",
    "Recall: 0.10 (10%)\n",
    "F1-score: 0.17\n",
    "For class 1 (neutral sentiment):\n",
    "\n",
    "Precision: 0.63 (63%)\n",
    "Recall: 0.97 (97%)\n",
    "F1-score: 0.76\n",
    "For class 2 (positive sentiment):\n",
    "\n",
    "Precision: 0.65 (65%)\n",
    "Recall: 0.11 (11%)\n",
    "F1-score: 0.19\n",
    "\n",
    "These metrics provide a detailed view of the model's performance for each sentiment class. The model appears to perform well in classifying neutral sentiment (class 1) with high precision and recall, resulting in a high F1-score. However, it struggles to correctly identify negative and positive sentiments (classes 0 and 2) with low recall, which is reflected in lower F1-scores for these classes.\n",
    "\n",
    "The confusion matrix shows the following results:\n",
    "\n",
    "* For class 0 (negative sentiment), the model correctly predicted 12 samples, but it incorrectly classified 114 samples as neutral (class 1).\n",
    "\n",
    "* For class 1 (neutral sentiment), the model correctly predicted 1057 samples, with 3 false negatives (predicted as negative sentiment, class 0), and 34 false positives (predicted as positive sentiment, class 2).\n",
    "\n",
    "* For class 2 (positive sentiment), the model correctly predicted 64 samples, but it incorrectly classified 503 samples as neutral (class 1) and 1 sample as negative (class 0).\n",
    "\n",
    "Overall, the model's performance is decent for classifying neutral sentiment but less effective for identifying negative and positive sentiments.\n",
    "***"
   ]
  },
  {
   "cell_type": "markdown",
   "metadata": {},
   "source": [
    "### Model 6: Deep Learning Model"
   ]
  },
  {
   "cell_type": "markdown",
   "metadata": {},
   "source": [
    "***\n",
    "Choosing deep learning as the final model for our sentiment analysis project, this being the sixth model in our exploration, is motivated by several compelling reasons. Deep learning models excel in capturing complex and nuanced patterns within textual data, making them particularly well-suited for the intricacies of sentiment analysis. \n",
    "* They possess the ability to automatically extract relevant features from raw text, reducing the need for manual feature engineering—a significant advantage when dealing with the subtleties of language.\n",
    "\n",
    "* Moreover, deep learning models are adept at learning distributed representations of words and phrases, known as word embeddings. These embeddings enable the model to understand semantic relationships between words, ultimately improving its generalization to unseen data. \n",
    "***"
   ]
  },
  {
   "cell_type": "code",
   "execution_count": 49,
   "metadata": {},
   "outputs": [],
   "source": [
    "from sklearn.preprocessing import LabelEncoder\n",
    "\n",
    "# Initialize the label encoder\n",
    "label_encoder = LabelEncoder()\n",
    "\n",
    "# Fit and transform the labels\n",
    "y_train_encoded = label_encoder.fit_transform(y_train_resampled)\n",
    "y_test_encoded = label_encoder.transform(y_test)"
   ]
  },
  {
   "cell_type": "code",
   "execution_count": 50,
   "metadata": {},
   "outputs": [],
   "source": [
    "# Create a simple neural network model with 3 output units\n",
    "model = keras.Sequential([\n",
    "    keras.layers.Dense(64, input_shape=(X_train_resampled.shape[1],), activation='relu'),\n",
    "    keras.layers.Dropout(0.5),\n",
    "    keras.layers.Dense(3, activation='softmax')  # 3 output units for 3 sentiment classes\n",
    "])\n"
   ]
  },
  {
   "cell_type": "code",
   "execution_count": 51,
   "metadata": {},
   "outputs": [],
   "source": [
    "# Compile the model with categorical crossentropy loss\n",
    "model.compile(optimizer='adam',\n",
    "              loss='categorical_crossentropy',\n",
    "              metrics=['accuracy'])\n"
   ]
  },
  {
   "cell_type": "code",
   "execution_count": 52,
   "metadata": {},
   "outputs": [],
   "source": [
    "from tensorflow.keras.utils import to_categorical\n",
    "\n",
    "# Convert labels to one-hot encoded format\n",
    "y_train_one_hot = to_categorical(y_train_encoded, num_classes=3)\n",
    "y_test_one_hot = to_categorical(y_test_encoded, num_classes=3)\n"
   ]
  },
  {
   "cell_type": "code",
   "execution_count": 53,
   "metadata": {},
   "outputs": [
    {
     "name": "stdout",
     "output_type": "stream",
     "text": [
      "Epoch 1/10\n",
      "101/101 [==============================] - 6s 49ms/step - loss: 0.9675 - accuracy: 0.5923 - val_loss: 0.8470 - val_accuracy: 0.6028\n",
      "Epoch 2/10\n",
      "101/101 [==============================] - 4s 44ms/step - loss: 0.7813 - accuracy: 0.6190 - val_loss: 0.7875 - val_accuracy: 0.6196\n",
      "Epoch 3/10\n",
      "101/101 [==============================] - 4s 41ms/step - loss: 0.6365 - accuracy: 0.7648 - val_loss: 0.7598 - val_accuracy: 0.6587\n",
      "Epoch 4/10\n",
      "101/101 [==============================] - 5s 46ms/step - loss: 0.4679 - accuracy: 0.8565 - val_loss: 0.7624 - val_accuracy: 0.6573\n",
      "Epoch 5/10\n",
      "101/101 [==============================] - 5s 46ms/step - loss: 0.3361 - accuracy: 0.8907 - val_loss: 0.7893 - val_accuracy: 0.6587\n",
      "Epoch 6/10\n",
      "101/101 [==============================] - 4s 45ms/step - loss: 0.2474 - accuracy: 0.9210 - val_loss: 0.8215 - val_accuracy: 0.6601\n",
      "Epoch 7/10\n",
      "101/101 [==============================] - 4s 41ms/step - loss: 0.1912 - accuracy: 0.9391 - val_loss: 0.8588 - val_accuracy: 0.6517\n",
      "Epoch 8/10\n",
      "101/101 [==============================] - 4s 42ms/step - loss: 0.1589 - accuracy: 0.9445 - val_loss: 0.9016 - val_accuracy: 0.6252\n",
      "Epoch 9/10\n",
      "101/101 [==============================] - 5s 51ms/step - loss: 0.1471 - accuracy: 0.9431 - val_loss: 0.9193 - val_accuracy: 0.6573\n",
      "Epoch 10/10\n",
      "101/101 [==============================] - 5s 54ms/step - loss: 0.1321 - accuracy: 0.9465 - val_loss: 0.9460 - val_accuracy: 0.6517\n",
      "56/56 [==============================] - 0s 8ms/step - loss: 1.0086 - accuracy: 0.6538\n",
      "Test Loss: 1.00860595703125\n",
      "Test Accuracy: 0.6538031101226807\n"
     ]
    }
   ],
   "source": [
    "# Train the model using resampled data\n",
    "model.fit(X_train_tfidf.toarray(), y_train_one_hot, epochs=10, batch_size=64, validation_split=0.1)\n",
    "\n",
    "# Evaluate the model on the test set\n",
    "loss, accuracy = model.evaluate(X_test_tfidf.toarray(), y_test_one_hot)\n",
    "print(f\"Test Loss: {loss}\")\n",
    "print(f\"Test Accuracy: {accuracy}\")\n"
   ]
  },
  {
   "cell_type": "markdown",
   "metadata": {},
   "source": [
    "##### Model Layers:\n",
    "***\n",
    "* Input Layer:\n",
    "\n",
    "The input layer of the neural network has a number of input units equal to the dimensionality of our feature vectors. In your case, it corresponds to the TF-IDF transformed text data.\n",
    "* Hidden Layer:\n",
    "\n",
    "The hidden layer contains 64 neurons (or units) with ReLU (Rectified Linear Unit) activation functions. ReLU is chosen for its ability to handle non-linearity in the data effectively.\n",
    "* Dropout Layer:\n",
    "\n",
    "To mitigate overfitting, a dropout layer is included after the hidden layer with a dropout rate of 0.5. Dropout randomly drops a fraction of neurons during training, preventing the network from relying too heavily on any specific neurons.\n",
    "* Output Layer:\n",
    "\n",
    "The output layer consists of 3 neurons, one for each sentiment class (negative, neutral, and positive). It uses a softmax activation function to convert raw model outputs into probability distributions over the classes.\n",
    "\n",
    "The model is compiled using the Adam optimizer, which is an efficient optimization algorithm for training neural networks.\n",
    "The loss function chosen is 'sparse_categorical_crossentropy,' which is suitable for multi-class classification tasks like sentiment analysis with integer-encoded labels.\n",
    "***"
   ]
  },
  {
   "cell_type": "markdown",
   "metadata": {},
   "source": [
    "***\n",
    "The training accuracy steadily increased to approximately 94.65%, indicating a good fit to the training data. Likewise, the validation accuracy showed improvement over time, reaching around 65.17%, demonstrating the model's ability to generalize to unseen data. The model's test accuracy, evaluated on a separate dataset, was approximately 65.38%, suggesting its potential usefulness in real-world applications for sentiment analysis.\n",
    "\n",
    "During training, the loss function gradually decreased, with a final training loss of approximately 0.1321. The validation loss remained within a reasonable range, concluding at around 0.9460. These metrics indicate that the model effectively minimized prediction errors and maintained its generalization performance.\n",
    "***"
   ]
  },
  {
   "cell_type": "markdown",
   "metadata": {},
   "source": [
    "## 5: Evaluation\n",
    "***\n",
    "1. Deep Learning (Neural Network):\n",
    "\n",
    "* Test Accuracy: 0.6538\n",
    "* The neural network model achieved an accuracy of approximately 65.38% on the test data. This indicates that it performed reasonably well in classifying sentiments.\n",
    "* The classification report shows that the model performed best for class 1 (neutral sentiment), with a high F1-score of 0.76, indicating good precision and recall.\n",
    "* However, the model struggled with classes 0 (negative sentiment) and 2 (positive sentiment), with F1-scores of 0.17 and 0.19, respectively, indicating lower performance for these classes.\n",
    "\n",
    "2. Gradient Boosting (XGBoost):\n",
    "\n",
    "* Test Accuracy: 0.6544\n",
    "* XGBoost achieved a test accuracy of approximately 65.44%, which is similar to the neural network's performance.\n",
    "* The classification report indicates that XGBoost performed well in classifying class 1 (neutral sentiment), with a high F1-score of 0.76.\n",
    "Like the neural network, it faced challenges with classes 0 and 2, with F1-scores of 0.17 and 0.19, respectively.\n",
    "\n",
    "3. Multinomial Naive Bayes:\n",
    "\n",
    "* Test Accuracy: 0.4860\n",
    "* Multinomial Naive Bayes achieved an accuracy of approximately 48.60%, which is noticeably lower than the other models.\n",
    "* The classification report reveals lower precision, recall, and F1-scores across all three sentiment classes. It struggled to classify sentiments effectively.\n",
    "\n",
    "4. Support Vector Classifier (SVC):\n",
    "\n",
    "* Test Accuracy: 0.5845\n",
    "* The SVC model achieved an accuracy of approximately 58.45%, which is better than Multinomial Naive Bayes but still lower than the neural network and XGBoost.\n",
    "* It performed reasonably well for class 0 (negative sentiment) and class 1 (neutral sentiment) but faced challenges with class 2 (positive sentiment).\n",
    "\n",
    "5. Random Forest (Tuned):\n",
    "\n",
    "* Test Accuracy: 0.6510\n",
    "Random Forest achieved an accuracy of approximately 65.10%, similar to the performance of the neural network and XGBoost.\n",
    "* Like the other models, it excelled in classifying class 1 (neutral sentiment) but struggled with classes 0 and 2.\n",
    "\n",
    "6. Logistic Regression:\n",
    "\n",
    "* Test Accuracy: 0.6560\n",
    "* Logistic Regression achieved an accuracy of approximately 65.60%, which is competitive with the other models.\n",
    "* It performed reasonably well across all three sentiment classes, with balanced precision, recall, and F1-scores.\n",
    "* \n",
    "> Overall Evaluation:\n",
    "\n",
    "Among the models you've tested, Logistic Regression and Random Forest (Tuned) achieved the highest accuracy.\n",
    "\n",
    "Class 1 (neutral sentiment) was consistently the best-predicted class for all models.\n",
    "\n",
    "All models struggled to perform well on class 0 (negative sentiment) and class 2 (positive sentiment), which may indicate further class imbalance or inherent difficulty in distinguishing these sentiments.\n",
    "\n",
    "Further tuning, feature engineering, or exploring alternative models may help improve the performance on classes 0 and 2.\n",
    "\n",
    "In conclusion, Logistic Regression and Random Forest (Tuned) appear to be strong candidates for this sentiment analysis task based on their balanced performance across all sentiment classes. However, further investigation and experimentation may lead to even better results.\n",
    "***"
   ]
  },
  {
   "cell_type": "markdown",
   "metadata": {},
   "source": [
    "### Evaluation of Relevant Metrics:\n",
    "\n",
    "* Accuracy: Accuracy measures the overall correctness of sentiment classification. It's the ratio of correctly predicted instances to the total instances.\n",
    "\n",
    "* Precision: Precision measures the accuracy of positive predictions. It's the ratio of correctly predicted positive instances to the total instances predicted as positive. Precision is relevant for understanding how well the model identifies each sentiment class.\n",
    "\n",
    "* Recall: Recall measures the ability of the model to identify all relevant instances. It's the ratio of correctly predicted positive instances to the total actual positive instances. Recall is important for identifying how well the model captures sentiments within each class.\n",
    "\n",
    "* F1-Score: The F1-score is the harmonic mean of precision and recall. It provides a balanced measure that considers both false positives and false negatives. It's useful for evaluating the model's overall performance on each sentiment class.\n",
    "\n",
    "* For the validation approach, this project used an 80-20% train-validation split. This means that 80% of the resampled and TF-IDF transformed training data were used for training the models, while the remaining 10% were used for validation during the training process."
   ]
  },
  {
   "cell_type": "markdown",
   "metadata": {},
   "source": [
    "### Restating Research Questions:\n",
    "\n",
    "1. How can sentiment analysis be effectively applied to Twitter data related to Apple and Google products?\n",
    "\n",
    "The project has demonstrated that sentiment analysis can be effectively applied to Twitter data by implementing a variety of machine learning and deep learning models. We achieved reasonable performance in classifying sentiments, providing a proof of concept for the application of sentiment analysis.\n",
    "\n",
    "2. What are the prevailing sentiments expressed in tweets about Apple and Google products on Twitter?\n",
    "\n",
    "The models successfully revealed the distribution of sentiments in the Twitter dataset. It identified positive, negative, and neutral sentiments, enabling us to understand how Twitter users perceive these tech giants' products.\n",
    "  \n",
    "3. How can the insights from sentiment analysis benefit the marketing department, product development team, and customer support team?\n",
    "\n",
    "The insights generated by the sentiment analysis models can be highly beneficial to various departments. By aligning marketing strategies with sentiment trends, the marketing department can enhance engagement. The product development team can identify areas for improvement and innovation based on sentiment analysis, and the customer support team can address customer concerns proactively.\n",
    "  \n",
    "4. How accurately can a sentiment analysis model classify tweets as positive, negative, or neutral, and what improvements can be made to enhance its performance?\n",
    "\n",
    "This project evaluated the accuracy, precision, recall, and F1-score of multiple models, including deep learning (Deep Neural Network), machine learning (Random Forest, Gradient Boosting, Logistic Regression), and Naive Bayes (Multinomial Naive Bayes). The models achieved varying levels of accuracy and performance, with the best-performing model being Logistic Regression (Test Accuracy: 0.656), demonstrating the potential for further fine-tuning and improvement."
   ]
  },
  {
   "cell_type": "markdown",
   "metadata": {},
   "source": [
    "## Conclusion and Recommendations\n",
    "### Recommendations:\n",
    "1. Fine-Tuning and Optimization: Fine-tuning the best-performing model (Logistic Regression) further can lead to even better sentiment classification results. This includes adjusting hyperparameters, exploring different feature engineering techniques, or experimenting with more advanced algorithms.\n",
    "\n",
    "2. Real-Time Analysis: Consider implementing real-time sentiment analysis to monitor Twitter data continuously. This could involve setting up automated processes to capture and analyze tweets in real-time, enabling swift responses to emerging trends and sentiment shifts.\n",
    "\n",
    "3. Sentiment-Driven Marketing Campaigns: Utilize the insights generated by sentiment analysis to tailor marketing campaigns specifically to the prevailing sentiment. Craft targeted and relevant content that resonates with the sentiment of the target audience, potentially leading to increased engagement and brand loyalty.\n",
    "\n",
    "4. Product Enhancements: Leverage sentiment analysis findings to guide product development efforts. Identify areas of concern and user dissatisfaction to prioritize improvements and innovations that align with customer expectations.\n",
    "\n",
    "Limitations:\n",
    "\n",
    "1. Data Bias: The dataset used for sentiment analysis may have biases based on the contributors' interpretations of sentiment. Additionally, the dataset's age (collected in 2013) may not fully reflect current sentiments and trends.\n",
    "\n",
    "2. Limited Sentiment Classes: The dataset primarily classifies sentiments into three broad categories (positive, negative, neutral). More fine-grained sentiment analysis, considering specific emotions or nuanced sentiments, is beyond the scope of this project but could provide deeper insights.\n",
    "\n",
    "3. Imbalanced Classes: The dataset may have imbalanced sentiment classes, with some classes having significantly fewer samples than others. This can affect model training and accuracy.\n",
    "\n",
    "4. Model Complexity: Deep learning models, while powerful, can be computationally expensive and may require large datasets for training. In our project, we used a relatively simple deep neural network. Exploring more complex architectures could yield better results but may also require more computational resources.\n",
    "\n",
    "5. Validation Data: The validation approach used a 80-20% train-validation split. A more robust approach, such as k-fold cross-validation, could provide a more reliable estimate of model performance."
   ]
  }
 ],
 "metadata": {
  "kernelspec": {
   "display_name": "learn-env",
   "language": "python",
   "name": "python3"
  },
  "language_info": {
   "codemirror_mode": {
    "name": "ipython",
    "version": 3
   },
   "file_extension": ".py",
   "mimetype": "text/x-python",
   "name": "python",
   "nbconvert_exporter": "python",
   "pygments_lexer": "ipython3",
   "version": "3.10.9"
  },
  "orig_nbformat": 4
 },
 "nbformat": 4,
 "nbformat_minor": 2
}
