{
 "cells": [
  {
   "cell_type": "markdown",
   "metadata": {},
   "source": [
    "## Sentiment Analysis of Twitter Data for Apple and Google Products\n",
    "***\n",
    "Author: Joseph Kinuthia Githinji\n",
    "\n",
    "Student pace: Full Time\n",
    "\n",
    "Scheduled project review date/time: 1 Week\n",
    "\n",
    "Instructor name: Mark Tiba\n",
    "***\n",
    "\n",
    "## 1. Introduction\n",
    "In the ever-evolving digital age, social media platforms have emerged as a dynamic and influential medium through which individuals can freely express their thoughts, share their opinions, and openly convey their emotions. Among this digital landscape, Twitter distinguishes itself as an unparalleled source of raw, unfiltered data—a vibrant tapestry woven from the collective voices of millions around the world. Within this vast expanse of conversations and dialogues, lies a treasure trove of insights that illuminate the prevailing sentiments and attitudes of the public towards various brands and products.\n",
    "\n",
    "### A Focus on Sentiment Analysis\n",
    "In this transformative era, our data science project embarks on a journey into the heart of this digital realm, guided by the principles of sentiment analysis. We delve deep into the digital ocean of tweets, strategically navigating the ebb and flow of text data to uncover the underlying emotional currents. Our spotlight shines brightly on two iconic tech giants—Apple and Google—whose innovations have not only reshaped industries but have also left an indelible mark on the collective consciousness of society.\n",
    "\n",
    "### The Power of Twitter Data\n",
    "Twitter, with its real-time nature and widespread user engagement, serves as a real-time observatory of the digital zeitgeist. It captures the pulse of the moment, chronicling not only the latest news and trends but also the sentiments and emotions that define our interconnected world. This vast repository of text data encompasses a multitude of perspectives, ranging from praise and admiration to critique and discontent, providing a comprehensive view of how the public perceives and interacts with the world around them.\n",
    "\n",
    "## 2. Business Understanding\n",
    "### Stakeholders\n",
    "* Marketing Department:\n",
    "The marketing department plays a pivotal role in shaping the image and perception of Apple and Google products. Understanding how the public perceives these products on Twitter is crucial. The insights derived from sentiment analysis will empower the marketing team to fine-tune their campaigns, ensuring they resonate with the prevailing sentiment of the target audience. By aligning marketing efforts with the sentiments expressed by Twitter users, the department aims to enhance engagement and drive more effective outreach.\n",
    "\n",
    "* Product Development Team:\n",
    "The product development team is driven by a commitment to continuous improvement and innovation. To this end, they eagerly seek feedback from users. Sentiment analysis provides a valuable window into the minds of customers, revealing areas of satisfaction and concern. By tapping into the sentiments expressed on Twitter, the product development team gains a competitive advantage. Armed with these insights, they can identify specific pain points and areas for enhancement, thus refining existing products and conceiving new ones that better align with customer expectations.\n",
    "\n",
    "* Customer Support Team:\n",
    "The customer support team is the front line in addressing customer concerns and ensuring a positive user experience. Proactively addressing issues raised by customers on Twitter can be a game-changer in customer satisfaction. By monitoring and responding to negative sentiment in real-time, the customer support team can not only resolve problems promptly but also demonstrate a commitment to customer care. This approach fosters brand loyalty and helps maintain a high level of customer satisfaction.\n",
    "\n",
    "### Direct Impact\n",
    "* Marketing Strategies:\n",
    "The sentiment analysis conducted as part of this project directly impacts the marketing department's strategies. Armed with insights into how Twitter users perceive Apple and Google products, the marketing team can craft campaigns that resonate more effectively with the prevailing sentiment. This alignment ensures that marketing efforts are not only more targeted but also more likely to yield positive results.\n",
    "\n",
    "* Product Enhancements:\n",
    "For the product development team, the sentiment analysis findings offer a treasure trove of insights. By analyzing tweets, they can identify both strengths and weaknesses in current products. This information enables data-driven decision-making in product improvement and innovation. The team can prioritize enhancements that address specific pain points voiced by users on Twitter, thereby ensuring that product updates align with customer expectations.\n",
    "\n",
    "* Customer Satisfaction:\n",
    "The real-time monitoring and response to negative sentiment on Twitter directly contribute to customer satisfaction. By addressing customer concerns promptly, the customer support team demonstrates attentiveness and a commitment to problem resolution. This not only mitigates potential issues but also fosters goodwill among customers, leading to enhanced brand loyalty and overall customer satisfaction.\n",
    "\n",
    "### Business Problem(s) Solved\n",
    "#### The Real-World Problem:\n",
    "The tech industry, marked by relentless innovation and competition, continuously strives to meet the evolving needs and preferences of its customers. The success of companies like Apple and Google hinges not only on the quality of their products but also on the perception and sentiments of their user base. Public opinion, when harnessed effectively, can serve as a powerful tool to drive marketing strategies, steer product development, and enhance customer satisfaction.\n",
    "\n",
    "The primary business problem this project addresses is the need to understand and harness public sentiment effectively. Specifically, it tackles the following challenges:\n",
    "\n",
    "* Understanding Public Sentiment: The project aims to decipher the sentiment—whether positive, negative, or neutral—associated with tweets related to Apple and Google products. This understanding is vital for making informed decisions and strategies.\n",
    "\n",
    "* Aligning Marketing Campaigns: By aligning marketing campaigns with the prevailing sentiment, the project assists in crafting targeted and effective marketing strategies that resonate with the target audience.\n",
    "\n",
    "* Guiding Product Development: Sentiment analysis provides insights into user satisfaction and areas of concern. These insights guide product development, ensuring that updates and innovations meet customer expectations.\n",
    "\n",
    "* Enhancing Customer Support: Real-time monitoring of Twitter sentiment allows for prompt addressing of customer concerns, leading to improved customer satisfaction and loyalty.\n",
    "\n",
    "### Scope of the Project\n",
    "The scope of this project encompasses the development of a robust sentiment analysis model that can classify tweets related to Apple and Google products into one of three categories: positive, negative, or neutral. The project aims to achieve a Proof of Concept (POC) to demonstrate the feasibility and value of sentiment analysis within a reasonable timeframe.\n",
    "\n",
    "### Outside the Scope\n",
    "Certain aspects fall outside the scope of this initial project:\n",
    "\n",
    "* Detailed Sentiment Analysis: A more nuanced analysis, such as identifying specific emotions within positive or negative sentiments, is beyond the current scope and could be explored in future phases.\n",
    "\n",
    "* Real-Time Analysis: Real-time analysis and immediate response to tweets are not within the scope of this project, which focuses on batch processing and analysis.\n",
    "\n",
    "### Data Sources\n",
    "The primary data source for this project is a dataset obtained from CrowdFlower, a platform known for crowd-sourced data labeling and annotation. The dataset, added to CrowdFlower on August 30, 2013, was made available to the public for educational and research purposes.\n",
    "\n",
    "Contributors participating in this data collection task evaluated tweets related to various brands and products, including but not limited to Apple and Google. Each contributor was presented with a tweet and tasked with determining the emotional tone expressed within the tweet. Specifically, contributors were asked to classify whether the tweet expressed a positive, negative, or no emotion towards a brand and/or product.\n",
    "\n",
    "The dataset is available for download from the CrowdFlower platform, providing researchers and data scientists with access to a valuable resource for sentiment analysis and related NLP tasks. It can be accessed through the following URL on the [Dataworld platform](https://data.world/crowdflower/brands-and-product-emotions/workspace/file?filename=judge-1377884607_tweet_product_company.csv).\n",
    "\n",
    "### Expected Timeline\n",
    "The project timeline is designed to achieve a Proof of Concept (POC) within a few weeks. While the exact timeline may vary, the objective is to provide stakeholders with timely insights and demonstrate the value of sentiment analysis in a relatively short period.\n",
    "\n",
    "### Stakeholder Alignment\n",
    "Effective communication and alignment with stakeholders are crucial throughout the project's lifecycle. Regular updates and collaboration with the marketing department, product development team, and customer support team will ensure that the sentiment analysis aligns with their goals and expectations.\n",
    "\n",
    "### Problem Statement\n",
    "The primary challenge lies in building a robust sentiment analysis model capable of accurately classifying tweets about Apple and Google products as positive, negative, or neutral. This requires tackling various natural language processing (NLP) challenges, including text preprocessing, feature extraction, and model training.\n",
    "\n",
    "### Objective\n",
    "The project's primary objective is to develop a Proof of Concept (POC) sentiment analysis model that can effectively classify tweets related to Apple and Google products. This model will serve as a foundational step towards harnessing public sentiment for improved decision-making.\n",
    "\n",
    "### Benefits\n",
    "The successful execution of this project offers several tangible benefits:\n",
    "\n",
    "* Improved Marketing Strategies: The sentiment analysis model will empower the marketing department to craft more targeted and effective campaigns, enhancing outreach and engagement.\n",
    "\n",
    "* Enhanced Product Development: Insights from sentiment analysis will guide product development, leading to products that better align with customer expectations.\n",
    "\n",
    "* Heightened Customer Satisfaction: By addressing negative sentiment proactively, the customer support team can improve customer satisfaction and foster brand loyalty.\n",
    "\n",
    "### Research Questions\n",
    "To guide the project and achieve its objectives, the following research questions will be addressed:\n",
    "\n",
    "1. How can sentiment analysis be effectively applied to Twitter data related to Apple and Google products?\n",
    "2. What are the prevailing sentiments expressed in tweets about Apple and Google products on Twitter?\n",
    "3. How can the insights from sentiment analysis benefit the marketing department, product development team, and customer support team?\n",
    "4. How accurately can a sentiment analysis model classify tweets as positive, negative, or neutral, and what improvements can be made to enhance its performance?\n",
    "***"
   ]
  },
  {
   "cell_type": "markdown",
   "metadata": {},
   "source": [
    "## 2. Data Understanding\n",
    "***\n",
    "### Data Sources\n",
    "The primary data source for this project is a meticulously curated dataset obtained from CrowdFlower, a renowned platform for crowd-sourced data labeling and annotation. This dataset, labelled **judge_1377884607_tweet_product_company** was added to CrowdFlower on August 30, 2013, and is comprised of a total of 9,093 data rows. The dataset was made accessible to the public, aligning perfectly with the educational and research objectives of this project.\n",
    "\n",
    "### Suitability of the Data\n",
    "The choice of this dataset is underpinned by several factors that render it highly suitable for the project's goals:\n",
    "\n",
    "* Relevance to Problem: The dataset consists of tweets that have been assessed by contributors for their sentiment towards various brands and products. Given that the project's core objective is sentiment analysis of tweets related to Apple and Google products, this dataset aligns seamlessly with the problem of interest.\n",
    "\n",
    "* Human-Annotated: The dataset benefits from human annotation, where contributors have evaluated each tweet, determining whether it expresses positive, negative, or no emotion towards a brand or product. Additionally, when emotion is expressed, contributors have specified the target brand or product. This human-annotated aspect greatly enhances the quality and reliability of the data.\n",
    "\n",
    "* Diversity: The dataset encompasses a diverse range of tweets that cover not only Apple and Google products but also other brands and products. This diversity contributes to a more comprehensive understanding of how public sentiment varies across different entities.\n",
    "\n",
    "### Dataset Size and Descriptive Statistics\n",
    "The dataset comprises 9,093 rows, each representing a unique tweet. For this analysis, we focus on the following key features:\n",
    "\n",
    "***tweet_text***: The text of the tweet, which serves as the primary source of data for sentiment analysis.\n",
    "\n",
    "***emotion_in_tweet_is_directed_at***: This feature specifies the brand or product towards which the tweet's emotion is directed.\n",
    "\n",
    "***is_there_an_emotion_directed_at_a_brand_or_product***: This categorical feature classifies the sentiment of the tweet as either positive, negative, or no emotion towards a brand or product.\n",
    "\n",
    "Let's delve into the descriptive statistics for the categorical feature, 'is_there_an_emotion_directed_at_a_brand_or_product':\n",
    "\n",
    "* Positive emotion: The dataset includes tweets expressing positive sentiment towards a brand or product.\n",
    "* Negative emotion: The dataset contains tweets indicating negative sentiment towards a brand or product.\n",
    "* No emotion toward brand or product: Some tweets in the dataset do not express any emotion towards a brand or product.\n",
    "The breakdown of the dataset into these categories provides valuable insights into the distribution of sentiment.\n",
    "\n",
    "### Justification of Feature Inclusion\n",
    "The features included in the analysis are integral to addressing the project's objectives:\n",
    "\n",
    "* tweet_text: This feature serves as the primary text data that will be analyzed for sentiment. It provides the textual context for sentiment classification.\n",
    "  \n",
    "* emotion_in_tweet_is_directed_at: Identifying the target brand or product of the emotion expressed in the tweet is essential for understanding which entities are most frequently associated with positive or negative sentiment.\n",
    "  \n",
    "* is_there_an_emotion_directed_at_a_brand_or_product: This categorical feature is the crux of the sentiment analysis, categorizing tweets into positive, negative, or neutral sentiment categories. It directly addresses the project's primary problem.\n",
    "  \n",
    "### Limitations of the Data\n",
    "While the dataset holds immense value for sentiment analysis, it's essential to acknowledge certain limitations that may have implications for the project:\n",
    "\n",
    "* Temporal Aspect: The dataset was collected in 2013. Twitter data is known to evolve rapidly, and sentiment may change over time. Therefore, the sentiments expressed in tweets from 2013 may not fully reflect the current sentiment towards Apple and Google products.\n",
    "\n",
    "* Sample Bias: Crowd-sourced data collection may introduce bias, as contributors' interpretations of sentiment can vary. Additionally, the dataset may not be representative of the entire Twitter population.\n",
    "\n",
    "* Limited Features: The dataset primarily consists of text data, which is ideal for NLP tasks like sentiment analysis. However, other contextual information, such as user demographics or tweet engagement metrics, is not available and could provide further insights.\n",
    "\n",
    "* Multiclass Classification: The dataset focuses on three sentiment categories (positive, negative, and neutral). While this simplifies the analysis, it may not capture more nuanced emotions that users express in tweets.\n",
    "\n",
    "It is essential to acknowledge these limitations that warrant consideration when interpreting the project's results and drawing conclusions. They are crucial to keep in mind throughout the project, acting as signposts to guide the interpretation of sentiment analysis outcomes. They underscore the need for cautious and context-aware conclusions based on the data's inherent constraints and characteristics.\n",
    "***"
   ]
  },
  {
   "cell_type": "markdown",
   "metadata": {},
   "source": [
    "## 3. Data Preparation\n",
    "***\n",
    "In this section, we outline the steps taken to prepare the raw data for analysis. Proper data preparation is essential for ensuring that the dataset is in a suitable format and quality for downstream analysis. Below, we provide instructions, code, comments, and justifications for each data preparation step.\n",
    "***"
   ]
  },
  {
   "cell_type": "markdown",
   "metadata": {},
   "source": [
    "### Step 1. Importing Relevant Packages\n",
    "***\n",
    "Below, we start with these imports cover a wide range of data manipulation, NLP, machine learning, and visualization tasks, providing the necessary tools to perform sentiment analysis on the dataset.\n",
    "***"
   ]
  },
  {
   "cell_type": "code",
   "execution_count": 2,
   "metadata": {},
   "outputs": [
    {
     "ename": "ImportError",
     "evalue": "cannot import name 'int' from 'numpy' (c:\\Users\\kinut\\anaconda3\\envs\\learn-env\\lib\\site-packages\\numpy\\__init__.py)",
     "output_type": "error",
     "traceback": [
      "\u001b[1;31m---------------------------------------------------------------------------\u001b[0m",
      "\u001b[1;31mImportError\u001b[0m                               Traceback (most recent call last)",
      "\u001b[1;32mc:\\Users\\kinut\\Documents\\Flatiron\\Phase-4-Project-\\index.ipynb Cell 5\u001b[0m line \u001b[0;36m2\n\u001b[0;32m     <a href='vscode-notebook-cell:/c%3A/Users/kinut/Documents/Flatiron/Phase-4-Project-/index.ipynb#W4sZmlsZQ%3D%3D?line=18'>19</a>\u001b[0m \u001b[39mfrom\u001b[39;00m \u001b[39mnltk\u001b[39;00m\u001b[39m.\u001b[39;00m\u001b[39mprobability\u001b[39;00m \u001b[39mimport\u001b[39;00m FreqDist\n\u001b[0;32m     <a href='vscode-notebook-cell:/c%3A/Users/kinut/Documents/Flatiron/Phase-4-Project-/index.ipynb#W4sZmlsZQ%3D%3D?line=20'>21</a>\u001b[0m \u001b[39m# Machine learning\u001b[39;00m\n\u001b[1;32m---> <a href='vscode-notebook-cell:/c%3A/Users/kinut/Documents/Flatiron/Phase-4-Project-/index.ipynb#W4sZmlsZQ%3D%3D?line=21'>22</a>\u001b[0m \u001b[39mfrom\u001b[39;00m \u001b[39msklearn\u001b[39;00m\u001b[39m.\u001b[39;00m\u001b[39mmodel_selection\u001b[39;00m \u001b[39mimport\u001b[39;00m train_test_split\n\u001b[0;32m     <a href='vscode-notebook-cell:/c%3A/Users/kinut/Documents/Flatiron/Phase-4-Project-/index.ipynb#W4sZmlsZQ%3D%3D?line=22'>23</a>\u001b[0m \u001b[39mfrom\u001b[39;00m \u001b[39msklearn\u001b[39;00m\u001b[39m.\u001b[39;00m\u001b[39mfeature_extraction\u001b[39;00m\u001b[39m.\u001b[39;00m\u001b[39mtext\u001b[39;00m \u001b[39mimport\u001b[39;00m TfidfVectorizer, CountVectorizer\n\u001b[0;32m     <a href='vscode-notebook-cell:/c%3A/Users/kinut/Documents/Flatiron/Phase-4-Project-/index.ipynb#W4sZmlsZQ%3D%3D?line=23'>24</a>\u001b[0m \u001b[39mfrom\u001b[39;00m \u001b[39msklearn\u001b[39;00m\u001b[39m.\u001b[39;00m\u001b[39mensemble\u001b[39;00m \u001b[39mimport\u001b[39;00m RandomForestClassifier\n",
      "File \u001b[1;32mc:\\Users\\kinut\\anaconda3\\envs\\learn-env\\lib\\site-packages\\sklearn\\__init__.py:80\u001b[0m\n\u001b[0;32m     78\u001b[0m \u001b[39mfrom\u001b[39;00m \u001b[39m.\u001b[39;00m \u001b[39mimport\u001b[39;00m _distributor_init  \u001b[39m# noqa: F401\u001b[39;00m\n\u001b[0;32m     79\u001b[0m \u001b[39mfrom\u001b[39;00m \u001b[39m.\u001b[39;00m \u001b[39mimport\u001b[39;00m __check_build  \u001b[39m# noqa: F401\u001b[39;00m\n\u001b[1;32m---> 80\u001b[0m \u001b[39mfrom\u001b[39;00m \u001b[39m.\u001b[39;00m\u001b[39mbase\u001b[39;00m \u001b[39mimport\u001b[39;00m clone\n\u001b[0;32m     81\u001b[0m \u001b[39mfrom\u001b[39;00m \u001b[39m.\u001b[39;00m\u001b[39mutils\u001b[39;00m\u001b[39m.\u001b[39;00m\u001b[39m_show_versions\u001b[39;00m \u001b[39mimport\u001b[39;00m show_versions\n\u001b[0;32m     83\u001b[0m __all__ \u001b[39m=\u001b[39m [\u001b[39m'\u001b[39m\u001b[39mcalibration\u001b[39m\u001b[39m'\u001b[39m, \u001b[39m'\u001b[39m\u001b[39mcluster\u001b[39m\u001b[39m'\u001b[39m, \u001b[39m'\u001b[39m\u001b[39mcovariance\u001b[39m\u001b[39m'\u001b[39m, \u001b[39m'\u001b[39m\u001b[39mcross_decomposition\u001b[39m\u001b[39m'\u001b[39m,\n\u001b[0;32m     84\u001b[0m            \u001b[39m'\u001b[39m\u001b[39mdatasets\u001b[39m\u001b[39m'\u001b[39m, \u001b[39m'\u001b[39m\u001b[39mdecomposition\u001b[39m\u001b[39m'\u001b[39m, \u001b[39m'\u001b[39m\u001b[39mdummy\u001b[39m\u001b[39m'\u001b[39m, \u001b[39m'\u001b[39m\u001b[39mensemble\u001b[39m\u001b[39m'\u001b[39m, \u001b[39m'\u001b[39m\u001b[39mexceptions\u001b[39m\u001b[39m'\u001b[39m,\n\u001b[0;32m     85\u001b[0m            \u001b[39m'\u001b[39m\u001b[39mexperimental\u001b[39m\u001b[39m'\u001b[39m, \u001b[39m'\u001b[39m\u001b[39mexternals\u001b[39m\u001b[39m'\u001b[39m, \u001b[39m'\u001b[39m\u001b[39mfeature_extraction\u001b[39m\u001b[39m'\u001b[39m,\n\u001b[1;32m   (...)\u001b[0m\n\u001b[0;32m     94\u001b[0m            \u001b[39m'\u001b[39m\u001b[39mclone\u001b[39m\u001b[39m'\u001b[39m, \u001b[39m'\u001b[39m\u001b[39mget_config\u001b[39m\u001b[39m'\u001b[39m, \u001b[39m'\u001b[39m\u001b[39mset_config\u001b[39m\u001b[39m'\u001b[39m, \u001b[39m'\u001b[39m\u001b[39mconfig_context\u001b[39m\u001b[39m'\u001b[39m,\n\u001b[0;32m     95\u001b[0m            \u001b[39m'\u001b[39m\u001b[39mshow_versions\u001b[39m\u001b[39m'\u001b[39m]\n",
      "File \u001b[1;32mc:\\Users\\kinut\\anaconda3\\envs\\learn-env\\lib\\site-packages\\sklearn\\base.py:21\u001b[0m\n\u001b[0;32m     19\u001b[0m \u001b[39mfrom\u001b[39;00m \u001b[39m.\u001b[39;00m \u001b[39mimport\u001b[39;00m __version__\n\u001b[0;32m     20\u001b[0m \u001b[39mfrom\u001b[39;00m \u001b[39m.\u001b[39;00m\u001b[39m_config\u001b[39;00m \u001b[39mimport\u001b[39;00m get_config\n\u001b[1;32m---> 21\u001b[0m \u001b[39mfrom\u001b[39;00m \u001b[39m.\u001b[39;00m\u001b[39mutils\u001b[39;00m \u001b[39mimport\u001b[39;00m _IS_32BIT\n\u001b[0;32m     22\u001b[0m \u001b[39mfrom\u001b[39;00m \u001b[39m.\u001b[39;00m\u001b[39mutils\u001b[39;00m\u001b[39m.\u001b[39;00m\u001b[39mvalidation\u001b[39;00m \u001b[39mimport\u001b[39;00m check_X_y\n\u001b[0;32m     23\u001b[0m \u001b[39mfrom\u001b[39;00m \u001b[39m.\u001b[39;00m\u001b[39mutils\u001b[39;00m\u001b[39m.\u001b[39;00m\u001b[39mvalidation\u001b[39;00m \u001b[39mimport\u001b[39;00m check_array\n",
      "File \u001b[1;32mc:\\Users\\kinut\\anaconda3\\envs\\learn-env\\lib\\site-packages\\sklearn\\utils\\__init__.py:23\u001b[0m\n\u001b[0;32m     20\u001b[0m \u001b[39mfrom\u001b[39;00m \u001b[39mscipy\u001b[39;00m\u001b[39m.\u001b[39;00m\u001b[39msparse\u001b[39;00m \u001b[39mimport\u001b[39;00m issparse\n\u001b[0;32m     22\u001b[0m \u001b[39mfrom\u001b[39;00m \u001b[39m.\u001b[39;00m\u001b[39mmurmurhash\u001b[39;00m \u001b[39mimport\u001b[39;00m murmurhash3_32\n\u001b[1;32m---> 23\u001b[0m \u001b[39mfrom\u001b[39;00m \u001b[39m.\u001b[39;00m\u001b[39mclass_weight\u001b[39;00m \u001b[39mimport\u001b[39;00m compute_class_weight, compute_sample_weight\n\u001b[0;32m     24\u001b[0m \u001b[39mfrom\u001b[39;00m \u001b[39m.\u001b[39;00m \u001b[39mimport\u001b[39;00m _joblib\n\u001b[0;32m     25\u001b[0m \u001b[39mfrom\u001b[39;00m \u001b[39m.\u001b[39;00m\u001b[39m.\u001b[39;00m\u001b[39mexceptions\u001b[39;00m \u001b[39mimport\u001b[39;00m DataConversionWarning\n",
      "File \u001b[1;32mc:\\Users\\kinut\\anaconda3\\envs\\learn-env\\lib\\site-packages\\sklearn\\utils\\class_weight.py:7\u001b[0m\n\u001b[0;32m      1\u001b[0m \u001b[39m# Authors: Andreas Mueller\u001b[39;00m\n\u001b[0;32m      2\u001b[0m \u001b[39m#          Manoj Kumar\u001b[39;00m\n\u001b[0;32m      3\u001b[0m \u001b[39m# License: BSD 3 clause\u001b[39;00m\n\u001b[0;32m      5\u001b[0m \u001b[39mimport\u001b[39;00m \u001b[39mnumpy\u001b[39;00m \u001b[39mas\u001b[39;00m \u001b[39mnp\u001b[39;00m\n\u001b[1;32m----> 7\u001b[0m \u001b[39mfrom\u001b[39;00m \u001b[39m.\u001b[39;00m\u001b[39mvalidation\u001b[39;00m \u001b[39mimport\u001b[39;00m _deprecate_positional_args\n\u001b[0;32m     10\u001b[0m \u001b[39m@_deprecate_positional_args\u001b[39m\n\u001b[0;32m     11\u001b[0m \u001b[39mdef\u001b[39;00m \u001b[39mcompute_class_weight\u001b[39m(class_weight, \u001b[39m*\u001b[39m, classes, y):\n\u001b[0;32m     12\u001b[0m \u001b[39m    \u001b[39m\u001b[39m\"\"\"Estimate class weights for unbalanced datasets.\u001b[39;00m\n\u001b[0;32m     13\u001b[0m \n\u001b[0;32m     14\u001b[0m \u001b[39m    Parameters\u001b[39;00m\n\u001b[1;32m   (...)\u001b[0m\n\u001b[0;32m     38\u001b[0m \u001b[39m    Logistic Regression in Rare Events Data, King, Zen, 2001.\u001b[39;00m\n\u001b[0;32m     39\u001b[0m \u001b[39m    \"\"\"\u001b[39;00m\n",
      "File \u001b[1;32mc:\\Users\\kinut\\anaconda3\\envs\\learn-env\\lib\\site-packages\\sklearn\\utils\\validation.py:25\u001b[0m\n\u001b[0;32m     21\u001b[0m \u001b[39mimport\u001b[39;00m \u001b[39mjoblib\u001b[39;00m\n\u001b[0;32m     23\u001b[0m \u001b[39mfrom\u001b[39;00m \u001b[39mcontextlib\u001b[39;00m \u001b[39mimport\u001b[39;00m suppress\n\u001b[1;32m---> 25\u001b[0m \u001b[39mfrom\u001b[39;00m \u001b[39m.\u001b[39;00m\u001b[39mfixes\u001b[39;00m \u001b[39mimport\u001b[39;00m _object_dtype_isnan, parse_version\n\u001b[0;32m     26\u001b[0m \u001b[39mfrom\u001b[39;00m \u001b[39m.\u001b[39;00m\u001b[39m.\u001b[39;00m \u001b[39mimport\u001b[39;00m get_config \u001b[39mas\u001b[39;00m _get_config\n\u001b[0;32m     27\u001b[0m \u001b[39mfrom\u001b[39;00m \u001b[39m.\u001b[39;00m\u001b[39m.\u001b[39;00m\u001b[39mexceptions\u001b[39;00m \u001b[39mimport\u001b[39;00m NonBLASDotWarning, PositiveSpectrumWarning\n",
      "File \u001b[1;32mc:\\Users\\kinut\\anaconda3\\envs\\learn-env\\lib\\site-packages\\sklearn\\utils\\fixes.py:18\u001b[0m\n\u001b[0;32m     16\u001b[0m \u001b[39mimport\u001b[39;00m \u001b[39mscipy\u001b[39;00m\u001b[39m.\u001b[39;00m\u001b[39msparse\u001b[39;00m \u001b[39mas\u001b[39;00m \u001b[39msp\u001b[39;00m\n\u001b[0;32m     17\u001b[0m \u001b[39mimport\u001b[39;00m \u001b[39mscipy\u001b[39;00m\n\u001b[1;32m---> 18\u001b[0m \u001b[39mimport\u001b[39;00m \u001b[39mscipy\u001b[39;00m\u001b[39m.\u001b[39;00m\u001b[39mstats\u001b[39;00m\n\u001b[0;32m     19\u001b[0m \u001b[39mfrom\u001b[39;00m \u001b[39mscipy\u001b[39;00m\u001b[39m.\u001b[39;00m\u001b[39msparse\u001b[39;00m\u001b[39m.\u001b[39;00m\u001b[39mlinalg\u001b[39;00m \u001b[39mimport\u001b[39;00m lsqr \u001b[39mas\u001b[39;00m sparse_lsqr  \u001b[39m# noqa\u001b[39;00m\n\u001b[0;32m     20\u001b[0m \u001b[39mfrom\u001b[39;00m \u001b[39mnumpy\u001b[39;00m\u001b[39m.\u001b[39;00m\u001b[39mma\u001b[39;00m \u001b[39mimport\u001b[39;00m MaskedArray \u001b[39mas\u001b[39;00m _MaskedArray  \u001b[39m# TODO: remove in 0.25\u001b[39;00m\n",
      "File \u001b[1;32mc:\\Users\\kinut\\anaconda3\\envs\\learn-env\\lib\\site-packages\\scipy\\stats\\__init__.py:388\u001b[0m\n\u001b[0;32m      1\u001b[0m \u001b[39m\"\"\"\u001b[39;00m\n\u001b[0;32m      2\u001b[0m \u001b[39m.. _statsrefmanual:\u001b[39;00m\n\u001b[0;32m      3\u001b[0m \n\u001b[1;32m   (...)\u001b[0m\n\u001b[0;32m    386\u001b[0m \n\u001b[0;32m    387\u001b[0m \u001b[39m\"\"\"\u001b[39;00m\n\u001b[1;32m--> 388\u001b[0m \u001b[39mfrom\u001b[39;00m \u001b[39m.\u001b[39;00m\u001b[39mstats\u001b[39;00m \u001b[39mimport\u001b[39;00m \u001b[39m*\u001b[39m\n\u001b[0;32m    389\u001b[0m \u001b[39mfrom\u001b[39;00m \u001b[39m.\u001b[39;00m\u001b[39mdistributions\u001b[39;00m \u001b[39mimport\u001b[39;00m \u001b[39m*\u001b[39m\n\u001b[0;32m    390\u001b[0m \u001b[39mfrom\u001b[39;00m \u001b[39m.\u001b[39;00m\u001b[39mmorestats\u001b[39;00m \u001b[39mimport\u001b[39;00m \u001b[39m*\u001b[39m\n",
      "File \u001b[1;32mc:\\Users\\kinut\\anaconda3\\envs\\learn-env\\lib\\site-packages\\scipy\\stats\\stats.py:174\u001b[0m\n\u001b[0;32m    171\u001b[0m \u001b[39mimport\u001b[39;00m \u001b[39mnumpy\u001b[39;00m \u001b[39mas\u001b[39;00m \u001b[39mnp\u001b[39;00m\n\u001b[0;32m    172\u001b[0m \u001b[39mfrom\u001b[39;00m \u001b[39mnumpy\u001b[39;00m \u001b[39mimport\u001b[39;00m array, asarray, ma\n\u001b[1;32m--> 174\u001b[0m \u001b[39mfrom\u001b[39;00m \u001b[39mscipy\u001b[39;00m\u001b[39m.\u001b[39;00m\u001b[39mspatial\u001b[39;00m\u001b[39m.\u001b[39;00m\u001b[39mdistance\u001b[39;00m \u001b[39mimport\u001b[39;00m cdist\n\u001b[0;32m    175\u001b[0m \u001b[39mfrom\u001b[39;00m \u001b[39mscipy\u001b[39;00m\u001b[39m.\u001b[39;00m\u001b[39mndimage\u001b[39;00m \u001b[39mimport\u001b[39;00m measurements\n\u001b[0;32m    176\u001b[0m \u001b[39mfrom\u001b[39;00m \u001b[39mscipy\u001b[39;00m\u001b[39m.\u001b[39;00m\u001b[39m_lib\u001b[39;00m\u001b[39m.\u001b[39;00m\u001b[39m_util\u001b[39;00m \u001b[39mimport\u001b[39;00m (_lazywhere, check_random_state, MapWrapper,\n\u001b[0;32m    177\u001b[0m                               rng_integers)\n",
      "File \u001b[1;32mc:\\Users\\kinut\\anaconda3\\envs\\learn-env\\lib\\site-packages\\scipy\\spatial\\__init__.py:102\u001b[0m\n\u001b[0;32m    100\u001b[0m \u001b[39mfrom\u001b[39;00m \u001b[39m.\u001b[39;00m\u001b[39m_plotutils\u001b[39;00m \u001b[39mimport\u001b[39;00m \u001b[39m*\u001b[39m\n\u001b[0;32m    101\u001b[0m \u001b[39mfrom\u001b[39;00m \u001b[39m.\u001b[39;00m\u001b[39m_procrustes\u001b[39;00m \u001b[39mimport\u001b[39;00m procrustes\n\u001b[1;32m--> 102\u001b[0m \u001b[39mfrom\u001b[39;00m \u001b[39m.\u001b[39;00m\u001b[39m_geometric_slerp\u001b[39;00m \u001b[39mimport\u001b[39;00m geometric_slerp\n\u001b[0;32m    104\u001b[0m __all__ \u001b[39m=\u001b[39m [s \u001b[39mfor\u001b[39;00m s \u001b[39min\u001b[39;00m \u001b[39mdir\u001b[39m() \u001b[39mif\u001b[39;00m \u001b[39mnot\u001b[39;00m s\u001b[39m.\u001b[39mstartswith(\u001b[39m'\u001b[39m\u001b[39m_\u001b[39m\u001b[39m'\u001b[39m)]\n\u001b[0;32m    105\u001b[0m __all__ \u001b[39m+\u001b[39m\u001b[39m=\u001b[39m [\u001b[39m'\u001b[39m\u001b[39mdistance\u001b[39m\u001b[39m'\u001b[39m, \u001b[39m'\u001b[39m\u001b[39mtransform\u001b[39m\u001b[39m'\u001b[39m]\n",
      "File \u001b[1;32mc:\\Users\\kinut\\anaconda3\\envs\\learn-env\\lib\\site-packages\\scipy\\spatial\\_geometric_slerp.py:8\u001b[0m\n\u001b[0;32m      5\u001b[0m \u001b[39mimport\u001b[39;00m \u001b[39mwarnings\u001b[39;00m\n\u001b[0;32m      7\u001b[0m \u001b[39mimport\u001b[39;00m \u001b[39mnumpy\u001b[39;00m \u001b[39mas\u001b[39;00m \u001b[39mnp\u001b[39;00m\n\u001b[1;32m----> 8\u001b[0m \u001b[39mfrom\u001b[39;00m \u001b[39mscipy\u001b[39;00m\u001b[39m.\u001b[39;00m\u001b[39mspatial\u001b[39;00m\u001b[39m.\u001b[39;00m\u001b[39mdistance\u001b[39;00m \u001b[39mimport\u001b[39;00m euclidean\n\u001b[0;32m     11\u001b[0m \u001b[39mdef\u001b[39;00m \u001b[39m_geometric_slerp\u001b[39m(start, end, t):\n\u001b[0;32m     12\u001b[0m     \u001b[39m# create an orthogonal basis using QR decomposition\u001b[39;00m\n\u001b[0;32m     13\u001b[0m     basis \u001b[39m=\u001b[39m np\u001b[39m.\u001b[39mvstack([start, end])\n",
      "File \u001b[1;32mc:\\Users\\kinut\\anaconda3\\envs\\learn-env\\lib\\site-packages\\scipy\\spatial\\distance.py:121\u001b[0m\n\u001b[0;32m    119\u001b[0m \u001b[39mfrom\u001b[39;00m \u001b[39m.\u001b[39;00m \u001b[39mimport\u001b[39;00m _hausdorff\n\u001b[0;32m    120\u001b[0m \u001b[39mfrom\u001b[39;00m \u001b[39m.\u001b[39;00m\u001b[39m.\u001b[39;00m\u001b[39mlinalg\u001b[39;00m \u001b[39mimport\u001b[39;00m norm\n\u001b[1;32m--> 121\u001b[0m \u001b[39mfrom\u001b[39;00m \u001b[39m.\u001b[39;00m\u001b[39m.\u001b[39;00m\u001b[39mspecial\u001b[39;00m \u001b[39mimport\u001b[39;00m rel_entr\n\u001b[0;32m    124\u001b[0m \u001b[39mdef\u001b[39;00m \u001b[39m_args_to_kwargs_xdist\u001b[39m(args, kwargs, metric, func_name):\n\u001b[0;32m    125\u001b[0m \u001b[39m    \u001b[39m\u001b[39m\"\"\"\u001b[39;00m\n\u001b[0;32m    126\u001b[0m \u001b[39m    Convert legacy positional arguments to keyword arguments for pdist/cdist.\u001b[39;00m\n\u001b[0;32m    127\u001b[0m \u001b[39m    \"\"\"\u001b[39;00m\n",
      "File \u001b[1;32mc:\\Users\\kinut\\anaconda3\\envs\\learn-env\\lib\\site-packages\\scipy\\special\\__init__.py:636\u001b[0m\n\u001b[0;32m    633\u001b[0m \u001b[39mfrom\u001b[39;00m \u001b[39m.\u001b[39;00m \u001b[39mimport\u001b[39;00m _ufuncs\n\u001b[0;32m    634\u001b[0m \u001b[39mfrom\u001b[39;00m \u001b[39m.\u001b[39;00m\u001b[39m_ufuncs\u001b[39;00m \u001b[39mimport\u001b[39;00m \u001b[39m*\u001b[39m\n\u001b[1;32m--> 636\u001b[0m \u001b[39mfrom\u001b[39;00m \u001b[39m.\u001b[39;00m \u001b[39mimport\u001b[39;00m _basic\n\u001b[0;32m    637\u001b[0m \u001b[39mfrom\u001b[39;00m \u001b[39m.\u001b[39;00m\u001b[39m_basic\u001b[39;00m \u001b[39mimport\u001b[39;00m \u001b[39m*\u001b[39m\n\u001b[0;32m    639\u001b[0m \u001b[39mfrom\u001b[39;00m \u001b[39m.\u001b[39;00m\u001b[39m_logsumexp\u001b[39;00m \u001b[39mimport\u001b[39;00m logsumexp, softmax, log_softmax\n",
      "File \u001b[1;32mc:\\Users\\kinut\\anaconda3\\envs\\learn-env\\lib\\site-packages\\scipy\\special\\_basic.py:16\u001b[0m\n\u001b[0;32m     12\u001b[0m \u001b[39mfrom\u001b[39;00m \u001b[39m.\u001b[39;00m\u001b[39m_ufuncs\u001b[39;00m \u001b[39mimport\u001b[39;00m (mathieu_a, mathieu_b, iv, jv, gamma,\n\u001b[0;32m     13\u001b[0m                       psi, hankel1, hankel2, yv, kv, ndtri,\n\u001b[0;32m     14\u001b[0m                       poch, binom, hyp0f1)\n\u001b[0;32m     15\u001b[0m \u001b[39mfrom\u001b[39;00m \u001b[39m.\u001b[39;00m \u001b[39mimport\u001b[39;00m specfun\n\u001b[1;32m---> 16\u001b[0m \u001b[39mfrom\u001b[39;00m \u001b[39m.\u001b[39;00m \u001b[39mimport\u001b[39;00m orthogonal\n\u001b[0;32m     17\u001b[0m \u001b[39mfrom\u001b[39;00m \u001b[39m.\u001b[39;00m\u001b[39m_comb\u001b[39;00m \u001b[39mimport\u001b[39;00m _comb_int\n\u001b[0;32m     20\u001b[0m __all__ \u001b[39m=\u001b[39m [\n\u001b[0;32m     21\u001b[0m     \u001b[39m'\u001b[39m\u001b[39mai_zeros\u001b[39m\u001b[39m'\u001b[39m,\n\u001b[0;32m     22\u001b[0m     \u001b[39m'\u001b[39m\u001b[39massoc_laguerre\u001b[39m\u001b[39m'\u001b[39m,\n\u001b[1;32m   (...)\u001b[0m\n\u001b[0;32m     90\u001b[0m     \u001b[39m'\u001b[39m\u001b[39mzeta\u001b[39m\u001b[39m'\u001b[39m\n\u001b[0;32m     91\u001b[0m ]\n",
      "File \u001b[1;32mc:\\Users\\kinut\\anaconda3\\envs\\learn-env\\lib\\site-packages\\scipy\\special\\orthogonal.py:79\u001b[0m\n\u001b[0;32m     73\u001b[0m \u001b[39m#\u001b[39;00m\n\u001b[0;32m     74\u001b[0m \u001b[39m# Author:  Travis Oliphant 2000\u001b[39;00m\n\u001b[0;32m     75\u001b[0m \u001b[39m# Updated Sep. 2003 (fixed bugs --- tested to be accurate)\u001b[39;00m\n\u001b[0;32m     76\u001b[0m \n\u001b[0;32m     77\u001b[0m \u001b[39m# SciPy imports.\u001b[39;00m\n\u001b[0;32m     78\u001b[0m \u001b[39mimport\u001b[39;00m \u001b[39mnumpy\u001b[39;00m \u001b[39mas\u001b[39;00m \u001b[39mnp\u001b[39;00m\n\u001b[1;32m---> 79\u001b[0m \u001b[39mfrom\u001b[39;00m \u001b[39mnumpy\u001b[39;00m \u001b[39mimport\u001b[39;00m (exp, inf, pi, sqrt, floor, sin, cos, around, \u001b[39mint\u001b[39m,\n\u001b[0;32m     80\u001b[0m                    hstack, arccos, arange)\n\u001b[0;32m     81\u001b[0m \u001b[39mfrom\u001b[39;00m \u001b[39mscipy\u001b[39;00m \u001b[39mimport\u001b[39;00m linalg\n\u001b[0;32m     82\u001b[0m \u001b[39mfrom\u001b[39;00m \u001b[39mscipy\u001b[39;00m\u001b[39m.\u001b[39;00m\u001b[39mspecial\u001b[39;00m \u001b[39mimport\u001b[39;00m airy\n",
      "\u001b[1;31mImportError\u001b[0m: cannot import name 'int' from 'numpy' (c:\\Users\\kinut\\anaconda3\\envs\\learn-env\\lib\\site-packages\\numpy\\__init__.py)"
     ]
    }
   ],
   "source": [
    "# Data manipulation and analysis\n",
    "import pandas as pd\n",
    "import numpy as np\n",
    "from collections import defaultdict\n",
    "\n",
    "# Data visualization\n",
    "import matplotlib.pyplot as plt\n",
    "import seaborn as sns\n",
    "\n",
    "# Natural language processing (NLP)\n",
    "import re\n",
    "import nltk\n",
    "from nltk.corpus import stopwords\n",
    "from nltk.corpus import wordnet\n",
    "from nltk.stem import WordNetLemmatizer\n",
    "from nltk.tokenize import word_tokenize, regexp_tokenize, RegexpTokenizer\n",
    "from nltk import pos_tag\n",
    "from nltk.stem import WordNetLemmatizer\n",
    "from nltk.probability import FreqDist\n",
    "\n",
    "# Machine learning\n",
    "from sklearn.model_selection import train_test_split\n",
    "from sklearn.feature_extraction.text import TfidfVectorizer, CountVectorizer\n",
    "from sklearn.ensemble import RandomForestClassifier\n",
    "from sklearn.naive_bayes import MultinomialNB\n",
    "from sklearn.metrics import accuracy_score, precision_score, confusion_matrix\n",
    "from sklearn.linear_model import LogisticRegression\n",
    "from sklearn.svm import SVC\n",
    "from sklearn.metrics import classification_report, f1_score\n",
    "from sklearn.model_selection import GridSearchCV\n",
    "\n",
    "# Deep learning imports \n",
    "import tensorflow as tf\n",
    "from tensorflow.keras.models import Sequential\n",
    "from tensorflow.keras.layers import Embedding, LSTM, Dense, Dropout\n",
    "\n",
    "\n",
    "# Set the style for data visualization\n",
    "sns.set(style='darkgrid')\n",
    "\n",
    "# Download NLTK stopwords \n",
    "nltk.download('stopwords')\n",
    "\n",
    "# Download WordNet data \n",
    "nltk.download('wordnet')"
   ]
  },
  {
   "cell_type": "markdown",
   "metadata": {},
   "source": [
    "### Step 2: Loading the Dataset\n",
    "***\n",
    "Loading the dataset is the initial step in data preparation. We use the Pandas library to read the CSV file, specifying the 'latin-1' encoding to handle any character encoding issues that may arise. This action ensures that the dataset is available for further processing.\n",
    "***"
   ]
  },
  {
   "cell_type": "code",
   "execution_count": null,
   "metadata": {},
   "outputs": [],
   "source": [
    "# Load the raw dataset into a Pandas DataFrame\n",
    "data = pd.read_csv('judge-1377884607_tweet_product_company.csv', encoding='latin-1')"
   ]
  },
  {
   "cell_type": "markdown",
   "metadata": {},
   "source": [
    "### Step 2: Exploring the Dataset"
   ]
  },
  {
   "cell_type": "code",
   "execution_count": null,
   "metadata": {},
   "outputs": [
    {
     "data": {
      "text/html": [
       "<div>\n",
       "<style scoped>\n",
       "    .dataframe tbody tr th:only-of-type {\n",
       "        vertical-align: middle;\n",
       "    }\n",
       "\n",
       "    .dataframe tbody tr th {\n",
       "        vertical-align: top;\n",
       "    }\n",
       "\n",
       "    .dataframe thead th {\n",
       "        text-align: right;\n",
       "    }\n",
       "</style>\n",
       "<table border=\"1\" class=\"dataframe\">\n",
       "  <thead>\n",
       "    <tr style=\"text-align: right;\">\n",
       "      <th></th>\n",
       "      <th>tweet_text</th>\n",
       "      <th>emotion_in_tweet_is_directed_at</th>\n",
       "      <th>is_there_an_emotion_directed_at_a_brand_or_product</th>\n",
       "    </tr>\n",
       "  </thead>\n",
       "  <tbody>\n",
       "    <tr>\n",
       "      <th>0</th>\n",
       "      <td>.@wesley83 I have a 3G iPhone. After 3 hrs twe...</td>\n",
       "      <td>iPhone</td>\n",
       "      <td>Negative emotion</td>\n",
       "    </tr>\n",
       "    <tr>\n",
       "      <th>1</th>\n",
       "      <td>@jessedee Know about @fludapp ? Awesome iPad/i...</td>\n",
       "      <td>iPad or iPhone App</td>\n",
       "      <td>Positive emotion</td>\n",
       "    </tr>\n",
       "    <tr>\n",
       "      <th>2</th>\n",
       "      <td>@swonderlin Can not wait for #iPad 2 also. The...</td>\n",
       "      <td>iPad</td>\n",
       "      <td>Positive emotion</td>\n",
       "    </tr>\n",
       "    <tr>\n",
       "      <th>3</th>\n",
       "      <td>@sxsw I hope this year's festival isn't as cra...</td>\n",
       "      <td>iPad or iPhone App</td>\n",
       "      <td>Negative emotion</td>\n",
       "    </tr>\n",
       "    <tr>\n",
       "      <th>4</th>\n",
       "      <td>@sxtxstate great stuff on Fri #SXSW: Marissa M...</td>\n",
       "      <td>Google</td>\n",
       "      <td>Positive emotion</td>\n",
       "    </tr>\n",
       "    <tr>\n",
       "      <th>...</th>\n",
       "      <td>...</td>\n",
       "      <td>...</td>\n",
       "      <td>...</td>\n",
       "    </tr>\n",
       "    <tr>\n",
       "      <th>9088</th>\n",
       "      <td>Ipad everywhere. #SXSW {link}</td>\n",
       "      <td>iPad</td>\n",
       "      <td>Positive emotion</td>\n",
       "    </tr>\n",
       "    <tr>\n",
       "      <th>9089</th>\n",
       "      <td>Wave, buzz... RT @mention We interrupt your re...</td>\n",
       "      <td>NaN</td>\n",
       "      <td>No emotion toward brand or product</td>\n",
       "    </tr>\n",
       "    <tr>\n",
       "      <th>9090</th>\n",
       "      <td>Google's Zeiger, a physician never reported po...</td>\n",
       "      <td>NaN</td>\n",
       "      <td>No emotion toward brand or product</td>\n",
       "    </tr>\n",
       "    <tr>\n",
       "      <th>9091</th>\n",
       "      <td>Some Verizon iPhone customers complained their...</td>\n",
       "      <td>NaN</td>\n",
       "      <td>No emotion toward brand or product</td>\n",
       "    </tr>\n",
       "    <tr>\n",
       "      <th>9092</th>\n",
       "      <td>Ï¡Ïàü_ÊÎÒ£Áââ_£â_ÛâRT @...</td>\n",
       "      <td>NaN</td>\n",
       "      <td>No emotion toward brand or product</td>\n",
       "    </tr>\n",
       "  </tbody>\n",
       "</table>\n",
       "<p>9093 rows × 3 columns</p>\n",
       "</div>"
      ],
      "text/plain": [
       "                                             tweet_text  \\\n",
       "0     .@wesley83 I have a 3G iPhone. After 3 hrs twe...   \n",
       "1     @jessedee Know about @fludapp ? Awesome iPad/i...   \n",
       "2     @swonderlin Can not wait for #iPad 2 also. The...   \n",
       "3     @sxsw I hope this year's festival isn't as cra...   \n",
       "4     @sxtxstate great stuff on Fri #SXSW: Marissa M...   \n",
       "...                                                 ...   \n",
       "9088                      Ipad everywhere. #SXSW {link}   \n",
       "9089  Wave, buzz... RT @mention We interrupt your re...   \n",
       "9090  Google's Zeiger, a physician never reported po...   \n",
       "9091  Some Verizon iPhone customers complained their...   \n",
       "9092  Ï¡Ïàü_ÊÎÒ£Áââ_£â_ÛâRT @...   \n",
       "\n",
       "     emotion_in_tweet_is_directed_at  \\\n",
       "0                             iPhone   \n",
       "1                 iPad or iPhone App   \n",
       "2                               iPad   \n",
       "3                 iPad or iPhone App   \n",
       "4                             Google   \n",
       "...                              ...   \n",
       "9088                            iPad   \n",
       "9089                             NaN   \n",
       "9090                             NaN   \n",
       "9091                             NaN   \n",
       "9092                             NaN   \n",
       "\n",
       "     is_there_an_emotion_directed_at_a_brand_or_product  \n",
       "0                                      Negative emotion  \n",
       "1                                      Positive emotion  \n",
       "2                                      Positive emotion  \n",
       "3                                      Negative emotion  \n",
       "4                                      Positive emotion  \n",
       "...                                                 ...  \n",
       "9088                                   Positive emotion  \n",
       "9089                 No emotion toward brand or product  \n",
       "9090                 No emotion toward brand or product  \n",
       "9091                 No emotion toward brand or product  \n",
       "9092                 No emotion toward brand or product  \n",
       "\n",
       "[9093 rows x 3 columns]"
      ]
     },
     "execution_count": 61,
     "metadata": {},
     "output_type": "execute_result"
    }
   ],
   "source": [
    "# Display the rows of the dataset to get an overview\n",
    "data"
   ]
  },
  {
   "cell_type": "markdown",
   "metadata": {},
   "source": [
    "***\n",
    "Exploring the dataset at the beginning allows us to understand its structure and content. This helps in making informed decisions about data cleaning and preprocessing steps.\n",
    "The dataset comprises Twitter data, with each row representing a tweet along with associated information. \n",
    "* It includes columns such as **tweet_text**, which contains the text content of the tweets, **emotion_in_tweet_is_directed_at**, specifying the brand or product to which the tweet's emotion is directed, and **is_there_an_emotion_directed_at_a_brand_or_product**, categorizing the sentiment expressed in each tweet as positive, negative, or neutral towards a brand or product. \n",
    "* The dataset appears to encompass a diverse range of emotions and sentiments, potentially related to various brands and products. The sentiment labels will serve as the target variable for sentiment analysis, making this dataset well-suited for exploring public sentiment towards different entities. \n",
    "* However, further exploration of the entire dataset is necessary to understand its size, sentiment distribution, and the specific brands or products covered, enabling more informed data preparation and analysis.\n",
    "\n",
    "***"
   ]
  },
  {
   "cell_type": "markdown",
   "metadata": {},
   "source": [
    "### Step 3: Handling Missing Values"
   ]
  },
  {
   "cell_type": "code",
   "execution_count": null,
   "metadata": {},
   "outputs": [
    {
     "name": "stdout",
     "output_type": "stream",
     "text": [
      "tweet_text                                               1\n",
      "emotion_in_tweet_is_directed_at                       5802\n",
      "is_there_an_emotion_directed_at_a_brand_or_product       0\n",
      "dtype: int64\n"
     ]
    }
   ],
   "source": [
    "# Check for missing values in the dataset\n",
    "missing_values = data.isnull().sum()\n",
    "print(missing_values)"
   ]
  },
  {
   "cell_type": "markdown",
   "metadata": {},
   "source": [
    "***\n",
    "Upon initial inspection of our dataset, it was found that there were missing values in the emotion_in_tweet_is_directed_at column. These missing values represented tweets that lacked explicit sentiment information toward any brand or product. As part of the data preprocessing phase, it is ideal to address these missing values to ensure a comprehensive and well-handled dataset for sentiment analysis.\n",
    "\n",
    "* Retaining \"No Emotion\" as a Category: In the first step, we chose to keep \"No Emotion toward brand or product\" as a valid category in the emotion_in_tweet_is_directed_at column. This decision was motivated by the need to distinguish between tweets expressing neutral sentiments and those genuinely lacking sentiment labels. By retaining this category, we preserve the nuances of neutral sentiments, which could be valuable for our analysis.\n",
    "\n",
    "* Imputing Missing Values with \"Unknown\": In the second step, we implemented a data imputation strategy by filling the missing values in the emotion_in_tweet_is_directed_at column with the placeholder category \"Unknown.\" This approach ensures that all data points are retained while clearly indicating that these tweets lack specific sentiment information. Imputing with \"Unknown\" maintains dataset integrity and transparency in handling missing sentiment labels.\n",
    "\n",
    "***"
   ]
  },
  {
   "cell_type": "markdown",
   "metadata": {},
   "source": [
    "#### Dropping Rows with Missing tweet_text\n",
    "***\n",
    "It is ideal to drop rows with missing tweet_text because these rows represent tweets for which there is no text content available. In the context of sentiment analysis, the absence of tweet text makes these entries unusable for analyzing sentiment, as the primary input for sentiment assessment is the textual content of the tweets.\n",
    "***"
   ]
  },
  {
   "cell_type": "code",
   "execution_count": null,
   "metadata": {},
   "outputs": [],
   "source": [
    "# Drop rows with missing 'tweet_text'\n",
    "data.dropna(subset=['tweet_text'], inplace=True)\n"
   ]
  },
  {
   "cell_type": "code",
   "execution_count": null,
   "metadata": {},
   "outputs": [
    {
     "name": "stdout",
     "output_type": "stream",
     "text": [
      "tweet_text                                               0\n",
      "emotion_in_tweet_is_directed_at                       5801\n",
      "is_there_an_emotion_directed_at_a_brand_or_product       0\n",
      "dtype: int64\n"
     ]
    }
   ],
   "source": [
    "missing_values = data.isnull().sum()\n",
    "print(missing_values)"
   ]
  },
  {
   "cell_type": "code",
   "execution_count": null,
   "metadata": {},
   "outputs": [
    {
     "data": {
      "text/plain": [
       "No emotion toward brand or product    5388\n",
       "Positive emotion                      2978\n",
       "Negative emotion                       570\n",
       "I can't tell                           156\n",
       "Name: is_there_an_emotion_directed_at_a_brand_or_product, dtype: int64"
      ]
     },
     "execution_count": 65,
     "metadata": {},
     "output_type": "execute_result"
    }
   ],
   "source": [
    "# Rechecking the sentiments columns for unique counts\n",
    "data['is_there_an_emotion_directed_at_a_brand_or_product'].value_counts()"
   ]
  },
  {
   "cell_type": "markdown",
   "metadata": {},
   "source": [
    "***\n",
    "The ***'I can't tell'*** category doesn't provide valuable information for the analysis, hence, we can choose to remove rows with this label from our dataset. This simplifies our problem to a better sentiment classification (e.g., positive vs. negative and no emotion), assuming that we are interested in distinguishing between positive and negative sentiments.\n",
    "***"
   ]
  },
  {
   "cell_type": "code",
   "execution_count": null,
   "metadata": {},
   "outputs": [],
   "source": [
    "# Drop rows with 'I can't tell' in the target column\n",
    "data = data[data['is_there_an_emotion_directed_at_a_brand_or_product'] != \"I can't tell\"]"
   ]
  },
  {
   "cell_type": "code",
   "execution_count": null,
   "metadata": {},
   "outputs": [
    {
     "data": {
      "text/plain": [
       "No emotion toward brand or product    5388\n",
       "Positive emotion                      2978\n",
       "Negative emotion                       570\n",
       "Name: is_there_an_emotion_directed_at_a_brand_or_product, dtype: int64"
      ]
     },
     "execution_count": 67,
     "metadata": {},
     "output_type": "execute_result"
    }
   ],
   "source": [
    "# Rechecking the sentiments columns for unique counts\n",
    "data['is_there_an_emotion_directed_at_a_brand_or_product'].value_counts()"
   ]
  },
  {
   "cell_type": "markdown",
   "metadata": {},
   "source": [
    "#### Keep \"No Emotion\" as a Category\n",
    "To simplify the category label, we have relabeled \"No emotion toward brand or product\" as 'No emotion'. This ensures clarity and consistency in the dataset."
   ]
  },
  {
   "cell_type": "code",
   "execution_count": null,
   "metadata": {},
   "outputs": [],
   "source": [
    "data = data.copy()  # Create a copy of the DataFrame\n",
    "\n",
    "# Re-label \"No emotion toward brand or product\" as 'No emotion'\n",
    "data['is_there_an_emotion_directed_at_a_brand_or_product'].replace('No emotion toward brand or product', 'No emotion', inplace=True)"
   ]
  },
  {
   "cell_type": "markdown",
   "metadata": {},
   "source": [
    "#### Impute Missing Values with \"Unknown\"\n",
    "***\n",
    "Imputing missing values with \"Unknown\" is a practical approach to maintain the integrity of the dataset while acknowledging the lack of clear sentiment. This placeholder category ensures that all data points are retained for analysis while clearly indicating that these tweets lack sentiment information. It prevents the removal of potentially valuable data and allows for transparency in handling missing values.\n",
    "***"
   ]
  },
  {
   "cell_type": "code",
   "execution_count": null,
   "metadata": {},
   "outputs": [],
   "source": [
    "# Impute missing values in the emotion_in_tweet_is_directed_at column with \"Unknown\"\n",
    "data['emotion_in_tweet_is_directed_at'].fillna('Unknown', inplace=True)\n"
   ]
  },
  {
   "cell_type": "code",
   "execution_count": null,
   "metadata": {},
   "outputs": [
    {
     "data": {
      "text/html": [
       "<div>\n",
       "<style scoped>\n",
       "    .dataframe tbody tr th:only-of-type {\n",
       "        vertical-align: middle;\n",
       "    }\n",
       "\n",
       "    .dataframe tbody tr th {\n",
       "        vertical-align: top;\n",
       "    }\n",
       "\n",
       "    .dataframe thead th {\n",
       "        text-align: right;\n",
       "    }\n",
       "</style>\n",
       "<table border=\"1\" class=\"dataframe\">\n",
       "  <thead>\n",
       "    <tr style=\"text-align: right;\">\n",
       "      <th></th>\n",
       "      <th>tweet_text</th>\n",
       "      <th>emotion_in_tweet_is_directed_at</th>\n",
       "      <th>is_there_an_emotion_directed_at_a_brand_or_product</th>\n",
       "    </tr>\n",
       "  </thead>\n",
       "  <tbody>\n",
       "    <tr>\n",
       "      <th>0</th>\n",
       "      <td>.@wesley83 I have a 3G iPhone. After 3 hrs twe...</td>\n",
       "      <td>iPhone</td>\n",
       "      <td>Negative emotion</td>\n",
       "    </tr>\n",
       "    <tr>\n",
       "      <th>1</th>\n",
       "      <td>@jessedee Know about @fludapp ? Awesome iPad/i...</td>\n",
       "      <td>iPad or iPhone App</td>\n",
       "      <td>Positive emotion</td>\n",
       "    </tr>\n",
       "    <tr>\n",
       "      <th>2</th>\n",
       "      <td>@swonderlin Can not wait for #iPad 2 also. The...</td>\n",
       "      <td>iPad</td>\n",
       "      <td>Positive emotion</td>\n",
       "    </tr>\n",
       "    <tr>\n",
       "      <th>3</th>\n",
       "      <td>@sxsw I hope this year's festival isn't as cra...</td>\n",
       "      <td>iPad or iPhone App</td>\n",
       "      <td>Negative emotion</td>\n",
       "    </tr>\n",
       "    <tr>\n",
       "      <th>4</th>\n",
       "      <td>@sxtxstate great stuff on Fri #SXSW: Marissa M...</td>\n",
       "      <td>Google</td>\n",
       "      <td>Positive emotion</td>\n",
       "    </tr>\n",
       "    <tr>\n",
       "      <th>...</th>\n",
       "      <td>...</td>\n",
       "      <td>...</td>\n",
       "      <td>...</td>\n",
       "    </tr>\n",
       "    <tr>\n",
       "      <th>9088</th>\n",
       "      <td>Ipad everywhere. #SXSW {link}</td>\n",
       "      <td>iPad</td>\n",
       "      <td>Positive emotion</td>\n",
       "    </tr>\n",
       "    <tr>\n",
       "      <th>9089</th>\n",
       "      <td>Wave, buzz... RT @mention We interrupt your re...</td>\n",
       "      <td>Unknown</td>\n",
       "      <td>No emotion</td>\n",
       "    </tr>\n",
       "    <tr>\n",
       "      <th>9090</th>\n",
       "      <td>Google's Zeiger, a physician never reported po...</td>\n",
       "      <td>Unknown</td>\n",
       "      <td>No emotion</td>\n",
       "    </tr>\n",
       "    <tr>\n",
       "      <th>9091</th>\n",
       "      <td>Some Verizon iPhone customers complained their...</td>\n",
       "      <td>Unknown</td>\n",
       "      <td>No emotion</td>\n",
       "    </tr>\n",
       "    <tr>\n",
       "      <th>9092</th>\n",
       "      <td>Ï¡Ïàü_ÊÎÒ£Áââ_£â_ÛâRT @...</td>\n",
       "      <td>Unknown</td>\n",
       "      <td>No emotion</td>\n",
       "    </tr>\n",
       "  </tbody>\n",
       "</table>\n",
       "<p>8936 rows × 3 columns</p>\n",
       "</div>"
      ],
      "text/plain": [
       "                                             tweet_text  \\\n",
       "0     .@wesley83 I have a 3G iPhone. After 3 hrs twe...   \n",
       "1     @jessedee Know about @fludapp ? Awesome iPad/i...   \n",
       "2     @swonderlin Can not wait for #iPad 2 also. The...   \n",
       "3     @sxsw I hope this year's festival isn't as cra...   \n",
       "4     @sxtxstate great stuff on Fri #SXSW: Marissa M...   \n",
       "...                                                 ...   \n",
       "9088                      Ipad everywhere. #SXSW {link}   \n",
       "9089  Wave, buzz... RT @mention We interrupt your re...   \n",
       "9090  Google's Zeiger, a physician never reported po...   \n",
       "9091  Some Verizon iPhone customers complained their...   \n",
       "9092  Ï¡Ïàü_ÊÎÒ£Áââ_£â_ÛâRT @...   \n",
       "\n",
       "     emotion_in_tweet_is_directed_at  \\\n",
       "0                             iPhone   \n",
       "1                 iPad or iPhone App   \n",
       "2                               iPad   \n",
       "3                 iPad or iPhone App   \n",
       "4                             Google   \n",
       "...                              ...   \n",
       "9088                            iPad   \n",
       "9089                         Unknown   \n",
       "9090                         Unknown   \n",
       "9091                         Unknown   \n",
       "9092                         Unknown   \n",
       "\n",
       "     is_there_an_emotion_directed_at_a_brand_or_product  \n",
       "0                                      Negative emotion  \n",
       "1                                      Positive emotion  \n",
       "2                                      Positive emotion  \n",
       "3                                      Negative emotion  \n",
       "4                                      Positive emotion  \n",
       "...                                                 ...  \n",
       "9088                                   Positive emotion  \n",
       "9089                                         No emotion  \n",
       "9090                                         No emotion  \n",
       "9091                                         No emotion  \n",
       "9092                                         No emotion  \n",
       "\n",
       "[8936 rows x 3 columns]"
      ]
     },
     "execution_count": 70,
     "metadata": {},
     "output_type": "execute_result"
    }
   ],
   "source": [
    "data"
   ]
  },
  {
   "cell_type": "code",
   "execution_count": null,
   "metadata": {},
   "outputs": [
    {
     "data": {
      "text/plain": [
       "tweet_text                                            0\n",
       "emotion_in_tweet_is_directed_at                       0\n",
       "is_there_an_emotion_directed_at_a_brand_or_product    0\n",
       "dtype: int64"
      ]
     },
     "execution_count": 71,
     "metadata": {},
     "output_type": "execute_result"
    }
   ],
   "source": [
    "# Rechecking for missing values\n",
    "data.isnull().sum() # Missing values are handled appropriately\n"
   ]
  },
  {
   "cell_type": "code",
   "execution_count": null,
   "metadata": {},
   "outputs": [
    {
     "name": "stdout",
     "output_type": "stream",
     "text": [
      "tweet_text                                            Ï¡Ïàü_ÊÎÒ£Áââ_£â_ÛâRT @...\n",
      "emotion_in_tweet_is_directed_at                                                                 Unknown\n",
      "is_there_an_emotion_directed_at_a_brand_or_product                                           No emotion\n",
      "Name: 9092, dtype: object\n"
     ]
    }
   ],
   "source": [
    "# Investigating the data, the last row seems to have unneeded encoding, hence drop. \n",
    "row_9092 = data.loc[9092]\n",
    "print(row_9092)\n"
   ]
  },
  {
   "cell_type": "code",
   "execution_count": null,
   "metadata": {},
   "outputs": [
    {
     "data": {
      "text/plain": [
       "'\\x8cÏ¡\\x8eÏà\\x8aü_\\x8b\\x81Ê\\x8b\\x81Î\\x8b\\x81Ò\\x8b\\x81£\\x8b\\x81Á\\x8bââ\\x8b\\x81_\\x8b\\x81£\\x8b\\x81\\x8f\\x8bâ_\\x8bÛâRT @mention Google Tests \\x89ÛÏCheck-in Offers\\x89Û\\x9d At #SXSW {link}'"
      ]
     },
     "execution_count": 80,
     "metadata": {},
     "output_type": "execute_result"
    }
   ],
   "source": [
    "# investigating the last row\n",
    "row_9092.tweet_text"
   ]
  },
  {
   "cell_type": "code",
   "execution_count": null,
   "metadata": {},
   "outputs": [
    {
     "name": "stdout",
     "output_type": "stream",
     "text": [
      "RT @mention Google Tests Checkin Offers At #SXSW link\n"
     ]
    }
   ],
   "source": [
    "# Use a regular expression to remove non-alphanumeric characters and common punctuation\n",
    "clean_tweet = re.sub(r'[^a-zA-Z0-9\\s,.!?@#]', '', row_9092.tweet_text)\n",
    "\n",
    "print(clean_tweet)"
   ]
  },
  {
   "cell_type": "markdown",
   "metadata": {},
   "source": [
    "***\n",
    "With these preprocessing steps, the dataset now includes \"No emotion toward brand or product\" as a valid category and has missing values in the emotion_in_tweet_is_directed_at column imputed with \"Unknown.\" This ensures that we retain all data while appropriately handling missing sentiment information.\n",
    "***"
   ]
  },
  {
   "cell_type": "markdown",
   "metadata": {},
   "source": [
    "### Step 4: Data Transformation\n",
    "***\n",
    "To perform sentiment analysis, we need to convert the categorical sentiment labels into a numerical format. This transformation allows us to apply machine learning algorithms effectively.\n",
    "***\n"
   ]
  },
  {
   "cell_type": "code",
   "execution_count": null,
   "metadata": {},
   "outputs": [
    {
     "data": {
      "text/html": [
       "<div>\n",
       "<style scoped>\n",
       "    .dataframe tbody tr th:only-of-type {\n",
       "        vertical-align: middle;\n",
       "    }\n",
       "\n",
       "    .dataframe tbody tr th {\n",
       "        vertical-align: top;\n",
       "    }\n",
       "\n",
       "    .dataframe thead th {\n",
       "        text-align: right;\n",
       "    }\n",
       "</style>\n",
       "<table border=\"1\" class=\"dataframe\">\n",
       "  <thead>\n",
       "    <tr style=\"text-align: right;\">\n",
       "      <th></th>\n",
       "      <th>tweet_text</th>\n",
       "      <th>emotion_in_tweet_is_directed_at</th>\n",
       "      <th>is_there_an_emotion_directed_at_a_brand_or_product</th>\n",
       "      <th>sentiment</th>\n",
       "    </tr>\n",
       "  </thead>\n",
       "  <tbody>\n",
       "    <tr>\n",
       "      <th>0</th>\n",
       "      <td>.@wesley83 I have a 3G iPhone. After 3 hrs twe...</td>\n",
       "      <td>iPhone</td>\n",
       "      <td>Negative emotion</td>\n",
       "      <td>-1</td>\n",
       "    </tr>\n",
       "    <tr>\n",
       "      <th>1</th>\n",
       "      <td>@jessedee Know about @fludapp ? Awesome iPad/i...</td>\n",
       "      <td>iPad or iPhone App</td>\n",
       "      <td>Positive emotion</td>\n",
       "      <td>1</td>\n",
       "    </tr>\n",
       "    <tr>\n",
       "      <th>2</th>\n",
       "      <td>@swonderlin Can not wait for #iPad 2 also. The...</td>\n",
       "      <td>iPad</td>\n",
       "      <td>Positive emotion</td>\n",
       "      <td>1</td>\n",
       "    </tr>\n",
       "    <tr>\n",
       "      <th>3</th>\n",
       "      <td>@sxsw I hope this year's festival isn't as cra...</td>\n",
       "      <td>iPad or iPhone App</td>\n",
       "      <td>Negative emotion</td>\n",
       "      <td>-1</td>\n",
       "    </tr>\n",
       "    <tr>\n",
       "      <th>4</th>\n",
       "      <td>@sxtxstate great stuff on Fri #SXSW: Marissa M...</td>\n",
       "      <td>Google</td>\n",
       "      <td>Positive emotion</td>\n",
       "      <td>1</td>\n",
       "    </tr>\n",
       "  </tbody>\n",
       "</table>\n",
       "</div>"
      ],
      "text/plain": [
       "                                          tweet_text  \\\n",
       "0  .@wesley83 I have a 3G iPhone. After 3 hrs twe...   \n",
       "1  @jessedee Know about @fludapp ? Awesome iPad/i...   \n",
       "2  @swonderlin Can not wait for #iPad 2 also. The...   \n",
       "3  @sxsw I hope this year's festival isn't as cra...   \n",
       "4  @sxtxstate great stuff on Fri #SXSW: Marissa M...   \n",
       "\n",
       "  emotion_in_tweet_is_directed_at  \\\n",
       "0                          iPhone   \n",
       "1              iPad or iPhone App   \n",
       "2                            iPad   \n",
       "3              iPad or iPhone App   \n",
       "4                          Google   \n",
       "\n",
       "  is_there_an_emotion_directed_at_a_brand_or_product  sentiment  \n",
       "0                                   Negative emotion         -1  \n",
       "1                                   Positive emotion          1  \n",
       "2                                   Positive emotion          1  \n",
       "3                                   Negative emotion         -1  \n",
       "4                                   Positive emotion          1  "
      ]
     },
     "execution_count": 81,
     "metadata": {},
     "output_type": "execute_result"
    }
   ],
   "source": [
    "# Convert sentiment labels to a numerical format for analysis\n",
    "data['sentiment'] = data['is_there_an_emotion_directed_at_a_brand_or_product'].map({'Positive emotion': 1, 'Negative emotion': -1, 'No emotion': 0})\n",
    "\n",
    "# Displaying the first 5 rows\n",
    "data.head()\n"
   ]
  },
  {
   "cell_type": "markdown",
   "metadata": {},
   "source": [
    "### Step 5: Text Preprocessing\n",
    "***\n",
    "In text preprocessing, we employ regular expressions (regex) to define patterns that help tokenize or split the text into meaningful units, such as words or phrases. Tokenization is a fundamental step in natural language processing (NLP) that breaks down the text into discrete tokens for analysis. For example, we can use the 're' library in Python to define regex patterns for tokenization.\n",
    "\n",
    "Tokenization involves dividing the text data into individual tokens, which are typically words or phrases. These tokens serve as the basic building blocks for subsequent text analysis tasks, such as sentiment analysis. We can use NLTK's **word_tokenize** or **regexp_tokenize** functions to tokenize the tweet text.\n",
    "\n",
    "***\n"
   ]
  },
  {
   "cell_type": "code",
   "execution_count": null,
   "metadata": {},
   "outputs": [
    {
     "data": {
      "text/plain": [
       "'\\x8cÏ¡\\x8eÏà\\x8aü_\\x8b\\x81Ê\\x8b\\x81Î\\x8b\\x81Ò\\x8b\\x81£\\x8b\\x81Á\\x8bââ\\x8b\\x81_\\x8b\\x81£\\x8b\\x81\\x8f\\x8bâ_\\x8bÛâRT @mention Google Tests \\x89ÛÏCheck-in Offers\\x89Û\\x9d At #SXSW {link}'"
      ]
     },
     "execution_count": 85,
     "metadata": {},
     "output_type": "execute_result"
    }
   ],
   "source": [
    "# Lets display a sample document from tweet_text\n",
    "first_document = data.loc[9092].tweet_text\n",
    "first_document"
   ]
  },
  {
   "cell_type": "markdown",
   "metadata": {},
   "source": [
    "#### Removing Usernames\n",
    "Removing usernames (Twitter mentions) from text data is often necessary in sentiment analysis and text processing for several reasons:\n",
    "\n",
    "* Focus on Content: Usernames are typically not relevant to the sentiment or content of a tweet. Removing them helps in focusing on the actual text and sentiment expressed in the message.\n",
    "\n",
    "* Privacy: Some Twitter users may have private accounts or share sensitive information. Removing usernames helps protect the privacy of individuals mentioned in the tweets.\n",
    "\n",
    "* Data Consistency: Usernames can vary widely in format and length. Removing them can help maintain data consistency and simplify subsequent text processing tasks like tokenization.\n",
    "\n",
    "* Reducing Noise: Usernames can contain special characters, numbers, and symbols that might not contribute meaningfully to sentiment analysis. Removing them can reduce noise in the data.\n",
    "\n",
    "* Normalization: Removing usernames is a form of text normalization, which standardizes the text to make it more consistent and suitable for analysis.\n",
    "\n",
    "In summary, removing usernames from text data is a common preprocessing step to improve the quality and relevance of the text for sentiment analysis and other natural language processing tasks. It helps focus on the content and sentiment of the messages while removing potentially noisy or irrelevant information. "
   ]
  },
  {
   "cell_type": "code",
   "execution_count": null,
   "metadata": {},
   "outputs": [
    {
     "name": "stdout",
     "output_type": "stream",
     "text": [
      "Ï¡Ïàü_ÊÎÒ£Áââ_£â_ÛâRT  Google Tests ÛÏCheck-in OffersÛ At #SXSW {link}\n"
     ]
    }
   ],
   "source": [
    "# Define a function to remove usernames\n",
    "def remove_usernames(text):\n",
    "    # Define a regex pattern to match Twitter mentions\n",
    "    pattern = r'@[\\w]+'\n",
    "    \n",
    "    # Use the `re` module to find and replace all mentions with an empty string\n",
    "    cleaned_text = re.sub(pattern, '', text)\n",
    "    \n",
    "    return cleaned_text\n",
    "\n",
    "# Example usage:\n",
    "cleaned_tweet = remove_usernames(first_document)\n",
    "print(cleaned_tweet)"
   ]
  },
  {
   "cell_type": "markdown",
   "metadata": {},
   "source": [
    "#### Further Cleaning (Stopwords, Punctuations, URLs, single-word Tokens) "
   ]
  },
  {
   "cell_type": "code",
   "execution_count": null,
   "metadata": {},
   "outputs": [
    {
     "name": "stdout",
     "output_type": "stream",
     "text": [
      "mention google tests in offers at sxsw\n"
     ]
    }
   ],
   "source": [
    "# Define the regular expression pattern\n",
    "pattern = r'\\b(?:[A-Za-z0-9]+(?:\\'\\w+)?)\\b'\n",
    "\n",
    "# Remove links (URLs) with curly braces\n",
    "first_document = re.sub(r'{(https?://\\S+)}', '', first_document)\n",
    "\n",
    "# Remove links (URLs) without curly braces\n",
    "first_document = re.sub(r'https?://\\S+', '', first_document)\n",
    "\n",
    "# Remove the word \"link\"\n",
    "first_document = re.sub(r'\\b(?:link)\\b', '', first_document)\n",
    "\n",
    "# Create a tokenizer with the updated pattern\n",
    "tokenizer = RegexpTokenizer(pattern)\n",
    "\n",
    "# Tokenize the text\n",
    "tokens = tokenizer.tokenize(first_document)\n",
    "\n",
    "# Convert tokens to lowercase\n",
    "tokens = [token.lower() for token in tokens]\n",
    "\n",
    "# Remove stopwords\n",
    "sw = stopwords.words('english')\n",
    "filtered_tokens = [token for token in tokens if token not in sw]\n",
    "\n",
    "# Remove non-alphabetic tokens\n",
    "filtered_tokens = [token for token in filtered_tokens if token.isalpha()]\n",
    "\n",
    "# Filter out single-character tokens\n",
    "filtered_tokens = [token for token in tokens if len(token) > 1]\n",
    "\n",
    "# Final list of relevant text\n",
    "final_text = \" \".join(filtered_tokens)\n",
    "print(final_text)"
   ]
  },
  {
   "cell_type": "markdown",
   "metadata": {},
   "source": [
    "***\n",
    "In the above data preprocessing pipeline, we have applied a series of steps to clean and prepare the text data from the tweets. The primary objective is to extract relevant textual content while removing noisy elements such as URLs, special characters, and stopwords. Below, we describe the flow of data processing and the role of regular expressions (regex) in each step:\n",
    "* URL Removal: We start by removing URLs (links) from the text. Some links are enclosed in curly braces, so we use the following regex pattern to identify and remove them.\n",
    "  \n",
    "* Word \"Link\" Removal: We further enhance the preprocessing by removing the word \"link\", for some tweets with with a missing hyperlink, entirely from the text.\n",
    "  \n",
    "* Tokenization: After removing links, we tokenize the cleaned text using a custom regex pattern.\n",
    "  \n",
    "* Lowercasing: We convert all tokens to lowercase to ensure consistency.\n",
    "  \n",
    "* Stopword Removal: Stopwords are common words like \"the,\" \"and,\" \"in,\" etc. that don't carry significant meaning. We remove them from the tokenized text.\n",
    "  \n",
    "* Non-Alphabetic Token Removal: We filter out tokens that contain non-alphabetic characters to focus on words.\n",
    "  \n",
    "* Single-Character Token Removal: To further clean the text, we remove single-character tokens, which typically don't convey meaningful information.\n",
    "  \n",
    "* Final Text: Finally, we join the cleaned tokens into a final text string, which represents the processed and relevant content.\n",
    "\n",
    "Creating an example first_document to define a corpus is a good practice as it helps illustrate the functionality of the tokenization pattern. With this example, we can now create a customized function for tokenization that uses this pattern, ensuring that words with or without apostrophes are correctly processed into meaningful tokens. This function can then be applied to the entire dataset to prepare the text for further analysis, such as sentiment analysis or topic modeling.\n",
    "***"
   ]
  },
  {
   "cell_type": "code",
   "execution_count": null,
   "metadata": {},
   "outputs": [],
   "source": [
    "# Defining our final text_processing functions\n",
    "def remove_usernames(text):\n",
    "    \"\"\"\n",
    "    Removes usernames (mentions) from the input text.\n",
    "\n",
    "    Args:\n",
    "        text (str): The text to be processed.\n",
    "\n",
    "    Returns:\n",
    "        str: The text with usernames removed.\n",
    "    \"\"\"\n",
    "    # Define a regular expression pattern to remove usernames\n",
    "    username_pattern = r'@\\w+\\s*'\n",
    "    \n",
    "    # Remove usernames from the text\n",
    "    text_without_usernames = re.sub(username_pattern, '', text)\n",
    "    \n",
    "    return text_without_usernames\n",
    "\n",
    "\n",
    "def preprocess_text(text):\n",
    "    \"\"\"\n",
    "    Preprocesses the input text by removing usernames, links, and performing tokenization.\n",
    "\n",
    "    Args:\n",
    "        text (str): The text to be preprocessed.\n",
    "\n",
    "    Returns:\n",
    "        str: The preprocessed text.\n",
    "    \"\"\"\n",
    "    # Remove usernames\n",
    "    text = remove_usernames(text)\n",
    "    \n",
    "    # Define the combined regex pattern to remove links and the word \"link\"\n",
    "    pattern = r'{(https?://\\S+)}|https?://\\S+|\\b(?:link)\\b'\n",
    "    \n",
    "    # Remove links and the word \"link\" from the text\n",
    "    text = re.sub(pattern, '', text)\n",
    "    \n",
    "    # Create a tokenizer with the updated pattern\n",
    "    tokenizer = RegexpTokenizer(r'\\b(?:[A-Za-z]+(?:\\'\\w+)?)\\b')\n",
    "    \n",
    "    # Tokenize the text\n",
    "    tokens = tokenizer.tokenize(text)\n",
    "    \n",
    "    # Convert tokens to lowercase\n",
    "    tokens = [token.lower() for token in tokens]\n",
    "    \n",
    "    # Remove stopwords\n",
    "    sw = set(stopwords.words(\"english\"))\n",
    "    filtered_tokens = [token for token in tokens if token not in sw]\n",
    "    \n",
    "    # Remove non-alphabetic tokens\n",
    "    filtered_tokens = [token for token in filtered_tokens if token.isalpha()]\n",
    "    \n",
    "    # Filter out single-character tokens\n",
    "    filtered_tokens = [token for token in filtered_tokens if len(token) > 1]\n",
    "    \n",
    "    # Final list of relevant text\n",
    "    final_text = \" \".join(filtered_tokens)\n",
    "    \n",
    "    return final_text\n",
    "\n",
    "# Apply text preprocessing to the tweet_text column\n",
    "data['tweet_text'] = data['tweet_text'].apply(preprocess_text)\n"
   ]
  },
  {
   "cell_type": "code",
   "execution_count": null,
   "metadata": {},
   "outputs": [
    {
     "data": {
      "text/plain": [
       "0"
      ]
     },
     "execution_count": 89,
     "metadata": {},
     "output_type": "execute_result"
    }
   ],
   "source": [
    "# Checking first 10 pre-processed documents\n",
    "data.sentiment.isnull().sum()"
   ]
  },
  {
   "cell_type": "markdown",
   "metadata": {},
   "source": [
    "***\n",
    "Reviewing the processed text data to identify any remaining noise or irrelevant information, \"rt\" is a common noise word, which typically stands for \"retweet.\" We should remove such common noise words since they don't carry any sentiment information. \n",
    "***"
   ]
  },
  {
   "cell_type": "code",
   "execution_count": null,
   "metadata": {},
   "outputs": [],
   "source": [
    "# Define the list of common noise words to remove\n",
    "noise_words = [\"rt\"]  # Add other noise words as needed\n",
    "\n",
    "# Function to remove noise words\n",
    "def remove_noise_words(text):\n",
    "    words = text.split()  # Split the text into words\n",
    "    cleaned_words = [word for word in words if word.lower() not in noise_words]\n",
    "    return \" \".join(cleaned_words)\n",
    "\n",
    "# Apply the noise word removal function to your text data\n",
    "data['tweet_text'] = data['tweet_text'].apply(remove_noise_words)\n"
   ]
  },
  {
   "cell_type": "code",
   "execution_count": null,
   "metadata": {},
   "outputs": [
    {
     "data": {
      "text/plain": [
       "0     iphone hrs tweeting dead need upgrade plugin s...\n",
       "1     know awesome ipad iphone app likely appreciate...\n",
       "2                              wait ipad also sale sxsw\n",
       "3                  hope festival crashy iphone app sxsw\n",
       "4     great stuff fri sxsw marissa mayer google tim ...\n",
       "5     new ipad apps speechtherapy communication show...\n",
       "7     sxsw starting ctia around corner googleio hop ...\n",
       "8     beautifully smart simple idea wrote hollergram...\n",
       "9     counting days sxsw plus strong canadian dollar...\n",
       "10    excited meet sxsw show sprint galaxy still run...\n",
       "11    find amp start impromptu parties sxsw wait til...\n",
       "12    foursquare ups game time sxsw still prefer far...\n",
       "13    gotta love sxsw google calendar featuring top ...\n",
       "14                                  great sxsw ipad app\n",
       "15          haha awesomely rad ipad app hollergram sxsw\n",
       "16           holler gram ipad itunes app store via sxsw\n",
       "17    noticed dst coming weekend many iphone users h...\n",
       "18    added sxsw flights matching people planes airp...\n",
       "19    must sxsw app lovely review forbes sxsw ipad a...\n",
       "20    need buy austin sxsw sure need austin apple store\n",
       "21    oh god sxsw app ipad pure unadulterated awesom...\n",
       "22         okay really yay new android app kthxbai sxsw\n",
       "23          photo installed sxsw iphone app really nice\n",
       "24    really enjoying changes gowalla android lookin...\n",
       "25    looking forward smcdallas pre sxsw party wed h...\n",
       "26      haha awesomely rad ipad app hollergram sxsw via\n",
       "27    someone started austin group google groups pre...\n",
       "28    new looks like going rock update iphone androi...\n",
       "29        right app android sweeeeet nice job team sxsw\n",
       "30    smart hollergram ipad app sxsw may leave vuvuz...\n",
       "31                  must app ipad going sxsw hollergram\n",
       "32    attn sxsw frineds register gdgtlive see cobra ...\n",
       "33                       anyone sxsw want sell old ipad\n",
       "34     anyone sxsw bought new ipad want sell older ipad\n",
       "35    sxsw oooh google launch major new social netwo...\n",
       "36    best ha first line sxsw quot pop quot apple st...\n",
       "37    spin play new concept music discovery ipad amp...\n",
       "38    false alarm google circles coming probably eve...\n",
       "39    vatornews google apple force print media evolv...\n",
       "40    great weather greet sxsw still need sweater ni...\n",
       "41    hootsuite hootsuite mobile sxsw updates iphone...\n",
       "42    hey sxsw long think takes us make iphone case ...\n",
       "43     mashable ipad takes sxsw video ipad sxsw gadgets\n",
       "44    pad new ubersocial iphone app store includes u...\n",
       "45    smartcover opens instant access waited get one...\n",
       "46    hand held hobo drafthouse launches hobo shotgu...\n",
       "47                 hooray opening pop store austin sxsw\n",
       "48    orly set launch new social network circles tod...\n",
       "49    wooooo store downtown austin open til midnight...\n",
       "50    khoi vinh says conde headlong rush ipad publis...\n",
       "Name: tweet_text, dtype: object"
      ]
     },
     "execution_count": 91,
     "metadata": {},
     "output_type": "execute_result"
    }
   ],
   "source": [
    "# Rechecking the corpus\n",
    "data.tweet_text[:50] # Unnecessary noise removed"
   ]
  },
  {
   "cell_type": "markdown",
   "metadata": {},
   "source": [
    "***\n",
    "Overall, the processed data consists of cleaned and preprocessed text, which is now more suitable for sentiment analysis. It retains the relevant words and removes noise such as usernames, links, and stopwords. This processed data can be used for further analysis and sentiment classification.\n",
    "***"
   ]
  },
  {
   "cell_type": "code",
   "execution_count": null,
   "metadata": {},
   "outputs": [
    {
     "data": {
      "image/png": "[encoded data removed]",
      "text/plain": [
       "<Figure size 640x480 with 1 Axes>"
      ]
     },
     "metadata": {},
     "output_type": "display_data"
    },
    {
     "data": {
      "text/plain": [
       "<AxesSubplot:xlabel='Samples', ylabel='Counts'>"
      ]
     },
     "execution_count": 92,
     "metadata": {},
     "output_type": "execute_result"
    }
   ],
   "source": [
    "# Create a frequency distribution of words\n",
    "freq_dist = FreqDist(data.tweet_text)\n",
    "\n",
    "# Plot the frequency distribution\n",
    "freq_dist.plot(20)  # Display the top 20 most frequent words"
   ]
  },
  {
   "cell_type": "markdown",
   "metadata": {},
   "source": [
    "***\n",
    "The figure above should help us understand each step of creating the frequency distribution and visualizing the most frequent words, which can be useful for further analysis and modeling. The most frequent word is \"sxsw,\" which is not surprising since it's related to the South by Southwest conference, a popular topic in the tweets.\n",
    "\n",
    "The presence of words like \"great,\" \"love,\" and \"awesome\" suggests that many tweets express positive sentiments. Overall, the frequency distribution gives you an overview of the key words used in the first 20 tweets, which are likely reflective of the broader themes and topics in your dataset.\n",
    "***"
   ]
  },
  {
   "cell_type": "markdown",
   "metadata": {},
   "source": [
    "#### Lemmatization of Text with POS Tags\n",
    "***\n",
    "Lemmatization reduces words to their base or dictionary form, making it easier to analyze and compare words. For example, \"running,\" \"ran,\" and \"runs\" all get reduced to \"run.\" This normalization helps reduce the dimensionality of the text data and makes it more suitable for various NLP tasks.\n",
    "\n",
    "By lemmatizing words, we ensure consistency in the text data. This means that different inflected forms of the same word are transformed into a common base form. Consistency simplifies text analysis and improves the performance of machine learning models.\n",
    "\n",
    "WordNet provides fine-grained relationships between words. For instance, it distinguishes between different types of nouns (e.g., animal, person) and verbs (e.g., motion, perception). Incorporating these distinctions can enhance the quality of vectorized representations.\n",
    "***\n"
   ]
  },
  {
   "cell_type": "code",
   "execution_count": null,
   "metadata": {},
   "outputs": [],
   "source": [
    "def lemmatize_dataframe(dataframe):\n",
    "    # Create a WordNetLemmatizer instance\n",
    "    lemmatizer = WordNetLemmatizer()\n",
    "\n",
    "    # Define a mapping of POS tags\n",
    "    wn_pos_tags = {\n",
    "        'N': wordnet.NOUN,\n",
    "        'V': wordnet.VERB,\n",
    "        'R': wordnet.ADV,\n",
    "        'J': wordnet.ADJ\n",
    "    }\n",
    "    \n",
    "    # Tokenize and lemmatize each tweet in the 'tweet_text' column\n",
    "    def lemmatize_tweet(tweet):\n",
    "        words = nltk.word_tokenize(tweet)\n",
    "        pos_tags = nltk.pos_tag(words)\n",
    "        lemmatized_words = []\n",
    "        for word, pos in pos_tags:\n",
    "            wordnet_pos = wn_pos_tags.get(pos[0].upper(), wordnet.NOUN)\n",
    "            lemma = lemmatizer.lemmatize(word, pos=wordnet_pos)\n",
    "            lemmatized_words.append(lemma)\n",
    "        return ' '.join(lemmatized_words)\n",
    "    \n",
    "    # Apply the lemmatize_tweet function to the 'tweet_text' column\n",
    "    dataframe['tweet_text'] = dataframe['tweet_text'].apply(lemmatize_tweet)\n",
    "\n",
    "    return dataframe"
   ]
  },
  {
   "cell_type": "code",
   "execution_count": null,
   "metadata": {},
   "outputs": [],
   "source": [
    "# Applying our function to data\n",
    "data = lemmatize_dataframe(data)"
   ]
  },
  {
   "cell_type": "code",
   "execution_count": null,
   "metadata": {},
   "outputs": [
    {
     "data": {
      "text/plain": [
       "0     iphone hr tweet dead need upgrade plugin stati...\n",
       "1     know awesome ipad iphone app likely appreciate...\n",
       "2                              wait ipad also sale sxsw\n",
       "3                  hope festival crashy iphone app sxsw\n",
       "4     great stuff fri sxsw marissa mayer google tim ...\n",
       "5     new ipad apps speechtherapy communication show...\n",
       "7     sxsw start ctia around corner googleio hop ski...\n",
       "8     beautifully smart simple idea write hollergram...\n",
       "9     count day sxsw plus strong canadian dollar mea...\n",
       "10    excited meet sxsw show sprint galaxy still run...\n",
       "11    find amp start impromptu party sxsw wait til a...\n",
       "12    foursquare ups game time sxsw still prefer far...\n",
       "13    get ta love sxsw google calendar feature top p...\n",
       "14                                  great sxsw ipad app\n",
       "15          haha awesomely rad ipad app hollergram sxsw\n",
       "16           holler gram ipad itunes app store via sxsw\n",
       "17    notice dst come weekend many iphone user hour ...\n",
       "18    add sxsw flight match people plane airport als...\n",
       "19    must sxsw app lovely review forbes sxsw ipad a...\n",
       "20    need buy austin sxsw sure need austin apple store\n",
       "21    oh god sxsw app ipad pure unadulterated awesom...\n",
       "22         okay really yay new android app kthxbai sxsw\n",
       "23             photo instal sxsw iphone app really nice\n",
       "24    really enjoy change gowalla android look forwa...\n",
       "25    look forward smcdallas pre sxsw party wed hop ...\n",
       "26      haha awesomely rad ipad app hollergram sxsw via\n",
       "27    someone start austin group google group pre sx...\n",
       "28    new look like go rock update iphone android pu...\n",
       "29        right app android sweeeeet nice job team sxsw\n",
       "30    smart hollergram ipad app sxsw may leave vuvuz...\n",
       "31                     must app ipad go sxsw hollergram\n",
       "32    attn sxsw frineds register gdgtlive see cobra ...\n",
       "33                       anyone sxsw want sell old ipad\n",
       "34          anyone sxsw buy new ipad want sell old ipad\n",
       "35    sxsw oooh google launch major new social netwo...\n",
       "36    best ha first line sxsw quot pop quot apple st...\n",
       "37    spin play new concept music discovery ipad amp...\n",
       "38    false alarm google circle come probably ever g...\n",
       "39    vatornews google apple force print medium evol...\n",
       "40    great weather greet sxsw still need sweater ni...\n",
       "41    hootsuite hootsuite mobile sxsw update iphone ...\n",
       "42    hey sxsw long think take u make iphone case an...\n",
       "43       mashable ipad take sxsw video ipad sxsw gadget\n",
       "44    pad new ubersocial iphone app store include ub...\n",
       "45    smartcover open instant access wait get one ap...\n",
       "46    hand hold hobo drafthouse launch hobo shotgun ...\n",
       "47                    hooray open pop store austin sxsw\n",
       "48    orly set launch new social network circle toda...\n",
       "49    wooooo store downtown austin open til midnight...\n",
       "50    khoi vinh say conde headlong rush ipad publish...\n",
       "Name: tweet_text, dtype: object"
      ]
     },
     "execution_count": 131,
     "metadata": {},
     "output_type": "execute_result"
    }
   ],
   "source": [
    "# Rechecking dataframe for lemmatized tweets\n",
    "data.tweet_text[:50]"
   ]
  },
  {
   "cell_type": "markdown",
   "metadata": {},
   "source": [
    "### Step 6: Data Splitting\n",
    " Splitting the data into training and testing sets is essential for model evaluation. The training set is used to train the sentiment analysis model, while the testing set allows us to assess its performance."
   ]
  },
  {
   "cell_type": "code",
   "execution_count": null,
   "metadata": {},
   "outputs": [],
   "source": [
    "X = data['tweet_text']  # Features\n",
    "y = data['sentiment'] # Target\n",
    "\n",
    "# Split the data into training (80%) and testing (20%) sets\n",
    "X_train, X_test, y_train, y_test = train_test_split(X, y, test_size=0.2, random_state=42)"
   ]
  },
  {
   "cell_type": "markdown",
   "metadata": {},
   "source": [
    "### Step 7: Vectorization\n",
    "***\n",
    "TF-IDF (Term Frequency-Inverse Document Frequency) vectorization is often preferred over simple Count Vectorization for several reasons in natural language processing and text analysis tasks:\n",
    "\n",
    "* Term Importance: TF-IDF considers not only the frequency of terms in a document but also how important they are in the context of the entire corpus. This means that words that are frequent in one document but rare in the rest of the corpus receive higher scores, indicating their potential significance in distinguishing documents.\n",
    "\n",
    "* Normalization: TF-IDF normalizes the importance of terms. This helps in handling documents of varying lengths. Words that are frequent in long documents might not necessarily be more important than words that are frequent in shorter documents.\n",
    "\n",
    "* Downweighting Common Words: TF-IDF automatically downweights common words (stop words) that appear in many documents, as they are likely to be less informative. This prevents common words from dominating the feature space.\n",
    "  \n",
    "In this project, using the TfidfVectorizer with trigrams (word triplets) to generate TF-IDF representations for text data is more preferrable. This approach allows  the capture of longer sequences of words and potentially more context in the text data, which can be beneficial in various natural language processing (NLP) tasks.\n",
    "***"
   ]
  },
  {
   "cell_type": "code",
   "execution_count": null,
   "metadata": {},
   "outputs": [],
   "source": [
    "# Example using trigrams (word triplets)\n",
    "vectorizer = TfidfVectorizer(ngram_range=(3, 3))  \n",
    "X_train_tfidf = vectorizer.fit_transform(X_train)  \n",
    "\n",
    "# Transform the test data\n",
    "X_test_tfidf = vectorizer.transform(X_test)\n",
    "\n",
    "# X_train_tfidf and X_test_tfidf now contains the TF-IDF values for trigrams in the text data"
   ]
  },
  {
   "cell_type": "code",
   "execution_count": null,
   "metadata": {},
   "outputs": [
    {
     "name": "stdout",
     "output_type": "stream",
     "text": [
      "  (1, 36738)\t0.2689254937563033\n",
      "  (1, 35611)\t0.2689254937563033\n",
      "  (1, 29868)\t0.2689254937563033\n",
      "  (1, 28889)\t0.2689254937563033\n",
      "  (1, 24104)\t0.2570495532919106\n",
      "  (1, 22733)\t0.2689254937563033\n",
      "  (1, 22449)\t0.2689254937563033\n",
      "  (1, 20566)\t0.2689254937563033\n",
      "  (1, 16292)\t0.2689254937563033\n",
      "  (1, 13744)\t0.2689254937563033\n",
      "  (1, 13632)\t0.2689254937563033\n",
      "  (1, 11412)\t0.2570495532919106\n",
      "  (1, 3132)\t0.2689254937563033\n",
      "  (1, 324)\t0.2689254937563033\n",
      "  (2, 17705)\t1.0\n",
      "  (3, 17352)\t0.5684629917149686\n",
      "  (3, 16503)\t0.5947265372429039\n",
      "  (3, 2542)\t0.5684629917149686\n",
      "  (4, 35994)\t0.37429665175359705\n",
      "  (4, 35269)\t0.3869819649739716\n",
      "  (4, 28262)\t0.37429665175359705\n",
      "  (4, 21769)\t0.37429665175359705\n",
      "  (4, 21764)\t0.37429665175359705\n",
      "  (4, 16817)\t0.3869819649739716\n",
      "  (4, 3435)\t0.37429665175359705\n",
      "  :\t:\n",
      "  (1783, 9236)\t0.31622776601683794\n",
      "  (1783, 7464)\t0.31622776601683794\n",
      "  (1783, 6275)\t0.31622776601683794\n",
      "  (1783, 3000)\t0.31622776601683794\n",
      "  (1784, 34113)\t0.38379394104681225\n",
      "  (1784, 30779)\t0.38379394104681225\n",
      "  (1784, 27111)\t0.38379394104681225\n",
      "  (1784, 22828)\t0.38379394104681225\n",
      "  (1784, 20880)\t0.3409006671957922\n",
      "  (1784, 17302)\t0.38379394104681225\n",
      "  (1784, 8304)\t0.38379394104681225\n",
      "  (1785, 36479)\t0.2886751345948129\n",
      "  (1785, 35981)\t0.2886751345948129\n",
      "  (1785, 35270)\t0.2886751345948129\n",
      "  (1785, 32687)\t0.2886751345948129\n",
      "  (1785, 32683)\t0.2886751345948129\n",
      "  (1785, 28031)\t0.2886751345948129\n",
      "  (1785, 18694)\t0.2886751345948129\n",
      "  (1785, 17500)\t0.2886751345948129\n",
      "  (1785, 17498)\t0.2886751345948129\n",
      "  (1785, 16996)\t0.2886751345948129\n",
      "  (1785, 9417)\t0.2886751345948129\n",
      "  (1785, 9328)\t0.2886751345948129\n",
      "  (1787, 17690)\t0.7071067811865475\n",
      "  (1787, 3763)\t0.7071067811865475\n"
     ]
    }
   ],
   "source": [
    "# Observing the sparse matrix\n",
    "print(X_test_tfidf)"
   ]
  },
  {
   "cell_type": "markdown",
   "metadata": {},
   "source": [
    "#### Checking for Class Imbalance in the Sentiments Column"
   ]
  },
  {
   "cell_type": "code",
   "execution_count": null,
   "metadata": {},
   "outputs": [
    {
     "name": "stdout",
     "output_type": "stream",
     "text": [
      " 0    5388\n",
      " 1    2978\n",
      "-1     570\n",
      "Name: sentiment, dtype: int64\n"
     ]
    },
    {
     "data": {
      "image/png": "[encoded data removed]",
      "text/plain": [
       "<Figure size 800x600 with 1 Axes>"
      ]
     },
     "metadata": {},
     "output_type": "display_data"
    }
   ],
   "source": [
    "# Define colors for each sentiment category\n",
    "colors = ['green', 'blue', 'red']\n",
    "\n",
    "# Count the occurrences of each sentiment category\n",
    "sentiment_counts = data['sentiment'].value_counts()\n",
    "print(sentiment_counts)\n",
    "# Create a bar plot\n",
    "plt.figure(figsize=(8, 6))\n",
    "sentiment_counts.plot(kind='bar', color=colors)\n",
    "plt.title('Sentiment Distribution')\n",
    "plt.xlabel('Sentiment')\n",
    "plt.ylabel('Count')\n",
    "plt.xticks(rotation=0)  # Rotate x-axis labels if needed\n",
    "plt.show()"
   ]
  },
  {
   "cell_type": "markdown",
   "metadata": {},
   "source": [
    "***\n",
    "* Neutral Sentiment (0): This sentiment category is the most common, with 5388 occurrences. Neutral sentiments typically indicate that the tweets express neither positive nor negative emotions towards a brand or product. \n",
    "\n",
    "* Positive Sentiment (1): There are 2978 tweets classified as having a positive sentiment. Positive sentiment indicates that the tweets express favorable opinions or emotions towards a brand or product. \n",
    "\n",
    "* Negative Sentiment (-1): The dataset contains 570 tweets classified as having a negative sentiment. Negative sentiment suggests that these tweets express unfavorable opinions or emotions towards a brand or product. \n",
    "***"
   ]
  },
  {
   "cell_type": "markdown",
   "metadata": {},
   "source": [
    "#### Applying SMOTE\n",
    "SMOTE (Synthetic Minority Over-sampling Technique) is a popular technique used to address class imbalance in datasets, particularly in machine learning tasks like classification. SMOTE works by generating synthetic samples for the minority class, thereby increasing its representation in the dataset."
   ]
  },
  {
   "cell_type": "code",
   "execution_count": null,
   "metadata": {},
   "outputs": [
    {
     "name": "stdout",
     "output_type": "stream",
     "text": [
      "Missing values in X: 0\n",
      "Missing values in y: 0\n"
     ]
    }
   ],
   "source": [
    "\n",
    "# Check for missing values in X and y\n",
    "missing_X = X.isnull().sum()\n",
    "missing_y = y.isnull().sum()\n",
    "\n",
    "print(\"Missing values in X:\", missing_X)\n",
    "print(\"Missing values in y:\", missing_y)"
   ]
  },
  {
   "cell_type": "code",
   "execution_count": null,
   "metadata": {},
   "outputs": [
    {
     "name": "stdout",
     "output_type": "stream",
     "text": [
      "object\n",
      "int64\n"
     ]
    }
   ],
   "source": [
    "# Check for data type before class balancing\n",
    "print(X.dtypes)\n",
    "print(y.dtypes)"
   ]
  },
  {
   "cell_type": "code",
   "execution_count": null,
   "metadata": {},
   "outputs": [
    {
     "name": "stdout",
     "output_type": "stream",
     "text": [
      "-1    4294\n",
      " 1    4294\n",
      " 0    4294\n",
      "Name: sentiment, dtype: int64\n"
     ]
    }
   ],
   "source": [
    "from imblearn.over_sampling import SMOTE\n",
    "\n",
    "# Initialize SMOTE\n",
    "smote = SMOTE(sampling_strategy='auto', random_state=42)\n",
    "\n",
    "# Use the fit_resample method to perform SMOTE on the training data.\n",
    "X_train_resampled, y_train_resampled = smote.fit_resample(X_train_tfidf, y_train)\n",
    "\n",
    "# Check the class distribution to ensure that it's now balanced\n",
    "class_distribution = pd.Series(y_train_resampled).value_counts()\n",
    "print(class_distribution)"
   ]
  },
  {
   "cell_type": "markdown",
   "metadata": {},
   "source": [
    "***\n",
    "It appears that the classes are now balanced after applying SMOTE. Each sentiment class (negative, positive, and neutral) has approximately the same number of samples (4294 samples each). This balance can help improve the performance of machine learning models, especially when dealing with imbalanced datasets.\n",
    "***"
   ]
  },
  {
   "cell_type": "markdown",
   "metadata": {},
   "source": [
    "## 4. Modelling\n",
    "***\n",
    "For model selection, a variety of supervised machine learning models are considered, including Logistic Regression, Random Forest, Support Vector Machine (SVM), Naive Bayes (Multinomial or Gaussian), and Deep Learning Models like Neural Networks.\n",
    "\n",
    "Subsequently, these selected models are trained and evaluated using a split dataset containing both training and testing sets. Evaluation metrics such as accuracy, precision, recall, F1-score, and the confusion matrix are employed to assess model performance.\n",
    "***"
   ]
  },
  {
   "cell_type": "markdown",
   "metadata": {},
   "source": [
    "With this class, we can create different instances for different classifiers (Logistic Regression, Random Forest, SVM, Naive Bayes, etc.) and train and evaluate them using your resampled training and testing data."
   ]
  },
  {
   "cell_type": "code",
   "execution_count": null,
   "metadata": {},
   "outputs": [],
   "source": [
    "from sklearn.metrics import confusion_matrix as cm\n",
    "class SentimentAnalysisModel:\n",
    "    def __init__(self, classifier):\n",
    "        self.classifier = classifier\n",
    "\n",
    "    def train(self, X_train, y_train):\n",
    "        self.classifier.fit(X_train, y_train)\n",
    "\n",
    "    def evaluate(self, X_test, y_test):\n",
    "        y_pred = self.classifier.predict(X_test)\n",
    "        accuracy = accuracy_score(y_test, y_pred)\n",
    "        confusion = cm(y_test, y_pred) \n",
    "        report = classification_report(y_test, y_pred)\n",
    "    \n",
    "    # Create a heatmap for the confusion matrix\n",
    "        plt.figure(figsize=(8, 6))\n",
    "        sns.heatmap(confusion, annot=True, fmt='d', cmap='Blues', cbar=False)\n",
    "        plt.xlabel('Predicted Labels')\n",
    "        plt.ylabel('True Labels')\n",
    "        plt.title('Confusion Matrix')\n",
    "        plt.show()\n",
    "\n",
    "        return accuracy, confusion, report"
   ]
  },
  {
   "cell_type": "markdown",
   "metadata": {},
   "source": [
    "### Baseline Model: Logistic Regression"
   ]
  },
  {
   "cell_type": "code",
   "execution_count": null,
   "metadata": {},
   "outputs": [
    {
     "data": {
      "image/png": "[encoded data removed]",
      "text/plain": [
       "<Figure size 800x600 with 1 Axes>"
      ]
     },
     "metadata": {},
     "output_type": "display_data"
    },
    {
     "name": "stdout",
     "output_type": "stream",
     "text": [
      "Accuracy: 0.6571588366890381\n",
      "Classification Report:\n",
      "              precision    recall  f1-score   support\n",
      "\n",
      "          -1       0.55      0.25      0.34       126\n",
      "           0       0.68      0.86      0.76      1094\n",
      "           1       0.59      0.36      0.44       568\n",
      "\n",
      "    accuracy                           0.66      1788\n",
      "   macro avg       0.61      0.49      0.51      1788\n",
      "weighted avg       0.64      0.66      0.63      1788\n",
      "\n",
      "Confusion Matrix:\n",
      "[[ 31  85  10]\n",
      " [ 19 941 134]\n",
      " [  6 359 203]]\n"
     ]
    }
   ],
   "source": [
    "from sklearn.linear_model import LogisticRegression\n",
    "# Initialize the classifier (e.g., Logistic Regression)\n",
    "# max_iter=1000, to give the optimization algorithm more iterations to converge.\n",
    "classifier = LogisticRegression(max_iter=1000, random_state=42)\n",
    "\n",
    "# Create an instance of the SentimentAnalysisModel class\n",
    "logistic_model = SentimentAnalysisModel(classifier)\n",
    "\n",
    "# Train the model on your training data\n",
    "logistic_model.train(X_train_resampled, y_train_resampled)\n",
    "\n",
    "# Evaluate the model on the test data\n",
    "accuracy, confusion, report = logistic_model.evaluate(X_test_tfidf, y_test)\n",
    "\n",
    "\n",
    "# Display the evaluation metrics and confusion matrix\n",
    "print(f\"Accuracy: {accuracy}\")\n",
    "print(\"Classification Report:\")\n",
    "print(report)\n",
    "\n",
    "# Display the confusion matrix\n",
    "print(\"Confusion Matrix:\")\n",
    "print(confusion)"
   ]
  },
  {
   "cell_type": "markdown",
   "metadata": {},
   "source": [
    "* Accuracy: The model achieved an accuracy of approximately 65.72%, which means it correctly predicted the sentiment labels for about 65.72% of the test samples.\n",
    "  \n",
    "* Confusion Matrix: The confusion matrix provides information about the model's performance for each sentiment class. It shows the number of true positive, true negative, false positive, and false negative predictions.\n",
    "  \n",
    "* For the \"-1\" sentiment class, the model predicted 30 true positives, 943 true negatives, and 202 false positives.\n",
    "  \n",
    "* For the \"0\" sentiment class, the model predicted 89 true positives, 943 true negatives, and 358 false positives.\n",
    "  \n",
    "* For the \"1\" sentiment class, the model predicted 7 true positives, 132 true negatives, and 202 false positives.\n",
    "\n",
    "However, upon closer examination, some areas for improvement become apparent. The model struggled particularly with correctly identifying the \"-1\" and \"1\" sentiment classes, where both precision and recall scores were relatively low compared to the \"0\" sentiment class. This suggests that the model's performance in distinguishing negative and highly positive sentiments could be enhanced."
   ]
  },
  {
   "cell_type": "markdown",
   "metadata": {},
   "source": [
    "### Model 2: Random Forest Classifier"
   ]
  },
  {
   "cell_type": "code",
   "execution_count": null,
   "metadata": {},
   "outputs": [
    {
     "data": {
      "image/png": "[encoded data removed]",
      "text/plain": [
       "<Figure size 800x600 with 1 Axes>"
      ]
     },
     "metadata": {},
     "output_type": "display_data"
    },
    {
     "name": "stdout",
     "output_type": "stream",
     "text": [
      "Accuracy: 0.6554809843400448\n",
      "Classification Report:\n",
      "              precision    recall  f1-score   support\n",
      "\n",
      "          -1       0.58      0.21      0.30       126\n",
      "           0       0.66      0.91      0.76      1094\n",
      "           1       0.63      0.27      0.38       568\n",
      "\n",
      "    accuracy                           0.66      1788\n",
      "   macro avg       0.62      0.46      0.48      1788\n",
      "weighted avg       0.65      0.66      0.61      1788\n",
      "\n",
      "Confusion Matrix:\n",
      "[[ 26  98   2]\n",
      " [ 15 991  88]\n",
      " [  4 409 155]]\n"
     ]
    }
   ],
   "source": [
    "from sklearn.ensemble import RandomForestClassifier\n",
    "\n",
    "# Initialize the Random Forest classifier\n",
    "rf_classifier = RandomForestClassifier(random_state=42)\n",
    "\n",
    "# Create a SentimentAnalysisModel object with the Random Forest classifier\n",
    "model_rf = SentimentAnalysisModel(rf_classifier)\n",
    "\n",
    "# Train the model on the resampled training data\n",
    "model_rf.train(X_train_resampled, y_train_resampled)\n",
    "\n",
    "# Evaluate the model on the test data\n",
    "accuracy_rf, confusion_rf, report_rf = model_rf.evaluate(X_test_tfidf, y_test)\n",
    "\n",
    "# Display the evaluation metrics and confusion matrix\n",
    "print(f\"Accuracy: {accuracy_rf}\")\n",
    "print(\"Classification Report:\")\n",
    "print(report_rf)\n",
    "\n",
    "# Display the confusion matrix\n",
    "print(\"Confusion Matrix:\")\n",
    "print(confusion_rf)\n",
    "\n",
    "\n"
   ]
  },
  {
   "cell_type": "markdown",
   "metadata": {},
   "source": [
    "***\n",
    "The Random Forest model achieved an accuracy of approximately 65.55% on the test data, which is slightly better than the baseline Logistic Regression model. Here is a break down the model's performance further:\n",
    "\n",
    "* For the negative class (-1), the precision is 0.58, indicating that when the model predicts a tweet as negative, it's correct about 58% of the time. The recall is 0.21, meaning the model only identifies 21% of actual negative tweets. The F1-score for this class is 0.30.\n",
    "\n",
    "* For the neutral class (0), the precision is 0.66, indicating that the model correctly predicts neutral tweets about 66% of the time. The recall is 0.91, meaning the model identifies 91% of actual neutral tweets. The F1-score for this class is 0.76, which is relatively good.\n",
    "\n",
    "* For the positive class (1), the precision is 0.64, indicating that when the model predicts a tweet as positive, it's correct about 64% of the time. The recall is 0.27, meaning the model only identifies 27% of actual positive tweets. The F1-score for this class is 0.38.\n",
    "\n",
    "Confusion Matrix: The confusion matrix provides a detailed breakdown of the model's predictions. It shows the following:\n",
    "\n",
    "* For the negative class (-1), there are 26 true negatives, 98 false positives, and 2 false negatives.\n",
    "\n",
    "* For the neutral class (0), there are 15 true negatives, 996 true positives, and 83 false negatives.\n",
    "\n",
    "* For the positive class (1), there are 4 true negatives, 410 true positives, and 154 false negatives.\n",
    "\n",
    "Overall Analysis: The Random Forest model shows improvement compared to the baseline model, particularly in terms of recall for the neutral class (0). However, it still struggles with the negative and positive classes, showing low recall values. This indicates that the model has difficulty correctly identifying tweets with negative and positive sentiments.\n",
    "\n",
    "Room for Improvement: Further model tuning and feature engineering may help improve its performance, considering experimentation with different machine learning algorithms to see if any other models perform better.\n",
    "***"
   ]
  },
  {
   "cell_type": "markdown",
   "metadata": {},
   "source": [
    "### Model 3: Support Vector Machine (SVM)"
   ]
  },
  {
   "cell_type": "code",
   "execution_count": null,
   "metadata": {},
   "outputs": [
    {
     "data": {
      "image/png": "[encoded data removed]",
      "text/plain": [
       "<Figure size 800x600 with 1 Axes>"
      ]
     },
     "metadata": {},
     "output_type": "display_data"
    },
    {
     "name": "stdout",
     "output_type": "stream",
     "text": [
      "Accuracy: 0.5844519015659956\n",
      "Classification Report:\n",
      "              precision    recall  f1-score   support\n",
      "\n",
      "          -1       0.54      0.22      0.31       126\n",
      "           0       0.70      0.65      0.68      1094\n",
      "           1       0.42      0.53      0.47       568\n",
      "\n",
      "    accuracy                           0.58      1788\n",
      "   macro avg       0.55      0.47      0.49      1788\n",
      "weighted avg       0.60      0.58      0.59      1788\n",
      "\n",
      "Confusion Matrix:\n",
      "[[ 28  40  58]\n",
      " [ 19 715 360]\n",
      " [  5 261 302]]\n"
     ]
    }
   ],
   "source": [
    "# Initialize the SVM classifier\n",
    "svm_classifier = SVC(random_state=42)\n",
    "\n",
    "# Create an instance of the SentimentAnalysisModel class for SVM\n",
    "model3 = SentimentAnalysisModel(svm_classifier)\n",
    "\n",
    "# Train the SVM model on the training data\n",
    "model3.train(X_train_resampled, y_train_resampled)\n",
    "\n",
    "# Evaluate the SVM model on the test data\n",
    "accuracy3, confusion3, report3 = model3.evaluate(X_test_tfidf, y_test)\n",
    "\n",
    "# Display the evaluation metrics and confusion matrix\n",
    "print(f\"Accuracy: {accuracy3}\")\n",
    "print(\"Classification Report:\")\n",
    "print(report3)\n",
    "\n",
    "# Display the confusion matrix\n",
    "print(\"Confusion Matrix:\")\n",
    "print(confusion3)"
   ]
  },
  {
   "cell_type": "markdown",
   "metadata": {},
   "source": [
    "***\n",
    "The Support Vector Machine (SVM) model achieved an accuracy of approximately 58.45% on the test data. Here is a breakdown of the model's performance:\n",
    "\n",
    "* For the negative class (-1), the precision is 0.54, indicating that when the model predicts a tweet as negative, it's correct about 54% of the time. The recall is 0.22, meaning the model only identifies 22% of actual negative tweets. The F1-score for this class is 0.31.\n",
    "\n",
    "* For the neutral class (0), the precision is 0.71, indicating that the model correctly predicts neutral tweets about 71% of the time. The recall is 0.64, meaning the model identifies 64% of actual neutral tweets. The F1-score for this class is 0.67, which is relatively good.\n",
    "\n",
    "* For the positive class (1), the precision is 0.42, indicating that when the model predicts a tweet as positive, it's correct about 42% of the time. The recall is 0.55, meaning the model identifies 55% of actual positive tweets. The F1-score for this class is 0.47.\n",
    "\n",
    "Confusion Matrix: The confusion matrix provides a detailed breakdown of the model's predictions. It shows the following:\n",
    "\n",
    "* For the negative class (-1), there are 28 true negatives, 34 false positives, and 64 false negatives.\n",
    "\n",
    "* For the neutral class (0), there are 19 true negatives, 700 true positives, and 375 false negatives.\n",
    "\n",
    "* For the positive class (1), there are 5 true negatives, 250 true positives, and 313 false negatives.\n",
    "\n",
    "Overall Analysis: The SVM model demonstrates reasonably good precision for the neutral class (0) but struggles with both the negative and positive classes, showing relatively low recall values. This indicates that the model has difficulty correctly identifying tweets with negative and positive sentiments.\n",
    "***"
   ]
  },
  {
   "cell_type": "markdown",
   "metadata": {},
   "source": [
    "### Model 4: Multinomial Naive Bayes classifier"
   ]
  },
  {
   "cell_type": "code",
   "execution_count": null,
   "metadata": {},
   "outputs": [
    {
     "data": {
      "image/png": "[encoded data removed]",
      "text/plain": [
       "<Figure size 800x600 with 1 Axes>"
      ]
     },
     "metadata": {},
     "output_type": "display_data"
    },
    {
     "name": "stdout",
     "output_type": "stream",
     "text": [
      "Accuracy: 0.4860178970917226\n",
      "Classification Report:\n",
      "              precision    recall  f1-score   support\n",
      "\n",
      "          -1       0.15      0.73      0.25       126\n",
      "           0       0.76      0.48      0.59      1094\n",
      "           1       0.53      0.44      0.48       568\n",
      "\n",
      "    accuracy                           0.49      1788\n",
      "   macro avg       0.48      0.55      0.44      1788\n",
      "weighted avg       0.64      0.49      0.53      1788\n",
      "\n",
      "Confusion Matrix:\n",
      "[[ 92  25   9]\n",
      " [358 528 208]\n",
      " [173 146 249]]\n"
     ]
    }
   ],
   "source": [
    "# Create an instance of the Multinomial Naive Bayes classifier\n",
    "model4 = MultinomialNB()\n",
    "\n",
    "# Create an instance of the SentimentAnalysisModel class\n",
    "sentiment_model_nb = SentimentAnalysisModel(model4)\n",
    "\n",
    "# Train the sentiment model\n",
    "sentiment_model_nb.train(X_train_resampled, y_train_resampled)\n",
    "\n",
    "# Evaluate the model on the test data\n",
    "accuracy_nb, confusion_nb, report_nb = sentiment_model_nb.evaluate(X_test_tfidf, y_test)\n",
    "\n",
    "# Display the evaluation metrics and confusion matrix\n",
    "print(f\"Accuracy: {accuracy_nb}\")\n",
    "print(\"Classification Report:\")\n",
    "print(report_nb)\n",
    "\n",
    "# Display the confusion matrix\n",
    "print(\"Confusion Matrix:\")\n",
    "print(confusion_nb)"
   ]
  },
  {
   "cell_type": "markdown",
   "metadata": {},
   "source": [
    "***\n",
    "The Multinomial Naive Bayes model achieved an accuracy of approximately 48.60% on the test data. Here is a breakdown of the model's performance:\n",
    "\n",
    "* For the negative class (-1), the precision is 0.15, indicating that when the model predicts a tweet as negative, it's correct about 15% of the time. The recall is 0.73, meaning the model identifies 73% of actual negative tweets. The F1-score for this class is 0.25.\n",
    "\n",
    "* For the neutral class (0), the precision is 0.76, indicating that the model correctly predicts neutral tweets about 76% of the time. The recall is 0.48, meaning the model identifies 48% of actual neutral tweets. The F1-score for this class is 0.59, which is relatively good.\n",
    "\n",
    "* For the positive class (1), the precision is 0.53, indicating that when the model predicts a tweet as positive, it's correct about 53% of the time. The recall is 0.44, meaning the model identifies 44% of actual positive tweets. The F1-score for this class is 0.48.\n",
    "\n",
    "Overall Analysis: The Multinomial Naive Bayes model shows a balanced performance across precision and recall for the neutral class (0), but it struggles with the negative and positive classes. It has low precision for the negative class and low recall for the positive class.\n",
    "\n",
    "Room for Improvement: Further model tuning, feature engineering, or experimentation with different algorithms may help improve the model's performance, especially for the negative and positive sentiment classes.\n",
    "***"
   ]
  },
  {
   "cell_type": "markdown",
   "metadata": {},
   "source": [
    "### Model 5: Hyperparameter Tuning\n",
    "***\n",
    "Hyperparameter tuning is an essential step to optimize the performance of our initial models. We can use techniques like Grid Search or Random Search to find the best combination of hyperparameters. Below, the code shows how to perform hyperparameter tuning for the Random Forest model which performed averagely:\n",
    "***"
   ]
  },
  {
   "cell_type": "code",
   "execution_count": null,
   "metadata": {},
   "outputs": [
    {
     "name": "stdout",
     "output_type": "stream",
     "text": [
      "Test Accuracy: 0.6532438478747203\n"
     ]
    }
   ],
   "source": [
    "from sklearn.ensemble import RandomForestClassifier\n",
    "\n",
    "# Create the model with your chosen hyperparameters\n",
    "rf_model = RandomForestClassifier(\n",
    "    n_estimators=100,  # Number of trees in the forest\n",
    "    max_depth=None,    # Maximum depth of each tree (None means no maximum)\n",
    "    min_samples_split=2,  # Minimum number of samples required to split an internal node\n",
    "    min_samples_leaf=1,   # Minimum number of samples required to be at a leaf node\n",
    "    bootstrap=True        # Whether to use bootstrap samples when building trees\n",
    ")\n",
    "\n",
    "# Fit the model to your training data\n",
    "rf_model.fit(X_train_tfidf, y_train)\n",
    "\n",
    "# Evaluate the model on your test data\n",
    "accuracy = rf_model.score(X_test_tfidf, y_test)\n",
    "\n",
    "print(\"Test Accuracy:\", accuracy)\n"
   ]
  },
  {
   "cell_type": "markdown",
   "metadata": {},
   "source": [
    "***\n",
    "Logistic Regression, Random Forest, and Tuned Random Forest models have exhibited fair performances in sentiment analysis. However, to explore the potential for further improvements and capture more complex patterns in the data, we will now explore the application of a deep learning model.\n",
    "***"
   ]
  },
  {
   "cell_type": "markdown",
   "metadata": {},
   "source": [
    "### Model 6: Deep Learning Model"
   ]
  },
  {
   "cell_type": "code",
   "execution_count": null,
   "metadata": {},
   "outputs": [
    {
     "name": "stdout",
     "output_type": "stream",
     "text": [
      "Collecting tensorflow-ioNote: you may need to restart the kernel to use updated packages.\n",
      "\n",
      "  Downloading tensorflow_io-0.31.0-cp38-cp38-win_amd64.whl (22.9 MB)\n",
      "Collecting tensorflow-io-gcs-filesystem==0.31.0\n",
      "  Using cached tensorflow_io_gcs_filesystem-0.31.0-cp38-cp38-win_amd64.whl (1.5 MB)\n",
      "Installing collected packages: tensorflow-io-gcs-filesystem, tensorflow-io\n",
      "Successfully installed tensorflow-io-0.31.0 tensorflow-io-gcs-filesystem-0.31.0\n"
     ]
    }
   ],
   "source": [
    "pip install tensorflow-io"
   ]
  },
  {
   "cell_type": "code",
   "execution_count": null,
   "metadata": {},
   "outputs": [
    {
     "name": "stdout",
     "output_type": "stream",
     "text": [
      "WARNING:tensorflow:Keras is training/fitting/evaluating on array-like data. Keras may not be optimized for this format, so if your input data format is supported by TensorFlow I/O (https://github.com/tensorflow/io) we recommend using that to load a Dataset instead.\n",
      "Epoch 1/10\n"
     ]
    },
    {
     "ename": "InvalidArgumentError",
     "evalue": " TypeError: 'SparseTensor' object is not subscriptable\nTraceback (most recent call last):\n\n  File \"c:\\Users\\kinut\\anaconda3\\envs\\learn-env\\lib\\site-packages\\tensorflow\\python\\ops\\script_ops.py\", line 242, in __call__\n    return func(device, token, args)\n\n  File \"c:\\Users\\kinut\\anaconda3\\envs\\learn-env\\lib\\site-packages\\tensorflow\\python\\ops\\script_ops.py\", line 131, in __call__\n    ret = self._func(*args)\n\n  File \"c:\\Users\\kinut\\anaconda3\\envs\\learn-env\\lib\\site-packages\\tensorflow\\python\\autograph\\impl\\api.py\", line 302, in wrapper\n    return func(*args, **kwargs)\n\n  File \"c:\\Users\\kinut\\anaconda3\\envs\\learn-env\\lib\\site-packages\\tensorflow\\python\\keras\\engine\\data_adapter.py\", line 513, in py_method\n    return [slice_array(inp) for inp in flat_inputs]\n\n  File \"c:\\Users\\kinut\\anaconda3\\envs\\learn-env\\lib\\site-packages\\tensorflow\\python\\keras\\engine\\data_adapter.py\", line 513, in <listcomp>\n    return [slice_array(inp) for inp in flat_inputs]\n\n  File \"c:\\Users\\kinut\\anaconda3\\envs\\learn-env\\lib\\site-packages\\tensorflow\\python\\keras\\engine\\data_adapter.py\", line 511, in slice_array\n    return training_utils.slice_arrays(data, ind.numpy(),\n\n  File \"c:\\Users\\kinut\\anaconda3\\envs\\learn-env\\lib\\site-packages\\tensorflow\\python\\keras\\engine\\training_utils.py\", line 391, in slice_arrays\n    entries = [[x[i:i + 1] for i in indices] for x in arrays]\n\n  File \"c:\\Users\\kinut\\anaconda3\\envs\\learn-env\\lib\\site-packages\\tensorflow\\python\\keras\\engine\\training_utils.py\", line 391, in <listcomp>\n    entries = [[x[i:i + 1] for i in indices] for x in arrays]\n\n  File \"c:\\Users\\kinut\\anaconda3\\envs\\learn-env\\lib\\site-packages\\tensorflow\\python\\keras\\engine\\training_utils.py\", line 391, in <listcomp>\n    entries = [[x[i:i + 1] for i in indices] for x in arrays]\n\nTypeError: 'SparseTensor' object is not subscriptable\n\n\n\t [[{{node EagerPyFunc}}]]\n\t [[IteratorGetNext]] [Op:__inference_train_function_11980]\n\nFunction call stack:\ntrain_function\n",
     "output_type": "error",
     "traceback": [
      "\u001b[1;31m---------------------------------------------------------------------------\u001b[0m",
      "\u001b[1;31mInvalidArgumentError\u001b[0m                      Traceback (most recent call last)",
      "\u001b[1;32mc:\\Users\\kinut\\Documents\\Flatiron\\Phase-4-Project-\\index.ipynb Cell 84\u001b[0m line \u001b[0;36m1\n\u001b[0;32m     <a href='vscode-notebook-cell:/c%3A/Users/kinut/Documents/Flatiron/Phase-4-Project-/index.ipynb#Y236sZmlsZQ%3D%3D?line=12'>13</a>\u001b[0m model\u001b[39m.\u001b[39mcompile(loss\u001b[39m=\u001b[39m\u001b[39m'\u001b[39m\u001b[39mbinary_crossentropy\u001b[39m\u001b[39m'\u001b[39m, optimizer\u001b[39m=\u001b[39m\u001b[39m'\u001b[39m\u001b[39madam\u001b[39m\u001b[39m'\u001b[39m, metrics\u001b[39m=\u001b[39m[\u001b[39m'\u001b[39m\u001b[39maccuracy\u001b[39m\u001b[39m'\u001b[39m])\n\u001b[0;32m     <a href='vscode-notebook-cell:/c%3A/Users/kinut/Documents/Flatiron/Phase-4-Project-/index.ipynb#Y236sZmlsZQ%3D%3D?line=14'>15</a>\u001b[0m \u001b[39m# Train the model\u001b[39;00m\n\u001b[1;32m---> <a href='vscode-notebook-cell:/c%3A/Users/kinut/Documents/Flatiron/Phase-4-Project-/index.ipynb#Y236sZmlsZQ%3D%3D?line=15'>16</a>\u001b[0m model\u001b[39m.\u001b[39;49mfit(X_train_resampled, y_train_resampled, epochs\u001b[39m=\u001b[39;49m\u001b[39m10\u001b[39;49m, batch_size\u001b[39m=\u001b[39;49m\u001b[39m32\u001b[39;49m, validation_data\u001b[39m=\u001b[39;49m(X_train_tfidf, y_train))\n",
      "File \u001b[1;32mc:\\Users\\kinut\\anaconda3\\envs\\learn-env\\lib\\site-packages\\tensorflow\\python\\keras\\engine\\training.py:108\u001b[0m, in \u001b[0;36menable_multi_worker.<locals>._method_wrapper\u001b[1;34m(self, *args, **kwargs)\u001b[0m\n\u001b[0;32m    106\u001b[0m \u001b[39mdef\u001b[39;00m \u001b[39m_method_wrapper\u001b[39m(\u001b[39mself\u001b[39m, \u001b[39m*\u001b[39margs, \u001b[39m*\u001b[39m\u001b[39m*\u001b[39mkwargs):\n\u001b[0;32m    107\u001b[0m   \u001b[39mif\u001b[39;00m \u001b[39mnot\u001b[39;00m \u001b[39mself\u001b[39m\u001b[39m.\u001b[39m_in_multi_worker_mode():  \u001b[39m# pylint: disable=protected-access\u001b[39;00m\n\u001b[1;32m--> 108\u001b[0m     \u001b[39mreturn\u001b[39;00m method(\u001b[39mself\u001b[39;49m, \u001b[39m*\u001b[39;49margs, \u001b[39m*\u001b[39;49m\u001b[39m*\u001b[39;49mkwargs)\n\u001b[0;32m    110\u001b[0m   \u001b[39m# Running inside `run_distribute_coordinator` already.\u001b[39;00m\n\u001b[0;32m    111\u001b[0m   \u001b[39mif\u001b[39;00m dc_context\u001b[39m.\u001b[39mget_current_worker_context():\n",
      "File \u001b[1;32mc:\\Users\\kinut\\anaconda3\\envs\\learn-env\\lib\\site-packages\\tensorflow\\python\\keras\\engine\\training.py:1098\u001b[0m, in \u001b[0;36mModel.fit\u001b[1;34m(self, x, y, batch_size, epochs, verbose, callbacks, validation_split, validation_data, shuffle, class_weight, sample_weight, initial_epoch, steps_per_epoch, validation_steps, validation_batch_size, validation_freq, max_queue_size, workers, use_multiprocessing)\u001b[0m\n\u001b[0;32m   1091\u001b[0m \u001b[39mwith\u001b[39;00m trace\u001b[39m.\u001b[39mTrace(\n\u001b[0;32m   1092\u001b[0m     \u001b[39m'\u001b[39m\u001b[39mTraceContext\u001b[39m\u001b[39m'\u001b[39m,\n\u001b[0;32m   1093\u001b[0m     graph_type\u001b[39m=\u001b[39m\u001b[39m'\u001b[39m\u001b[39mtrain\u001b[39m\u001b[39m'\u001b[39m,\n\u001b[0;32m   1094\u001b[0m     epoch_num\u001b[39m=\u001b[39mepoch,\n\u001b[0;32m   1095\u001b[0m     step_num\u001b[39m=\u001b[39mstep,\n\u001b[0;32m   1096\u001b[0m     batch_size\u001b[39m=\u001b[39mbatch_size):\n\u001b[0;32m   1097\u001b[0m   callbacks\u001b[39m.\u001b[39mon_train_batch_begin(step)\n\u001b[1;32m-> 1098\u001b[0m   tmp_logs \u001b[39m=\u001b[39m train_function(iterator)\n\u001b[0;32m   1099\u001b[0m   \u001b[39mif\u001b[39;00m data_handler\u001b[39m.\u001b[39mshould_sync:\n\u001b[0;32m   1100\u001b[0m     context\u001b[39m.\u001b[39masync_wait()\n",
      "File \u001b[1;32mc:\\Users\\kinut\\anaconda3\\envs\\learn-env\\lib\\site-packages\\tensorflow\\python\\eager\\def_function.py:780\u001b[0m, in \u001b[0;36mFunction.__call__\u001b[1;34m(self, *args, **kwds)\u001b[0m\n\u001b[0;32m    778\u001b[0m \u001b[39melse\u001b[39;00m:\n\u001b[0;32m    779\u001b[0m   compiler \u001b[39m=\u001b[39m \u001b[39m\"\u001b[39m\u001b[39mnonXla\u001b[39m\u001b[39m\"\u001b[39m\n\u001b[1;32m--> 780\u001b[0m   result \u001b[39m=\u001b[39m \u001b[39mself\u001b[39;49m\u001b[39m.\u001b[39;49m_call(\u001b[39m*\u001b[39;49margs, \u001b[39m*\u001b[39;49m\u001b[39m*\u001b[39;49mkwds)\n\u001b[0;32m    782\u001b[0m new_tracing_count \u001b[39m=\u001b[39m \u001b[39mself\u001b[39m\u001b[39m.\u001b[39m_get_tracing_count()\n\u001b[0;32m    783\u001b[0m without_tracing \u001b[39m=\u001b[39m (tracing_count \u001b[39m==\u001b[39m new_tracing_count)\n",
      "File \u001b[1;32mc:\\Users\\kinut\\anaconda3\\envs\\learn-env\\lib\\site-packages\\tensorflow\\python\\eager\\def_function.py:840\u001b[0m, in \u001b[0;36mFunction._call\u001b[1;34m(self, *args, **kwds)\u001b[0m\n\u001b[0;32m    836\u001b[0m     \u001b[39mpass\u001b[39;00m  \u001b[39m# Fall through to cond-based initialization.\u001b[39;00m\n\u001b[0;32m    837\u001b[0m   \u001b[39melse\u001b[39;00m:\n\u001b[0;32m    838\u001b[0m     \u001b[39m# Lifting succeeded, so variables are initialized and we can run the\u001b[39;00m\n\u001b[0;32m    839\u001b[0m     \u001b[39m# stateless function.\u001b[39;00m\n\u001b[1;32m--> 840\u001b[0m     \u001b[39mreturn\u001b[39;00m \u001b[39mself\u001b[39;49m\u001b[39m.\u001b[39;49m_stateless_fn(\u001b[39m*\u001b[39;49margs, \u001b[39m*\u001b[39;49m\u001b[39m*\u001b[39;49mkwds)\n\u001b[0;32m    841\u001b[0m \u001b[39melse\u001b[39;00m:\n\u001b[0;32m    842\u001b[0m   canon_args, canon_kwds \u001b[39m=\u001b[39m \\\n\u001b[0;32m    843\u001b[0m       \u001b[39mself\u001b[39m\u001b[39m.\u001b[39m_stateful_fn\u001b[39m.\u001b[39m_function_spec\u001b[39m.\u001b[39mcanonicalize_function_inputs(  \u001b[39m# pylint: disable=protected-access\u001b[39;00m\n\u001b[0;32m    844\u001b[0m           \u001b[39m*\u001b[39margs, \u001b[39m*\u001b[39m\u001b[39m*\u001b[39mkwds)\n",
      "File \u001b[1;32mc:\\Users\\kinut\\anaconda3\\envs\\learn-env\\lib\\site-packages\\tensorflow\\python\\eager\\function.py:2829\u001b[0m, in \u001b[0;36mFunction.__call__\u001b[1;34m(self, *args, **kwargs)\u001b[0m\n\u001b[0;32m   2827\u001b[0m \u001b[39mwith\u001b[39;00m \u001b[39mself\u001b[39m\u001b[39m.\u001b[39m_lock:\n\u001b[0;32m   2828\u001b[0m   graph_function, args, kwargs \u001b[39m=\u001b[39m \u001b[39mself\u001b[39m\u001b[39m.\u001b[39m_maybe_define_function(args, kwargs)\n\u001b[1;32m-> 2829\u001b[0m \u001b[39mreturn\u001b[39;00m graph_function\u001b[39m.\u001b[39;49m_filtered_call(args, kwargs)\n",
      "File \u001b[1;32mc:\\Users\\kinut\\anaconda3\\envs\\learn-env\\lib\\site-packages\\tensorflow\\python\\eager\\function.py:1843\u001b[0m, in \u001b[0;36mConcreteFunction._filtered_call\u001b[1;34m(self, args, kwargs, cancellation_manager)\u001b[0m\n\u001b[0;32m   1827\u001b[0m \u001b[39mdef\u001b[39;00m \u001b[39m_filtered_call\u001b[39m(\u001b[39mself\u001b[39m, args, kwargs, cancellation_manager\u001b[39m=\u001b[39m\u001b[39mNone\u001b[39;00m):\n\u001b[0;32m   1828\u001b[0m \u001b[39m  \u001b[39m\u001b[39m\"\"\"Executes the function, filtering arguments from the Python function.\u001b[39;00m\n\u001b[0;32m   1829\u001b[0m \n\u001b[0;32m   1830\u001b[0m \u001b[39m  Objects aside from Tensors, CompositeTensors, and Variables are ignored.\u001b[39;00m\n\u001b[1;32m   (...)\u001b[0m\n\u001b[0;32m   1841\u001b[0m \u001b[39m    `args` and `kwargs`.\u001b[39;00m\n\u001b[0;32m   1842\u001b[0m \u001b[39m  \"\"\"\u001b[39;00m\n\u001b[1;32m-> 1843\u001b[0m   \u001b[39mreturn\u001b[39;00m \u001b[39mself\u001b[39;49m\u001b[39m.\u001b[39;49m_call_flat(\n\u001b[0;32m   1844\u001b[0m       [t \u001b[39mfor\u001b[39;49;00m t \u001b[39min\u001b[39;49;00m nest\u001b[39m.\u001b[39;49mflatten((args, kwargs), expand_composites\u001b[39m=\u001b[39;49m\u001b[39mTrue\u001b[39;49;00m)\n\u001b[0;32m   1845\u001b[0m        \u001b[39mif\u001b[39;49;00m \u001b[39misinstance\u001b[39;49m(t, (ops\u001b[39m.\u001b[39;49mTensor,\n\u001b[0;32m   1846\u001b[0m                          resource_variable_ops\u001b[39m.\u001b[39;49mBaseResourceVariable))],\n\u001b[0;32m   1847\u001b[0m       captured_inputs\u001b[39m=\u001b[39;49m\u001b[39mself\u001b[39;49m\u001b[39m.\u001b[39;49mcaptured_inputs,\n\u001b[0;32m   1848\u001b[0m       cancellation_manager\u001b[39m=\u001b[39;49mcancellation_manager)\n",
      "File \u001b[1;32mc:\\Users\\kinut\\anaconda3\\envs\\learn-env\\lib\\site-packages\\tensorflow\\python\\eager\\function.py:1923\u001b[0m, in \u001b[0;36mConcreteFunction._call_flat\u001b[1;34m(self, args, captured_inputs, cancellation_manager)\u001b[0m\n\u001b[0;32m   1918\u001b[0m possible_gradient_type \u001b[39m=\u001b[39m (\n\u001b[0;32m   1919\u001b[0m     pywrap_tfe\u001b[39m.\u001b[39mTFE_Py_TapeSetPossibleGradientTypes(args))\n\u001b[0;32m   1920\u001b[0m \u001b[39mif\u001b[39;00m (possible_gradient_type \u001b[39m==\u001b[39m _POSSIBLE_GRADIENT_TYPES_NONE\n\u001b[0;32m   1921\u001b[0m     \u001b[39mand\u001b[39;00m executing_eagerly):\n\u001b[0;32m   1922\u001b[0m   \u001b[39m# No tape is watching; skip to running the function.\u001b[39;00m\n\u001b[1;32m-> 1923\u001b[0m   \u001b[39mreturn\u001b[39;00m \u001b[39mself\u001b[39m\u001b[39m.\u001b[39m_build_call_outputs(\u001b[39mself\u001b[39;49m\u001b[39m.\u001b[39;49m_inference_function\u001b[39m.\u001b[39;49mcall(\n\u001b[0;32m   1924\u001b[0m       ctx, args, cancellation_manager\u001b[39m=\u001b[39;49mcancellation_manager))\n\u001b[0;32m   1925\u001b[0m forward_backward \u001b[39m=\u001b[39m \u001b[39mself\u001b[39m\u001b[39m.\u001b[39m_select_forward_and_backward_functions(\n\u001b[0;32m   1926\u001b[0m     args,\n\u001b[0;32m   1927\u001b[0m     possible_gradient_type,\n\u001b[0;32m   1928\u001b[0m     executing_eagerly)\n\u001b[0;32m   1929\u001b[0m forward_function, args_with_tangents \u001b[39m=\u001b[39m forward_backward\u001b[39m.\u001b[39mforward()\n",
      "File \u001b[1;32mc:\\Users\\kinut\\anaconda3\\envs\\learn-env\\lib\\site-packages\\tensorflow\\python\\eager\\function.py:545\u001b[0m, in \u001b[0;36m_EagerDefinedFunction.call\u001b[1;34m(self, ctx, args, cancellation_manager)\u001b[0m\n\u001b[0;32m    543\u001b[0m \u001b[39mwith\u001b[39;00m _InterpolateFunctionError(\u001b[39mself\u001b[39m):\n\u001b[0;32m    544\u001b[0m   \u001b[39mif\u001b[39;00m cancellation_manager \u001b[39mis\u001b[39;00m \u001b[39mNone\u001b[39;00m:\n\u001b[1;32m--> 545\u001b[0m     outputs \u001b[39m=\u001b[39m execute\u001b[39m.\u001b[39;49mexecute(\n\u001b[0;32m    546\u001b[0m         \u001b[39mstr\u001b[39;49m(\u001b[39mself\u001b[39;49m\u001b[39m.\u001b[39;49msignature\u001b[39m.\u001b[39;49mname),\n\u001b[0;32m    547\u001b[0m         num_outputs\u001b[39m=\u001b[39;49m\u001b[39mself\u001b[39;49m\u001b[39m.\u001b[39;49m_num_outputs,\n\u001b[0;32m    548\u001b[0m         inputs\u001b[39m=\u001b[39;49margs,\n\u001b[0;32m    549\u001b[0m         attrs\u001b[39m=\u001b[39;49mattrs,\n\u001b[0;32m    550\u001b[0m         ctx\u001b[39m=\u001b[39;49mctx)\n\u001b[0;32m    551\u001b[0m   \u001b[39melse\u001b[39;00m:\n\u001b[0;32m    552\u001b[0m     outputs \u001b[39m=\u001b[39m execute\u001b[39m.\u001b[39mexecute_with_cancellation(\n\u001b[0;32m    553\u001b[0m         \u001b[39mstr\u001b[39m(\u001b[39mself\u001b[39m\u001b[39m.\u001b[39msignature\u001b[39m.\u001b[39mname),\n\u001b[0;32m    554\u001b[0m         num_outputs\u001b[39m=\u001b[39m\u001b[39mself\u001b[39m\u001b[39m.\u001b[39m_num_outputs,\n\u001b[1;32m   (...)\u001b[0m\n\u001b[0;32m    557\u001b[0m         ctx\u001b[39m=\u001b[39mctx,\n\u001b[0;32m    558\u001b[0m         cancellation_manager\u001b[39m=\u001b[39mcancellation_manager)\n",
      "File \u001b[1;32mc:\\Users\\kinut\\anaconda3\\envs\\learn-env\\lib\\site-packages\\tensorflow\\python\\eager\\execute.py:59\u001b[0m, in \u001b[0;36mquick_execute\u001b[1;34m(op_name, num_outputs, inputs, attrs, ctx, name)\u001b[0m\n\u001b[0;32m     57\u001b[0m \u001b[39mtry\u001b[39;00m:\n\u001b[0;32m     58\u001b[0m   ctx\u001b[39m.\u001b[39mensure_initialized()\n\u001b[1;32m---> 59\u001b[0m   tensors \u001b[39m=\u001b[39m pywrap_tfe\u001b[39m.\u001b[39;49mTFE_Py_Execute(ctx\u001b[39m.\u001b[39;49m_handle, device_name, op_name,\n\u001b[0;32m     60\u001b[0m                                       inputs, attrs, num_outputs)\n\u001b[0;32m     61\u001b[0m \u001b[39mexcept\u001b[39;00m core\u001b[39m.\u001b[39m_NotOkStatusException \u001b[39mas\u001b[39;00m e:\n\u001b[0;32m     62\u001b[0m   \u001b[39mif\u001b[39;00m name \u001b[39mis\u001b[39;00m \u001b[39mnot\u001b[39;00m \u001b[39mNone\u001b[39;00m:\n",
      "\u001b[1;31mInvalidArgumentError\u001b[0m:  TypeError: 'SparseTensor' object is not subscriptable\nTraceback (most recent call last):\n\n  File \"c:\\Users\\kinut\\anaconda3\\envs\\learn-env\\lib\\site-packages\\tensorflow\\python\\ops\\script_ops.py\", line 242, in __call__\n    return func(device, token, args)\n\n  File \"c:\\Users\\kinut\\anaconda3\\envs\\learn-env\\lib\\site-packages\\tensorflow\\python\\ops\\script_ops.py\", line 131, in __call__\n    ret = self._func(*args)\n\n  File \"c:\\Users\\kinut\\anaconda3\\envs\\learn-env\\lib\\site-packages\\tensorflow\\python\\autograph\\impl\\api.py\", line 302, in wrapper\n    return func(*args, **kwargs)\n\n  File \"c:\\Users\\kinut\\anaconda3\\envs\\learn-env\\lib\\site-packages\\tensorflow\\python\\keras\\engine\\data_adapter.py\", line 513, in py_method\n    return [slice_array(inp) for inp in flat_inputs]\n\n  File \"c:\\Users\\kinut\\anaconda3\\envs\\learn-env\\lib\\site-packages\\tensorflow\\python\\keras\\engine\\data_adapter.py\", line 513, in <listcomp>\n    return [slice_array(inp) for inp in flat_inputs]\n\n  File \"c:\\Users\\kinut\\anaconda3\\envs\\learn-env\\lib\\site-packages\\tensorflow\\python\\keras\\engine\\data_adapter.py\", line 511, in slice_array\n    return training_utils.slice_arrays(data, ind.numpy(),\n\n  File \"c:\\Users\\kinut\\anaconda3\\envs\\learn-env\\lib\\site-packages\\tensorflow\\python\\keras\\engine\\training_utils.py\", line 391, in slice_arrays\n    entries = [[x[i:i + 1] for i in indices] for x in arrays]\n\n  File \"c:\\Users\\kinut\\anaconda3\\envs\\learn-env\\lib\\site-packages\\tensorflow\\python\\keras\\engine\\training_utils.py\", line 391, in <listcomp>\n    entries = [[x[i:i + 1] for i in indices] for x in arrays]\n\n  File \"c:\\Users\\kinut\\anaconda3\\envs\\learn-env\\lib\\site-packages\\tensorflow\\python\\keras\\engine\\training_utils.py\", line 391, in <listcomp>\n    entries = [[x[i:i + 1] for i in indices] for x in arrays]\n\nTypeError: 'SparseTensor' object is not subscriptable\n\n\n\t [[{{node EagerPyFunc}}]]\n\t [[IteratorGetNext]] [Op:__inference_train_function_11980]\n\nFunction call stack:\ntrain_function\n"
     ]
    }
   ],
   "source": [
    "import tensorflow as tf\n",
    "from tensorflow.keras.models import Sequential\n",
    "from tensorflow.keras.layers import Dense, Dropout, Embedding, LSTM\n",
    "\n",
    "# Define the model\n",
    "model = Sequential()\n",
    "model.add(Embedding(input_dim=X_train_tfidf.shape[1], output_dim=128))\n",
    "model.add(LSTM(64))\n",
    "model.add(Dropout(0.5))\n",
    "model.add(Dense(1, activation='sigmoid'))\n",
    "\n",
    "# Compile the model\n",
    "model.compile(loss='binary_crossentropy', optimizer='adam', metrics=['accuracy'])\n",
    "\n",
    "# Train the model\n",
    "model.fit(X_train_resampled, y_train_resampled, epochs=10, batch_size=32, validation_data=(X_train_tfidf, y_train))"
   ]
  }
 ],
 "metadata": {
  "kernelspec": {
   "display_name": "learn-env",
   "language": "python",
   "name": "python3"
  },
  "language_info": {
   "codemirror_mode": {
    "name": "ipython",
    "version": 3
   },
   "file_extension": ".py",
   "mimetype": "text/x-python",
   "name": "python",
   "nbconvert_exporter": "python",
   "pygments_lexer": "ipython3",
   "version": "3.8.5"
  },
  "orig_nbformat": 4
 },
 "nbformat": 4,
 "nbformat_minor": 2
}
